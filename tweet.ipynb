{
 "cells": [
  {
   "cell_type": "code",
   "execution_count": 245,
   "metadata": {},
   "outputs": [
    {
     "ename": "ImportError",
     "evalue": "cannot import name 'cross_validation' from 'sklearn' (C:\\Users\\HP\\Anaconda3\\envs\\Rssi\\lib\\site-packages\\sklearn\\__init__.py)",
     "output_type": "error",
     "traceback": [
      "\u001b[1;31m---------------------------------------------------------------------------\u001b[0m",
      "\u001b[1;31mImportError\u001b[0m                               Traceback (most recent call last)",
      "\u001b[1;32m<ipython-input-245-9b33839aea87>\u001b[0m in \u001b[0;36m<module>\u001b[1;34m\u001b[0m\n\u001b[0;32m      8\u001b[0m \u001b[1;32mimport\u001b[0m \u001b[0mtweepy\u001b[0m\u001b[1;33m\u001b[0m\u001b[1;33m\u001b[0m\u001b[0m\n\u001b[0;32m      9\u001b[0m \u001b[1;32mimport\u001b[0m \u001b[0mpickle\u001b[0m\u001b[1;33m\u001b[0m\u001b[1;33m\u001b[0m\u001b[0m\n\u001b[1;32m---> 10\u001b[1;33m \u001b[1;32mfrom\u001b[0m \u001b[0msklearn\u001b[0m \u001b[1;32mimport\u001b[0m \u001b[0mcross_validation\u001b[0m\u001b[1;33m\u001b[0m\u001b[1;33m\u001b[0m\u001b[0m\n\u001b[0m",
      "\u001b[1;31mImportError\u001b[0m: cannot import name 'cross_validation' from 'sklearn' (C:\\Users\\HP\\Anaconda3\\envs\\Rssi\\lib\\site-packages\\sklearn\\__init__.py)"
     ]
    }
   ],
   "source": [
    "import pandas as pd\n",
    "import numpy as np\n",
    "from nltk.corpus import stopwords\n",
    "import nltk\n",
    "import re\n",
    "import string\n",
    "import seaborn as sns\n",
    "import tweepy\n",
    "import pickle\n"
   ]
  },
  {
   "cell_type": "markdown",
   "metadata": {},
   "source": [
    "1-1000 and 3000-4000 and 6000-8000 train set "
   ]
  },
  {
   "cell_type": "code",
   "execution_count": 17,
   "metadata": {},
   "outputs": [
    {
     "name": "stdout",
     "output_type": "stream",
     "text": [
      "x => ['Wuhan has been in complete quarantine for over 8 weeks. People here are still going about their daily lives as no… ', \"  You can no longer defend this.Make up any excuse or reasoning you want, it's intentional and it's racist.\", '  Everyone in this looks sick', '  Good.It came from China.', '  Corona day 3: it just feels like Sunday again and...again', '  Close up of President  notes is seen where he crossed out \"Corona\" and replaced it with \"Chinese\" Virus…', 'Pretty much any corona virus germ that wants to or has entered my body these passed hours are all being bodied by t… ', '  China’s irresponsible and criminal behavior in the wake of COVID-19 will leave it in its weakest global position in mem…', '  Pls RT. Dear  news &amp; press conferences around the country during this Corona Virus Emergency have  sign langua…', \"  Lets start a resource thread for loans and grants for small businesses affected by corona. We'll start: (PLEASE SHARE)…\", '  There was a nasty flu that went round in December / early Jan. I’m telling you, that was corona. Bare ppl were sick (includ…', '  Corona day 3: it just feels like Sunday again and...again', \"  #PTTEmekcileriRiskAltinda the corona is very dangerous so don't come to the post office\", ' _aros: Mayorkun is somewhere in the studio singing \"Ramona, this your body dey killing person like Corona\"', \" But are these measures enough? I don't think so. 120 bed capacity,not good. How about the whole fac… \", '   Yes! And where the hell are these? Jack Ma donated 500,000 testing kits and 1 million masks.  #WhereAreTheMask…', '  Among other things, what this shows is they\\'re using the term \"the coronavirus\" internally like everyone else and are throwing…', \"  They're trying to spur a culture war to distract from their own incompetence. So you don't notice them:firing professi…\", '  My dick is Bigger than Corona virusMy dick is Bigger than Corona virusMy dick is Bigger than Corona virusMy dick is…', '  Me at my funeral when I hear Messi dropped a 6.2 rating on SofaScore  ', '  Everyone in this looks sick', ' _: 2 weeks? it’s a fucking global pandemic not a hamstring strain.', '  There you have it.Proof that this is an intentional tactic. Trump et al are trying to bait us into fighting over his raci…', '  *Non-Corona content*: The Patriot missile, its overuse, and the Middle East.  Give yourself a break from pandemic cove…', '  This is Generation Z. I want to name that because folks love calling everybody 40 and under Millennials.Millennials…', '  holy shit I hate every person in this video', '  #Corona: I cldn’t wind up the day, without visiting #RGGH to check d health progress of Covid19 Pts . Am glad to see t…', \"  If he wasn't so vain as to eschew wearing the glasses he OBVIOUSLY needs, the font wouldn't be so big, and we wouldn't h…\", '  Holy shit. This is not fake news.', '  The only man who can save us from corona virus ', ' _Men12: Somebody check on this mans cte', '   I’ve been admiring how you are dealing with customers since this whole corona virus started. However today…', '  Disgusting. But let’s clutch our pearls bc ’s riff on #bebest These ppl are actively killing Americans.', '  Photo of  briefing papers from today shows \"corona\" crossed out and \"Chinese\" written in his sharpie h…', '  this incompetent racist asshole', 'My 87 year old stepmom was admitted to Memorial Hospital Belleville,Illinois last night with a fever and coughing a… ', 'I literally just said this lmaoooo ', '  holy shit I hate every person in this video', '  Day 5: We have rediscovered farming', '  Day 5: We have rediscovered farming', '  We must bring Taiwan fully into the  now. To date, Taiwan has around 100 cases of #COVID2019 despite its proximity t…', ' _Ind: Lakhs of daily wagers - domestic help, carpenters,cleaners, plumbers,spot boys on sets,etc will lose livelihood due to soc…', '  “If I get corona, I get corona,” said one Ohio student on spring break in Florida. “At the end of the day, I’m not gon…', '  Kano State Emergency contacts in case of suspected Corona Virus Outbreak:Dr. Imam Wada Bello08050303343Dr Bashir La…', \"  You can no longer defend this.Make up any excuse or reasoning you want, it's intentional and it's racist. …\", '  This is Generation Z. I want to name that because folks love calling everybody 40 and under Millennials.Millennials…', '  This is Generation Z. I want to name that because folks love calling everybody 40 and under Millennials.Millennials…', '  BREAKING‼️‼️‼️a new symptom of the corona virus was just discovered. It’s called PJP which translates to Phat. Juicy. Pussy…', ' _solomon: This is repugnant', '  There was a nasty flu that went round in December / early Jan. I’m telling you, that was corona. Bare ppl were sick (includ…', 'A 34 year old from Pasadena is the first person to die from Corona after visiting  in Florida. Shame o… ', '  Me &amp; My Niggas Walking In The Club After The Corona Epidemic End ', ' _erhnehst: Everything was fine in the world until Liverpool decided to take the premier league title 😩💔😂Kobe died😩World war 3Coro…', '  My hand after washing it 20 times today 😣😣   Look at what corona has cause😷😭😭        Bomboclaat …', '  smoke break? unless you got corona stay backkkkk', \" What's the problem?What are you going through? You can talk to me. You can't commit suicide in this… \", 'this quarantine has kicked my depression up a couple notches thanks to my work and routine being void now and im ef… ', '  Weebs be sitting at home tweeting about the corona but watch anime on illegal sites. Mfs worried about the wrong virus', '  🚨Bill Hemmer,on Fox,just had a Doctor on that said Corona can be stopped within 2 weeks with Chloroquine.Hemmer was shocked &amp;…', '  here’s a deleted scene from TWD’s special on corona virus ', '  this man’s piss could stop corona', '  There was a nasty flu that went round in December / early Jan. I’m telling you, that was corona. Bare ppl were sick (includ…', '  Close up of President  notes is seen where he crossed out \"Corona\" and replaced it with \"Chinese\" Virus…', '  This is Generation Z. I want to name that because folks love calling everybody 40 and under Millennials.Millennials…', '  Day 5: We have rediscovered farming', '  There was a nasty flu that went round in December / early Jan. I’m telling you, that was corona. Bare ppl were sick (includ…', '  Day 5: We have rediscovered farming', '  Among other things, what this shows is they\\'re using the term \"the coronavirus\" internally like everyone else and are throwing…', 'Aha. Knew it. Another hidden family issue will be an explosion of credit card debt. ', ' _the_great: A lot of you would actually benefit from taking a good look introspectively at your issues with women. This is just gros…', '  Close up of President  notes is seen where he crossed out \"Corona\" and replaced it with \"Chinese\" Virus…', '  Among other things, what this shows is they\\'re using the term \"the coronavirus\" internally like everyone else and are throwing…', '  This is Generation Z. I want to name that because folks love calling everybody 40 and under Millennials.Millennials…', '  There was a nasty flu that went round in December / early Jan. I’m telling you, that was corona. Bare ppl were sick (includ…', ' Stay safe. Will you do any show in India once Corona shit is over? ❤️', '  Sharing this because corona  ', '  everyone coming out of corona as barista', ' _Nixon: It’s increasingly hard to avoid the conclusion that Britain’s failure to scale up testing is a result of the government’s…', \"  Many mocking him but he hasn't said anything preposterous. No link of Vitamin D with Corona, and his comment must not b…\", '  This. Is. Unacceptable. I will continue to remind my fellow New Yorkers that this kind of bigoted behavior will NOT b…', 'I almost bought one yesterday, but to get a single it had to be in a can. And I promoted the improved version of my… ', '  Everyone in this looks sick', 'WHAT A FUCKING LIBERTY! ', '  holy shit I hate every person in this video', '  Day 5: We have rediscovered farming ', \"Please stop blaming Millennials for something stupid said by a Z Generation kid. Also don't blame all Z Generation… \", '_Matt3 Might as well call me Corona Key at this point 😂💀', ' _Prince90: Corona not going to stop me from having fun!  Lol Cleveland freaks where y’all at?!? ', \"Lowkey  should start giving free subscriptions to keep people inside.I'm just saying tho.🙆🏻\\u200d♂️😊#corona\", '  holy shit I hate every person in this video', '  my last white blood cell challenging corona to a dance battle for the fate for my body', 'That Indian corona music video is killing me😂', '  The hard part is that Nigeria isn’t wired to lock down. Majority workers are in the informal space &amp; poor. The formal secto…', '  Trump is trying to distract you from his incompetence with his racism, don’t let him.', '  holy shit I hate every person in this video', '  here’s a deleted scene from TWD’s special on corona virus ', '  Trump is racist.', '  Day 5: We have rediscovered farming', '  POTUS edits the copy for accuracy.', ' _: This is for CORONA  you big fat white nasty smelling fat bitch why you took me off the motherfuckin schedule with your tri…', 'Will I ever graduate? First strike and now corona? I’m livid ', '  I’m setting JoJo’s Corona PSA song as my new ringtone ', '  Tweet from Jan 14.Chinese authorities concluded that there is no evidence of human to human transmission of Wuhan Coron…', '  Day 5: We have rediscovered farming', \" _jr: Yea guys as y'all go day to day wondering when the next Corona case will pop up and where, remember a wise man once said ht…\", ' _esche: hi all, just wanted to send out a quick update. no! i do not have corona! however! every other second i think that i do! &amp;…', '  If corona don’t take me out then boredom will', '  Close up of President  notes is seen where he crossed out \"Corona\" and replaced it with \"Chinese\" Virus…', '  Corona day 3: it just feels like Sunday again and...again', '  Day 5: We have rediscovered farming', \"no offense but y'all are stupid and weird looking mofos \", 'this lot have about 8 brain cells between them ', ' _: This is for CORONA  you big fat white nasty smelling fat bitch why you took me off the motherfuckin schedule with your tri…', '  if corona has your gym closed then try my home workouts sis, you can grow your bum from home x ', ' _: 2 weeks? it’s a fucking global pandemic not a hamstring strain.', '  This is Generation Z. I want to name that because folks love calling everybody 40 and under Millennials.Millennials…', '  Everyone in this looks sick', \"Well guess I can't get Animal Crossing anymore.My mom isn't letting me leave the house and is acting like we're be… \", ' _ciara: Me once I touch down on my first trip post-corona  ', ' _: This is for CORONA  you big fat white nasty smelling fat bitch why you took me off the motherfuckin schedule with your tri…', '  I just asked a DC cop what he’s noticed since the coronavirus sent people home. “More domestic violence,” he said, withou…', '  Who do you think would end corona. New generation army let’s goooooooo!!', '  Stay safe with these Corona Virus tips! We strongly urge everyone to take these precautionary methods to ensure their saf…', 'If things keep going the way they are I’m gonna need to start calling it the “but trump says it’s not a big deal, l… ', '  Day 5: We have rediscovered farming', '  This is Generation Z. I want to name that because folks love calling everybody 40 and under Millennials.Millennials…', '  Please RT: A team of researchers is looking for volunteers to translate a survey on Corona (1300 words) into many languages…', '  Among other things, what this shows is they\\'re using the term \"the coronavirus\" internally like everyone else and are throwing…', ' Target needs to take out the trash if they want Americans to spend their corona money at Target..or tarja… ', '  This is Generation Z. I want to name that because folks love calling everybody 40 and under Millennials.Millennials…', '  Day 5: We have rediscovered farming', '  Day 5: We have rediscovered farming', '  Day 5: We have rediscovered farming', 'we are with you modiji for fight to corona.', '  Close up of President  notes is seen where he crossed out \"Corona\" and replaced it with \"Chinese\" Virus…', '  This is Generation Z. I want to name that because folks love calling everybody 40 and under Millennials.Millennials…', '  Despicable behavior ', ' Who here has corona?  Who knows anyone that has it?  Just wondering.', '  This is Generation Z. I want to name that because folks love calling everybody 40 and under Millennials.Millennials…', ' _Dlaminii: 😂😂😂 I love my country, but how did we get here😂? ', '  President Muhammadu Buhari has directed a repositioning of the economy to mitigate global effect of the Corona Virus in Nig…', '  this man’s piss could stop corona', 'Corona has become something else Ugandan airport has misunderstood everything now extorting money from pple no wonder', '  This is Generation Z. I want to name that because folks love calling everybody 40 and under Millennials.Millennials…', ' _Citizen: Any company that continues to deny their workers paid sick leave is a danger to the American public.…', '  Close up of President  notes is seen where he crossed out \"Corona\" and replaced it with \"Chinese\" Virus…', '  holy shit I hate every person in this video', ' _silenced: This is actually the most important time in our Country to begin Mass DeportationsWe need our Medical Industry for Ameri…', '    Bloomberg shelled out $50 mil for corona aid..... and $500 mil for a purely pride stroking…', '  Among other things, what this shows is they\\'re using the term \"the coronavirus\" internally like everyone else and are throwing…', '  this man’s piss could stop corona', 'This guy is a dangerous fucking moron ', 'Seriously, how dumb can you be??? #facepalm ', ' _: 2 weeks? it’s a fucking global pandemic not a hamstring strain.', ' are all branches shutting due to corona or just those you planned to close by end of year?', '  There has never been a president less equipped to meet the moment than . It’s time for leaders from both…', '  Wow!How China brought new corona virus cases from 15000 mid February to 1 new yesterday. Extremely aggressive and vigilan…', '  The political incorrectness of  is one of his most endearing qualities ', 'before corona vs everyone during the lockdown ', ' _: 2 weeks? it’s a fucking global pandemic not a hamstring strain.', ' _ciara: Me once I touch down on my first trip post-corona  ', '  Day 5: We have rediscovered farming', '  holy shit I hate every person in this video', '  Everyone in this looks sick', '  holy shit I hate every person in this video', ' _TheGoat: See 10 Do 10 💪🏽 I challenge  _Meech _justin _Reacher _fm __ _  …', '  If we’re lucky Corona will cancel Taurus birthdays too', '  Sharing this because corona  ', 'I can’t begin to explain how much this would anger  if she lived anywhere near that building ', '  Putting aside the obvious attempts to start a debate over political correctness... my god the font is so fucking large.', ' _MBanks: Reading the Corona loan scheme: the Govt want security. House/land, the normal...if people have assets and decent LTV…', '  I have been informed that the CDC says the Corona virus dies out at 77 degrees. So, I guess turn up your thermostat? Simp…', '  this man’s piss could stop corona', ' _23: Get rid of Coronavirus in 12 weeks but wants emergency extensive powers for 2 years! Boris Johnson is a health risk to the…', '  Corona is a timely reminder of how obscene the wealth of the royal family is. The queen is moving to Windsor Castle because…', '  Everyone in this looks sick', 'my burnt ass was really thinking of various conspiracies as to how the corona virus is a government ploy', '  These are the MFs that get bit in a zombie movie and try to hide it from everyone else', '  holy shit I hate every person in this video', '  There was a nasty flu that went round in December / early Jan. I’m telling you, that was corona. Bare ppl were sick (includ…', '  Day 5: We have rediscovered farming ', '  Bro thx for sharing me the Corona virus vaccine. I owe you my life', '  Close up of President  notes is seen where he crossed out \"Corona\" and replaced it with \"Chinese\" Virus…', '  Empower yourselves today!...signup for free online course from ALISON, learn more about the Corona virus online even as y…', '  this man’s piss could stop corona', '  This is Generation Z. I want to name that because folks love calling everybody 40 and under Millennials.Millennials…', ' Scare-mongering idiot. Unfortunately, Italy has the Worlds 2nd oldest average population outside of Ja… ', 'Gun sales are up 300%, the fuck y’all hoarding guns for 😳You gonna shoot Ms Corona?', '  Corona so bad even loadshedding went into quarantine', '  everyone coming out of corona as barista', ' _meyou7: CDC: “social distancing” “2 week isolation” “flatten the curve”Americans: *continue to go on spring break trips and han…', ' _ashlee_4_: Dear corona virus, We really hate you. Sincerely, The class of 2020', '  38% of hospitalized #Coronavirus patients were aged 20 to 54.Listen to the stats\\xa0— not this guy.STAY HOME! …', '  this man’s piss could stop corona', '  There was a nasty flu that went round in December / early Jan. I’m telling you, that was corona. Bare ppl were sick (includ…', \"  “If I get corona, I get corona. At the end of the day, I'm not gonna let it stop me from partying”: Spring breakers are still…\", '  this incompetent racist asshole ', \"  It's interesting that  coronavirus gets its name from a spiked ring of proteins on its surface that resembles a crown, henc…\", '  Corona day 3: it just feels like Sunday again and...again', '  here’s a deleted scene from TWD’s special on corona virus ', '  Corona is a timely reminder of how obscene the wealth of the royal family is. The queen is moving to Windsor Castle because…', '   “They say Corona is near, but the only thing i fear is that u might disappear, what’s between us was never clear…', 'Nowhere Island like Mother 3 ', 'what an asshole ', ' _ciara: Me once I touch down on my first trip post-corona  ', '  #eventprofs have a read of our talk with  editor  on ways you can keep your events intact…', '   Chinese wet market virus, or the Xi coverup virus. Choose one; just calling it Corona… ', '  Corona day 3: it just feels like Sunday again and...again', ' All talk soon so more can be ok and say on news so all can see truth sky is prove them nazi paedophile Eli… ', ' _in_kiev: this blame deflecting strategy will and already has led to attacks in the streets. there\\'s a reason they called AIDS \"ga…', '  Watch my live interview at Puthiya Thalaimurai television channel today, 3-4pm for #Corona related queries/clarificati…', '  this man’s piss could stop corona', '  Close up of President  notes is seen where he crossed out \"Corona\" and replaced it with \"Chinese\" Virus…', '  I hope I’ve got corona virus so I can cough in your face!!!', '  this incompetent racist asshole', \"  “If I get corona, I get corona. At the end of the day, I'm not gonna let it stop me from partying”: Spring breakers are still…\", 'Last premium SMS of the day is a company well positioned to see a surge in sales from current Corona Virus situat... ', '  #springbreak2020 Corona can’t stop our beach vacation ', ' _EngineerRS: Pros and cons with Corona quarantine:Pros: I can play Runescape all dayCons:', '  corona virus update:im really sorry to tell you this here on twitter but unfortunately this morning I woke up to my best fri…', '  Sharing this because corona  ', ' Your Corona tweets would seem more sincere if your ‘pinned tweet’ wasn’t a clip of you giving a tanned… ', 'Fucking corona man', '  RuPaul’s Drag Race: Corona Virus Edition ', ' _: This is for CORONA  you big fat white nasty smelling fat bitch why you took me off the motherfuckin schedule with your tri…', '  Close up of President  notes is seen where he crossed out \"Corona\" and replaced it with \"Chinese\" Virus…', '  Day 5: We have rediscovered farming', 'Corona.... Maybe here... but it’s not here to stay... Eliminate it with these “handy” and yet affordable products..… ', 'can it get any more stupid ', '  Everyone in this looks sick', '  Very important pregnancy data for patients with #covid19 . Click and follow the threads for details   #cov…', ' _: Corona please. We are tired, we get it.', '  This is Generation Z. I want to name that because folks love calling everybody 40 and under Millennials.Millennials…', '  Extra lime, please', '  Close up of President  notes is seen where he crossed out \"Corona\" and replaced it with \"Chinese\" Virus…', '  holy shit I hate every person in this video', ' ___p: This corona shit is getting serious &amp; life too short so if we got beef or fell out I just want to say fuck you again fr…', '“Roll around in a field of ticks to get Lyme for your Corona”I lol’d', '  Everyone in this looks sick', '  First real victim of corona virus 😱😱😱', '  holy shit I hate every person in this video', '  Day 5: We have rediscovered farming', '  DOOM Guy says corona can suck on a dick, tit, inanimate object for all I care #DOOM #CoronaVirusUpdate #mixerstreamer #mixe…', '  Let’s all of us take pledge to follow Janta Curfew this Sunday from 7 am to 9pm so that we strengthen India’s fight ag…', 'Now I’d didn’t wanna say it but I was out for the whole two weeks Christmas holiday👀 ', 'I reach house norr momi do mopping schedule for the year sakeov corona eii be like ago mop get muscles 😂', ' _Ind: Long time back this person broke off all relations with me because I revolted against dynasty &amp;  TODAY I BRE…', 'Or it was just, and hear me out on this one... the fucking flu ', '  Thousands of people cramped up in the Eidgah Camp. What percussions are being taken to ensure their safety from Corona?', \"'Deep Thoughts' with Lincoln Chafeefrom the far away fields of Wyoming...[ Not Wyoming, RI ]… \", '  Corona day 3: it just feels like Sunday again and...again', '  Aggressively, purposefully, maniacally, loathsomely racist.', '  Everyone in this looks sick', '    Shutting down planned parenthood would save more lives than the Corona virus will take!!', 'Is this real? ', \"'If I get corona, I get corona': Coronavirus pandemic doesn't slow spring breakers' party  via \", 'He said once all this corona stuff blows over he’s gonna take me to Ruth’s Chris, he better not be lying either lol', '  The corona virus is being exaggerated !! Just keep y’alls nasty ass manos clean and you’ll be fine !', '  Sharing this because corona  ', '  holy shit I hate every person in this video', ' _ashlee_4_: Dear corona virus, We really hate you. Sincerely, The class of 2020', 'Corona on the way 🐘 ', ' _: Corona please. We are tired, we get it.', \"As I'm rewatching #RHOP season 4, it's really odd in these times to watch Ashley be a walking Corona billboard. I w… \", '   Did you see this....👀👇👀👇👀', '  Trump\\'s notes today show \"Corona\" crossed out to read \"Chinese virus\" (Photo: Jabin Botsford/The Washington Post via Getty Image…', '  My dick is Bigger than Corona virusMy dick is Bigger than Corona virusMy dick is Bigger than Corona virusMy dick is…', '  So are y’all gonna stop washing your hands once this corona business blows over or we gonna keep up this basic hygienic p…', '  everyone coming out of corona as barista', 'Tryna catch wines not corona', '  Imagine being this much of an asshole', \"  Lets start a resource thread for loans and grants for small businesses affected by corona. We'll start: (PLEASE SHARE)…\", '  My dick is Bigger than Corona virusMy dick is Bigger than Corona virusMy dick is Bigger than Corona virusMy dick is…', '  This corona shit fucking the money up 🤦🏾\\u200d♂️', 'He definitely deserve the fucking corona virus ', '  This mans whole career is a PR stunt - what on earth is a Janta Curfew? Has Corona decided to attack us ONLY ON 22nd March…', '  Everyone in this looks sick', '“Is there a corona virus? NO it may possibly be i don’t know”💀💀 He contradicting already  Martial law, Mark of the… ', 'This dumb ass sorority girl keeps yelling on the flight “I hope I don’t test positive for corona” like girl chill t… ', '  Day 5: We have rediscovered farming', '  I reject u in Jesus name ...Haaaa corona following me God forbid#MercyNMercenariesSayStaySafe ', 'Honestly ', '  Well sad David Davis!Do we really believe that a Barnier has the Corona Virus. I don’t.I think it’s yet another ploy…', 'still can’t believe my ASIAN friend called me yday to ask how to make rice..... CORONA VIRUS PLS TAKE HER', '  Day 5: We have rediscovered farming ', ' Was this a lie then?  Confused! ', '  My dick is Bigger than Corona virusMy dick is Bigger than Corona virusMy dick is Bigger than Corona virusMy dick is…', '  Despite being hotbed for infectious diseases, India has done remarkably well against #COVID19. World is acknowledging our ef…', '_ Sameeee and now I’m having horrible nightmares and anxiety about corona. 😭', '  Based ', '  Everyone in this looks sick', '  Pls RT. Dear  news &amp; press conferences around the country during this Corona Virus Emergency have  sign langua…', '  Pls if you live around tema and you don’t have hand sanitizer or can’t afford one,let me know,I’m giving some away for fre…', '  Everyone in this looks sick', '  POTUS edits the copy for accuracy. ', '  Corona day 3: it just feels like Sunday again and...again', '  As  invites citizen-participation in the fight against Corona Virus in India, I shall on remain indoors entirely…', '  The hard part is that Nigeria isn’t wired to lock down. Majority workers are in the informal space &amp; poor. The formal secto…', '  Day 5: We have rediscovered farming', ' _solomon: Is this true?????', ' Get real, Megyn: ', '  Day 5: We have rediscovered farming', '  This is real. He’s actually this corrupt and racist and focused on entirely the wrong things. ', '  this incompetent racist asshole ', 'This Corona virus thing no just make at all😩', ' If the #ChineseCoronaVirus lasts into tick season, you can have lyme w/ your corona', '  Day 5: We have rediscovered farming', '  If we stay in isolation is that okay?Is it okay if I call you my Corona bae? ', '  This is what a racist Pavlov dog looks like.', '  What the latest (Corona) virus shows: our privatized healthcare system failed (to anticipate, prepare for, or cope with it).…', '  Pakistan is facing one of the gravest crises in her recent memory. The spread of corona virus poses a serious threat tha…', '  Corona day 3: it just feels like Sunday again and...again', '  \"If you mention Corona more than His name, you have missed the essence of the test”', '  Day 5: We have rediscovered farming', 'blind sheep with cellphones ', 'A god amongst men ', '  Close up of President  notes is seen where he crossed out \"Corona\" and replaced it with \"Chinese\" Virus…', 'Corona Virus said stay away from everyone then there’s my fam calling everyone out on the media 😂😂😂😂  ok ya still putting in work fakas 😂💀', '  Social distancing and self-isolation practices can be especially difficult for victims of domestic violence. …', 'Covid-19 is an acronym for Corona Virus Disease 2019. I’m sick of hearing people call it the “Covid-19 Disease” ffs fix up', ' _: Corona please. We are tired, we get it.', '  This is Generation Z. I want to name that because folks love calling everybody 40 and under Millennials.Millennials…', '  this man’s piss could stop corona', '  Corona day 3: it just feels like Sunday again and...again', '  Have you noticed every member on Trump\\'s corona \"task force\" must make two obligatory compliments to Dear Leader before sha…', ' _messing: He is a bastard. Look at the kindergarten size print for him to read. He is so frigging dumb.', '  Day 5: We have rediscovered farming', '  Close up of President  notes is seen where he crossed out \"Corona\" and replaced it with \"Chinese\" Virus…', '  Day 5: We have rediscovered farming', '  this man’s piss could stop corona', '  holy shit I hate every person in this video', ' _Ind: Long time back this person broke off all relations with me because I revolted against dynasty &amp;  TODAY I BRE…', '  Day 5: We have rediscovered farming', \"  Michael can you please check this French man's claims about the corona virus! \", '  this man’s piss could stop corona', 'The only thing keeping me positive about the whole corona virus thing is thinking about how there’s 525600 minutes… ', '  Everybody... just rub some Vick’s on your body and light one of these bad boys! #NoMás Corona ', '  Day 5: We have rediscovered farming', 'My allergies need to chill because then I’m gonna start thinking I have corona 🤦🏼\\u200d♀️😂', 'Young gravy da gawd ', '  This is Generation Z. I want to name that because folks love calling everybody 40 and under Millennials.Millennials…', '  Close up of President  notes is seen where he crossed out \"Corona\" and replaced it with \"Chinese\" Virus…', '  Close up of President  notes is seen where he crossed out \"Corona\" and replaced it with \"Chinese\" Virus…', '  This is Generation Z. I want to name that because folks love calling everybody 40 and under Millennials.Millennials…', ' my love Corona is now in Bloemfontein. Please take good care of yourself.', '  Breaking News: A #Corona Patient escaped from a Govt hospital in Peshawar. Police despite hours long effort remain unabl…', 'what y’all need to do is pack up y’all shit and get the fuck outta Miami. go “party” and live your “best life” else… ', '  Day 5: We have rediscovered farming', '  Day 5: We have rediscovered farming', '  BREAKING: The Italian who allegedly brought Corona Virus into the country has fully recovered &amp; tested negative. -Lagos S…', '  this man’s piss could stop corona', \"He's such a r racist POS! #TrumpVirus2020 #TrumpPandemic \", '  Some gora journalists are using clickbait tweets to troll India &amp;/or Modi wrt corona fight back. U rise to the bait, you…', 'Mr/Mrs French kisserMaster of the art of kissingBeware🔗 Corona virus is real#VOT', '  Day 5: We have rediscovered farming', '  Close up of President  notes is seen where he crossed out \"Corona\" and replaced it with \"Chinese\" Virus…', ' _: 2 weeks? it’s a fucking global pandemic not a hamstring strain.', '  There you have it.Proof that this is an intentional tactic. Trump et al are trying to bait us into fighting over his raci…', ' _rohanverma: I am the CEO of  - through  all can find nearby corona testing, treatment &amp; isolation ce…', \"    Lol we'd rather face corona than Zanupf\", '  Close up of President  notes is seen where he crossed out \"Corona\" and replaced it with \"Chinese\" Virus…', 'take y’all stupid asses home ', '  Day 5: We have rediscovered farming', '  This message is universal . Stay home, stay safe - let’s Defeat Corona together #राजस्थान_सतर्क_है', '  Day 5: We have rediscovered farming', '  Arabic guide to protecting against #COVID19', ' _disbrow - thanks for covering this topic... think you could get an Emmy out of this by covering fro… ', ' If I win I’m going to kiss you no corona tho.', ' _rohanverma: I am the CEO of  - through  all can find nearby corona testing, treatment &amp; isolation ce…', '  There was a nasty flu that went round in December / early Jan. I’m telling you, that was corona. Bare ppl were sick (includ…', 'This is true🧐 i was super sick in January &amp; i didn’t know what it was... it took ab two weeks to go away ', '  At least you know the cheeks are corona-free. 🙌', '  Close up of President  notes is seen where he crossed out \"Corona\" and replaced it with \"Chinese\" Virus…', 'This corona virus got me texting people back now lol.', 'Suddenly every single death is down to Corona Virus.... I kinda liked the old fashioned way, you know, blame a few… ', '  Corona day 3: it just feels like Sunday again and...again', '  here’s a deleted scene from TWD’s special on corona virus ', 'house. he will intimidate the corona ', ' _: 2 weeks? it’s a fucking global pandemic not a hamstring strain.', '  This is Generation Z. I want to name that because folks love calling everybody 40 and under Millennials.Millennials…', '  Corona day 3: it just feels like Sunday again and...again', '  Fuck corona, I miss my friends ', '  #WritingCommunity #creative Am looking for beta reader swaps for my #paranormal #horror book \"The Sadeiest\", I have pl…', '  All Kenyans must be united in fighting the spread of corona virus...Let us all resolutely gang up against Covid-19!! Keep e…', '  Close up of President  notes is seen where he crossed out \"Corona\" and replaced it with \"Chinese\" Virus…', '  THEY REALLY DID HER LIKE THIS OMFGGGGGGGGGGGGG IIIIII —', '  Me &amp; My Niggas Walking In The Club After The Corona Epidemic End ', 'its corona time right now', '  Trump is trying to distract you from his incompetence with his racism, don’t let him.', '  holy shit I hate every person in this video', ' _: 2 weeks? it’s a fucking global pandemic not a hamstring strain.', ' _: Hyderabad : women fell into pit/open drainage  at Prizadiguda today after rainsThis is the condition of Telangana!!GH…', ' _meIodrama_: Corona virus symptoms: difficulty breathing and tightness of chest. My anxiety symptoms: difficulty breathing and tightne…', \"  These Republican Senators VOTED NO on Corona Relief Bill. Here's when they're UP for re-electionInhoffe        2020Blac…\", '  These people are absolute dogshit lol.', ' What do you think will happen with the premier League now with the Corona virus ?', 'I would seriously punch every fucker in this video in their stupid faces ', '  this man’s piss could stop corona', ' _ashlee_4_: Dear corona virus, We really hate you. Sincerely, The class of 2020', '  Day 5: We have rediscovered farming', ' All talk soon so more can be ok and say on news so all can see truth sky is prove them nazi paedophile Eli… ', 'UPDATE: Our action center has been udpated with more information about restaurant shutdowns and disaster financing… ', '  As Prime Minister of 1.25Bn people, PM  has done a commendable job in getting together SAARC countries to combat…', '  There’s a 73% chance that NFL great Michael Irvin thinks that Corona Beer causes Corona Virus and I want everyone to think…', 'Rams just released Gurley!? Ayo WHAT THE FUCK. NFL on Corona 2', '  Close up of President  notes is seen where he crossed out \"Corona\" and replaced it with \"Chinese\" Virus…', '  Natural selection do your thing', ' _: Corona please. We are tired, we get it.', '  All the comments say that he looks unwell, but who’s going to tell them that that’s just what men in the south look like..?', '  Great work by WaPo photographer.', '  Fuck Corona Nigga This Pollen Might Be The End Of Me.', '  Which area?   This area 👇🏼 probably need complete lockdown.', '  Corona day 3: it just feels like Sunday again and...again', 'fuck corona i miss my boyfriend', '  God is Bigger than Corona virusGod is Bigger than Corona virusGod is Bigger than Corona virusGod is Bigger than Corona vir…', '  Day 5: We have rediscovered farming', ' _dripping: I write to kindly bring to your attention a potential Corona Virus case in Ibadan. I am a resident of Akobo in Ibadan. T…', '  Corona day 3: it just feels like Sunday again and...again', '  Watch this. It shows why we should all do the right thing and stay home to the fullest extent possible. All of us can help…', 'I’m not an epidemiologist, but I think Buzzfeed just pwned me  via ', '  Close up of President  notes is seen where he crossed out \"Corona\" and replaced it with \"Chinese\" Virus…', '  When someone you know dies of this thing, you can find solace in the fact that when the president was supposed to be l…', ' _Sol: Have you decreased your spending since corona has taken off? ', '  There was a nasty flu that went round in December / early Jan. I’m telling you, that was corona. Bare ppl were sick (includ…', \"  You can no longer defend this.Make up any excuse or reasoning you want, it's intentional and it's racist. …\", \"It's Corona Time \", ' _Mahog: Which ones? I’d love to make that call yho 😂 hi police I’m at the corner of witkoppen and main and there’s a huge corona ri…', '  Sobering. #Closeborders ', ' _: Corona please. We are tired, we get it.', '  Great work by WaPo photographer.', '  holy shit I hate every person in this video', 'This video is why a lot of the world thinks Americans are dumb ', '  Can everyone just stay at home please so that corona fucks off quickly and then we can carry on and enjoy our summer, fest…', 'Great info   let’s keep our fitness up so when we do our post Corona Swim assessments, w… ', '  Someone said \"I can blind fold this guy with shoe laces\" 😂🤭💀', '  here’s a deleted scene from TWD’s special on corona virus ', '  Corona day 3: it just feels like Sunday again and...again', '  Day 5: We have rediscovered farming', ' _: 2 weeks? it’s a fucking global pandemic not a hamstring strain.', '  Embarrassing: Pakistan’s PM appeals to the west to write-off Pakistan’s debts because his poor nation doesn’t have medica…', \" _celeb: Lowkey everyone thinks they have Corona Virus🦠 right now... They just won't say it out loud.. Everyone has felt an imag…\", '  Instead of appreciating the Govt on preventing Corona, shameless Congress is doing press conference to say Rahul Gandhi di…', ' _: This is for CORONA  you big fat white nasty smelling fat bitch why you took me off the motherfuckin schedule with your tri…', 'Twatwaffles - that’s the proper term for every person in this video. These fucking dumbasses are the reason this vi… ', '  The racism, blame deflection, and misinformation is PLANNED—not mere \"error.\"', '  harry styles please cure the corona virus already we’re waiting', '  Thanks for using my photos 😊📸', ' Brother just look Italy case  first few case came 31st jan now Italy top the death list. Corona viruse… ', '  Me trying to pay rent, car note, credit cards, water, and electric bill with $300 in my account During Corona …', ' _AZ:  He doesn\\'t have his rallies so he has to keep the base engaged - he does this by saying \"China\" virus and not…', 'Zuckles Is Safe From Corona! ', '  Too much koolness in one picture with  and #KareenaKapoorKhan.This lit picture may totally drive away your #corona…', 'OK I have one complete with this corona outbreak. What are the Bento box moms of TikTok gonna do, now that their ki… ', '  Day 5: We have rediscovered farming', '  Day 5: We have rediscovered farming', 'First guys sounds just like  holyshit ', '  Me &amp; My Niggas Walking In The Club After The Corona Epidemic End ', 'You know, if nothing else, this pandemic will teach us all to shoot our shots in ‘21 ', '  There was a nasty flu that went round in December / early Jan. I’m telling you, that was corona. Bare ppl were sick (includ…', '  holy shit I hate every person in this video', ' _: This is for CORONA  you big fat white nasty smelling fat bitch why you took me off the motherfuckin schedule with your tri…', \"  I'm sorry, but this speech was not supposed to be a power point presentation on WHAT THE GOVERNMENT IS DOING ABOUT the…\", '  Pls RT. Dear  news &amp; press conferences around the country during this Corona Virus Emergency have  sign langua…', '  My dick is Bigger than Corona virusMy dick is Bigger than Corona virusMy dick is Bigger than Corona virusMy dick is…', '  Day 5: We have rediscovered farming', ' _Tido: Corona cancelling everything but bills', '  Corona day 3: it just feels like Sunday again and...again', '  Goals 👏🏼👏🏼 ', 'The guy who said he wanted a refund, for a voluntary vacation, bc hunger and poverty are worse than the virus... ye… ', ' _: Let them die', '  this man’s piss could stop corona', '  My dick is Bigger than Corona virusMy dick is Bigger than Corona virusMy dick is Bigger than Corona virusMy dick is…', 'You’re more of a Nose Whiskey fan, right? #FlyEaglesFly ', 'soon as this corona shit over w , i need a vacation', '  This is real. He’s actually this corrupt and racist and focused on entirely the wrong things.', ' _solomon: This is repugnant', 'This corona shit got y’all mfs war ready😭😭😂😭😭 wha y’all bouta do , shoot the virus ??😂😭😭😭mfs really ammo’d up out here😭😭', \"someone who works for my school's board of ed has corona... this is good. this is very good. lovely.\", 'The news if correct, Corona carrier deserted hospital. How difficult is this situation for doctors as well. Image s… ', 'I hope natural selection gets them all ', '  this man’s piss could stop corona', '  Dear Media,Stop giving this attention. Trump wants you to talk about his racism &amp; NOT PRIORITIZE HIS CATASTROPHIC FU…', 'I hate this generation. ', '  holy shit I hate every person in this video', '  Day 5: We have rediscovered farming', \"  I pledge that I'll strictly follow Janta Curfew this Sunday frm 7am to 9pm so that we strengthen India’s fight against the Coro…\", 'This thing my mum is watching about the corona virus is actually making me really upset. Like what if my parents di… ', ' Sir,Corona symptoms looking 75% similar as Pnumoniya..so can possible to raise PCV 13 &amp; PPSV23 v… ', '  . Miss Ural Mountains.. But great advice.. #COVID19ON ', '  Everyone in this looks sick', \"  I pledge that I'll strictly follow Janta Curfew this Sunday frm 7am to 9pm so that we strengthen India’s fight against the Coro…\", '  Day 5: We have rediscovered farming', 'Thank you so much for this Gal Gadot. My great great grandad was in a coma because of corona and he just woke up to… ', \" Thank you for carrying the FEMA/Corona Virus Task Force Meeting.  For perspective, it's helpful to see the en… \", 'I\\'ll give it another week before all the pillock says is \"Get Corona Done\"', '  holy fuck i dropped all my corona virus on the time line fuck im so sorry🦠…', '  This is Generation Z. I want to name that because folks love calling everybody 40 and under Millennials.Millennials…', \"  I pledge that I'll strictly follow Janta Curfew this Sunday frm 7am to 9pm so that we strengthen India’s fight against the Coro…\", '  Day 5: We have rediscovered farming', '  everyone coming out of corona as barista', '  Close up of President  notes is seen where he crossed out \"Corona\" and replaced it with \"Chinese\" Virus…', '  this man’s piss could stop corona', '  What China thought yday, India needs to think today. And NOW!! Time for ACTION!! Words not enough. …', 'Alright guys HMU for beats. Vocal mixing and other musical services.... for cheap I got no hours cause of corona', 'aye if chick from new orleams say it’s trash it’s trash ', '  Trump turned down WHO test kits for corona because the Kushners own Oscar Health, the company that has now been given t…', '  Day 5: We have rediscovered farming', '  Day 5: We have rediscovered farming', ' You are the most racist person I have ever met.... you lying bitch. ', ' _: Corona please. We are tired, we get it.', '  We need your help! All of Norway is coming together to applaud everyone who is working to keep us healthy and safe during…', '  Among other things, what this shows is they\\'re using the term \"the coronavirus\" internally like everyone else and are throwing…', '  Breaking news:katsina suspected   corona virus case confirmed negative Thank god we’re safe In sha Allah❤️🙏🙏🙏🙏Thank you ra…', '  Schools Closed, No music shows, weddings, No events, Bars closed. Chaiiii Corona 😭', \" _09: Look at Italy ! which is no where at the start and it became second home for corona suddenly, that's why we need to take two…\", '  Day 5: We have rediscovered farming ', '  Tallahassee got its first corona virus case and death yesterday because the person was TRANSFERRED to a hospital here.... n…', '  My dick is Bigger than Corona virusMy dick is Bigger than Corona virusMy dick is Bigger than Corona virusMy dick is…', '  Even though this article focuses solely on female victims despite there being a significant # of male Domestic Violence vi…', ' _: This is for CORONA  you big fat white nasty smelling fat bitch why you took me off the motherfuckin schedule with your tri…', '  Corona day 3: it just feels like Sunday again and...again', '  the children are our future? well... fuck🤦🏻\\u200d♂️', '  Buzdar is not great in communication skills, yes he is not an oxford graduate either. But this shameless propaganda by …', '  this man’s piss could stop corona', '  Sunday 22nd march....sharp 5pm...Whole country is requested to make loud sounds either by clapping or banging utensils as a s…', '  Leaving charge &amp; Sukkur Region after serving for 381 days. A huge area with tough challenges of Crime, Dacoits, Tribal Feuds…', '  Everyone in this looks sick', ' _Ndhavuko: Vamakwerhu Corona Virus is not for you🤣😂😅🤣😂 ', ' _: Corona please. We are tired, we get it.', ' _: 2 weeks? it’s a fucking global pandemic not a hamstring strain.', '  There was a nasty flu that went round in December / early Jan. I’m telling you, that was corona. Bare ppl were sick (includ…', 'Bubbles and I are feeling about the same 💔💔This border closing sucks....🤬🤬She says it much better than I… ', '  what has our govt. expended to prevent corona?  where other corona affected countries… ', '  Everyone in this looks sick ', 'Great read #postcorona ', ' Try Google thisginger turmeric lemon Corona virusThese are part of our regular daily food.', '  This is Generation Z. I want to name that because folks love calling everybody 40 and under Millennials.Millennials…', '  this incompetent racist asshole ', '  Everyone in this looks sick ', '  Good.It came from China.', '  holy shit I hate every person in this video', '  corona virus update:im really sorry to tell you this here on twitter but unfortunately this morning I woke up to my best fri…', '       As I’m sure any Chinese perso… ', '  This is Generation Z. I want to name that because folks love calling everybody 40 and under Millennials.Millennials…', 'Is this a frickin JOKE? ', 'it’s not alright bro it’s corona vairus ', \"Okay guys so on Sunday when I enter Namibia I'm being tested for Corona with a needle... a needle😬😬😬 guys yikes! I'm scared. I'm  not okay\", '  Day 5: We have rediscovered farming', '  Sir has rightly mentioned. We are habitual of Curfews and Corona Threat is Less threatening than what we have faced under…', ' _: Corona please. We are tired, we get it.', '  here’s a deleted scene from TWD’s special on corona virus ', '  this man’s piss could stop corona', '  The gross inequality continuously deepened by capitalism also produces unequal sickness and death rates from Corona for the…', ' _aros: Mayorkun is somewhere in the studio singing \"Ramona, this your body dey killing person like Corona\"', '  Hi all! Hope everyone is staying safe from Corona-chan! And for my fellow shut ins... HAHA! WE WERE RIGHT! WHOSE THE W…', '  here’s a deleted scene from TWD’s special on corona virus ', ' _: 2 weeks? it’s a fucking global pandemic not a hamstring strain.', '  everyone coming out of corona as barista', '  There you have it.Proof that this is an intentional tactic. Trump et al are trying to bait us into fighting over his raci…', ' Heading into town, aka virus ground zero To pick up my copy of AC and Corona Virus', '_Music We get written up if we come from break without washing our hands Corona virus or not &amp; we have to w… ', ' _fabunmi: 4 new cases of Corona Virus in Lagos!!This same Lagos that someone will just decide to doze off on ur shoulder in a pub…', ' _ciara: Me once I touch down on my first trip post-corona  ', 'What a trash person. ', 'These look like the spitting people M7 was talking about. ', '  Can everyone just stay at home please so that corona fucks off quickly and then we can carry on and enjoy our summer, fest…', '  This is Generation Z. I want to name that because folks love calling everybody 40 and under Millennials.Millennials…', '  Close up of President  notes is seen where he crossed out \"Corona\" and replaced it with \"Chinese\" Virus…', '  this man’s piss could stop corona', 'PLEASE stop and consider these 2 articles! Call your Congressman and ask them to STOP THE MADNESS!… ', ' i thought YOU got the corona good thing ur alive too', '  Corona day 3: it just feels like Sunday again and...again', \"  You can no longer defend this.Make up any excuse or reasoning you want, it's intentional and it's racist.\", 'By the time this whole corona things over my hair will probably be long enough to dye again :)', '  corona or no corona, staying away from people is always a good idea.', '  Good news things today: 1) Wuhan - 1st day (after 12 weeks) no new domestic cases2) my mate &amp; his mrs have Corona -…', '  Close up of President  notes is seen where he crossed out \"Corona\" and replaced it with \"Chinese\" Virus…', '  Close up of President  notes is seen where he crossed out \"Corona\" and replaced it with \"Chinese\" Virus…', \"  They're trying to spur a culture war to distract from their own incompetence. So you don't notice them:firing professi…\", 'Corona virus for some reason reminds me of thanos...', '  This is Generation Z. I want to name that because folks love calling everybody 40 and under Millennials.Millennials…', ' _Mohan: A WhatsApp Chatbot on #CoronaVirusUpdate.It is called  Corona Helpdesk.Just say Hi on WhatsApp to +91-9013151…', '  I just asked a DC cop what he’s noticed since the coronavirus sent people home. “More domestic violence,” he said, withou…', \"  Lets start a resource thread for loans and grants for small businesses affected by corona. We'll start: (PLEASE SHARE)…\", '_auctions  The Corona is totes gawj.', ' _: This is for CORONA  you big fat white nasty smelling fat bitch why you took me off the motherfuckin schedule with your tri…', '  ik y’all aren’t worried about dying, but please stay home so the madness will end. I have a friend with Corona, and I k…', 'Corona is not an excuse idgaf how sick U r', \"Need unchanging &amp; good news in light of the impact of the corona virus? Enroll in N.T. Wright's (eminent Anglican N… \", '  Day 5: We have rediscovered farming', '  There was a nasty flu that went round in December / early Jan. I’m telling you, that was corona. Bare ppl were sick (includ…', ' This drug is used for auto immune diseases as well. It’s very very hard on your body. It’s an anti mila… ', 'Snakes who speaks from both side of there mouth ', '  This is Generation Z. I want to name that because folks love calling everybody 40 and under Millennials.Millennials…', '  This is Generation Z. I want to name that because folks love calling everybody 40 and under Millennials.Millennials…', ' _fabunmi: 4 new cases of Corona Virus in Lagos!!This same Lagos that someone will just decide to doze off on ur shoulder in a pub…', ' _florezz: This corona virus reminds me of my ex, tryna fuck with everyone', '  Among other things, what this shows is they\\'re using the term \"the coronavirus\" internally like everyone else and are throwing…', \"  This is such an embarrassing tweet, I can barely believe it's real.\", ' _rohanverma: I am the CEO of  - through  all can find nearby corona testing, treatment &amp; isolation ce…', '  I just asked a DC cop what he’s noticed since the coronavirus sent people home. “More domestic violence,” he said, withou…', '  Corona day 3: it just feels like Sunday again and...again', \"  It's corona time\", '  38% of hospitalized #Coronavirus patients were aged 20 to 54.Listen to the stats\\xa0— not this guy.STAY HOME!', \"  I've been sniping on various pandemic related topics here and elsewhere, and decided that it is better to collect my thought…\", '  here’s a deleted scene from TWD’s special on corona virus ', '  Day 5: We have rediscovered farming', '  Day 5: We have rediscovered farming', ' _: Not touching your face has to be the hardest part about this corona safety tips situation.', 'What a dick ', '  Corona day 3: it just feels like Sunday again and...again', '  harry styles please cure the corona virus already we’re waiting', '  The Corona Virus is causing shipping delays for physical copies of #AnimalCrossingI wanna try to help those affected!⏩ Re…', '  Can everyone just stay at home please so that corona fucks off quickly and then we can carry on and enjoy our summer, fest…', '  Now that I see Walgreens trending I wanted to take this opportunity to say all walgreens employees need a pay increase while…', '  here’s a deleted scene from TWD’s special on corona virus ', '45 new corona cases in my county today alone ', 'america itself is a pandemic ', '  If Corona or previous hoe activities can stop you from marrying her.. she ain’t the one!  https:/…', '  bro if corona is a virus why students doing online school', '  Day 5: We have rediscovered farming ', '  fuck corona i miss my boyfriend', '  The racism, blame deflection, and misinformation is PLANNED—not mere \"error.\"', '  Wild that YouPorn is doing more to help fight Corona than these billionaires people love stanning ', '  this incompetent racist asshole', 'Less crowded gym... Courtesy of Corona &gt;&gt;&gt;', ' _: This is for CORONA  you big fat white nasty smelling fat bitch why you took me off the motherfuckin schedule with your tri…', '  Fuck corona, I miss my friends ', '  Day 5: We have rediscovered farming', '  The racism, blame deflection, and misinformation is PLANNED—not mere \"error.\"', ' _Shit: Waiting for a hataraku saibou episode on corona virus', 'The new Corona fashion #CuarentenaTotal #COVID2019 #CoronaCiao #Covid_19 #CoronavirusESP #CanYaman… ', '  this man’s piss could stop corona', ' All talk soon so more can be ok and say on news so all can see truth sky is prove them nazi paedophile Eli… ', '  Impeccable message discipline.', '  Close up of President  notes is seen where he crossed out \"Corona\" and replaced it with \"Chinese\" Virus…', '  Day 5: We have rediscovered farming', \"There's legitimate things to criticize Trump about over his handling of the corona virus. The fact that the America… \", \"Photo of Trump remarks shows 'corona' crossed out and replaced with 'Chinese' virus \", ' _: Corona please. We are tired, we get it.', '  Among other things, what this shows is they\\'re using the term \"the coronavirus\" internally like everyone else and are throwing…', '  Article du Washington Post avec des animations montrant l’impact de la distanciation sociale These simulations show how to f…', ' _Bello7:  My own mosque already made close to 20 banners to put in strategic locations to show the suspension of all activ…', '  Day 5: We have rediscovered farming', 'Surprised he can spell 👇#TrumpPandemic #TrumpFailedAmerica ', '  The hard part is that Nigeria isn’t wired to lock down. Majority workers are in the informal space &amp; poor. The formal secto…', '  Keep sharing...ppl need these resources!', 'Nobody:Corona Virus:  ', '  There you have it.Proof that this is an intentional tactic. Trump et al are trying to bait us into fighting over his raci…', '  Day 5: We have rediscovered farming', '  My epsiode with  talking Coronavirus, Covid 19 global lockdown and the upcoming economic collapse will hit 1 mi…', '  holy shit I hate every person in this video', '  Photo of  briefing papers from today shows \"corona\" crossed out and \"Chinese\" written in his sharpie h…', '  Trump is trying to distract you from his incompetence with his racism, don’t let him. ', '  This is Generation Z. I want to name that because folks love calling everybody 40 and under Millennials.Millennials…', ' better start manufacturing those “special edition” pink and blue labels for the corona-pregnancy gender rev… ', '  Day 5: We have rediscovered farming', '  Everyone in this looks sick', '  your lack of remorse for wishing harm to someone suggests you are morally bankrupt. How can you thi… ', \"  _Hova03 Well if it came from Mars wouldn't we call it the flu from mars? It starte… \", '  I pledge and let all of us pledge to follow Janta Curfew this Sunday from 7 am to 9pm so that we strengthen India’s fi…', \"  It's bait. \", '  Aggressively, purposefully, maniacally, loathsomely racist.', ' _: Corona please. We are tired, we get it.', '  Close up of President  notes is seen where he crossed out \"Corona\" and replaced it with \"Chinese\" Virus…', '  If you get corona, you get corona. At the end of the day, your grandparents die. Fixed it.', 'It’s corona timeeee.🤓 ', '  holy shit I hate every person in this video', '  The #Coronavirus test is only recommended if you have fever/ cough/travel history.  If you want to get tested, please st…', '  if ur posting a spring break picture with a caption about corona just block me now', '  There was a nasty flu that went round in December / early Jan. I’m telling you, that was corona. Bare ppl were sick (includ…', '  In response to the corona crisis, the publisher, , of  and my From Here to Equality is offering…', '  Close up of President  notes is seen where he crossed out \"Corona\" and replaced it with \"Chinese\" Virus…', '  in case anyone thought the racism wasn’t planned and intentional', '  This is Generation Z. I want to name that because folks love calling everybody 40 and under Millennials.Millennials…', ' _Gh: When ghetto youths in Ghana heard there hasn’t been any recorded cases on corona virus in Jamaica 😂😂#SMFaithconcert http…', '  .Small addition to the  corona newsletter: nothing you do in science is done alone. While I may have b…', '  They voted against corona virus relief package. No words. Marsha Blackburn (R-TN); Jim Inhofe (R-OK); James Lankford (R-OK)…', 'Everyone in this video is ugly af. ', ' _solar: corona  #classof2020 when we say we want to go prom and graduate like every other class: ', '  Corona virus can’t shut down my mic 🗣 ', ' _: 2 weeks? it’s a fucking global pandemic not a hamstring strain.', '  That said, danger of panic still far exceeds danger of corona imo. If we over-allocate medical resources to corona, it will c…', '  President Trump\\'s notes show where \"corona\" was replaced with \"Chinese\" as he speaks at a coronavirus task force briefing at t…', '  Never ever blame Saudi Arabia 🇸🇦 for bad Human Rights in their country, they have proved during the Corona crisis that t…', '  No, their births are being postponed. ', '  holy shit I hate every person in this video', '  There was a nasty flu that went round in December / early Jan. I’m telling you, that was corona. Bare ppl were sick (includ…', '  Day 5: We have rediscovered farming', ' _: Corona please. We are tired, we get it.', '  Pro-lifers thank Trump for blocking Dem push to Fund Abortion in coronavirus bill!Pro-Life people wanted Hyde Amendment…', '  Close up of President  notes is seen where he crossed out \"Corona\" and replaced it with \"Chinese\" Virus…', ' _: Corona please. We are tired, we get it.', 'dreaming of the day ', '  Hello Bal Narendra....This was on March 3rd while you were playing around', \"  Good. Cuz it's from China.Next snowflake issue?\", '  Mad lad. ', '  Sharing this because corona  ', '  Day 5: We have rediscovered farming', '  Day 5: We have rediscovered farming', '   Best in the world,  Corona case is handled by modi govt.', '  Bhakts getting ready to declare that m*di ji killed corona with his speech: ', '  Trump is trying to distract you from his incompetence with his racism, don’t let him. ', '  tfw you remind yourself to be racist', 'Can we have media updates on corona on time, unless it there be any urgency to interrupt the schuled times... 9am,… ', '  holy shit I hate every person in this video', '  White nationalism. ', 'HE WILL CRY LIKE A LITTLE BABY \" IF HE GETS THE VIRUS \" IDIOTS LIKE THIS CAN GET YOU KILLED ! STAY HOME HELP YOUR F… ', \" It isnt weather weren't saying anything nice or not, it's the fact that you can get sick with interac… \", '  Pro-lifers thank Trump for blocking Dem push to Fund Abortion in coronavirus bill!Pro-Life people wanted Hyde Amendment…', '  here’s a deleted scene from TWD’s special on corona virus ', \"  They were sick so their deaths weren't solely from Corona, important distinction. Stupid.\", '    People like Vishal dadlani wish death of lakhs in India due to corona virus so that they can pu…', '  Day 5: We have rediscovered farming', '  Day 5: We have rediscovered farming', ' _ciara: Me once I touch down on my first trip post-corona  ', '  Transport Minister Robert Montague encourages the commuting public and customers of the JUTC to practice proper sanitizatio…', 'With the knowledge that these college students have what exactly do they need a spring break from? ', '* is still unknown.This comes amid concerns that the corona virus was made in US laboratories as a weapon for bio… ', '  Corona day 3: it just feels like Sunday again and...again', '  holy shit I hate every person in this video ', \"  It's not a good logic.Pandemics are always sudden &amp; they r always bound to meet such thin… \", '  holy shit I hate every person in this video ', '  Close up of President  notes is seen where he crossed out \"Corona\" and replaced it with \"Chinese\" Virus…', 'Spicy key points of Honble PM speech are :1. To observe self imposed curfew on 22nd March2. Not to disturb Hospit… ', '  Prediction: #Syria will have a case of #coronavirus outside of government held areas where the borders are porous. The go…', '  this incompetent racist asshole ', '  everyone coming out of corona as barista', '  The source of the problem:', '  Celebs and the corona part 2 of 2  Positive ending. (View in full)  via ', '  Pls RT. Dear  news &amp; press conferences around the country during this Corona Virus Emergency have  sign langua…', ' _: 2 weeks? it’s a fucking global pandemic not a hamstring strain.', '  As soon as this corona sh*t is over with 💆🏾\\u200d♂️💆🏾\\u200d♂️💆🏾\\u200d♂️ ', 'White people are stupid ', '  Day 5: We have rediscovered farming', 'A prayer for this season... #corona  ', '  Indias response to the corona cris is impressive, WHO says.So far the worlds second most populated country has relatively…', '  Among other things, what this shows is they\\'re using the term \"the coronavirus\" internally like everyone else and are throwing…', '  Every time one of you morons fails to practice social distancing, a corona gets its lime', '  I pray that you are joking', ' _ciara: Me once I touch down on my first trip post-corona  ', '  this incompetent racist asshole ', '  this incompetent racist asshole', '  The racism ain’t a bug.  It’s an enhancement.', '  Just a quick shout to say I have an acoustically treated vocal booth and home studio with broadcast spec equipment in Blackhe…', '  indonesia is really in danger once this person starts making sense', 'This heat finna kill corona lmao', 'Not from Pakistan ', '  Day 5: We have rediscovered farming', '  #This is how Black Brothers look like when they are carrying their #Corona Panic Buying Groceries... 😂 …', '  There you have it.Proof that this is an intentional tactic. Trump et al are trying to bait us into fighting over his raci…', '  this man’s piss could stop corona', \"Hey Trumpers, tell me again how he's not being racist? #WhiteHouseBriefing \", '  Corona is a timely reminder of how obscene the wealth of the royal family is. The queen is moving to Windsor Castle because…', '  Photo of  briefing papers from today shows \"corona\" crossed out and \"Chinese\" written in his sharpie h…', '  Among other things, what this shows is they\\'re using the term \"the coronavirus\" internally like everyone else and are throwing…', '  this man’s piss could stop corona', 'My mom amazes me, she is high risk with this Corona stuff because she has diabetes and smokes but yet still gets up… ', '  Trump is trying to distract you from his incompetence with his racism, don’t let him.', '  holy shit I hate every person in this video', 'Yeah, this was bad.. I couldn’t even eat my Xmas dinner lol ', 'Low-key tempted to call my Animal Crossing Island, either Corona Island or Quarantine Island. 😂', '  Day 5: We have rediscovered farming', 'i mean... corona cancelled my five concerts but at least i dont have to get skinny for them', \"  No one:Literally no one:Me in Cardi B's voice: CORONA VIRUS!\", '  holy shit I hate every person in this video', \"  Ugandans don't be comfortable   the government of ug wouldn't sensitise quarantines if something wasn't wrong .     we…\", 'Corona virus be like! 😂 #CoronaVirus #CoronaOutbreak ', ' _: I know where my corona check going ', '  here’s a deleted scene from TWD’s special on corona virus ', '  Among other things, what this shows is they\\'re using the term \"the coronavirus\" internally like everyone else and are throwing…', '  To ladies and gentlemen. I think the best time to marry is now, no reception, no invitation,  just you, your spouse,…', \"I have just published a post about a topic, that I've tried to avoid and everybody else in the world is talking abo… \", ' _: Corona please. We are tired, we get it.', 'I BEEN saying this !! ', '  Trump is trying to distract you from his incompetence with his racism, don’t let him.', '  Day 5: We have rediscovered farming', '  holy shit I hate every person in this video', '  Close up of President  notes is seen where he crossed out \"Corona\" and replaced it with \"Chinese\" Virus…', '  this man’s piss could stop corona', \"  “If I get corona, I get corona. At the end of the day, I'm not gonna let it stop me from partying”: Spring breakers are still…\", '  Photo of  briefing papers from today shows \"corona\" crossed out and \"Chinese\" written in his sharpie h…', '  This is Generation Z. I want to name that because folks love calling everybody 40 and under Millennials.Millennials…', 'Honestly just cuz I joke about corona doesn’t mean I don’t have loved ones I’m extremely concerned about rn. Like d… ', ' i hope this sweat on my palms is nervousness and not corona...', \"  They're trying to spur a culture war to distract from their own incompetence. So you don't notice them:firing professi…\", \"   That's it, I'm done talking about Corona.. I'm not gonna go to jail for this disease! \", '  Among other things, what this shows is they\\'re using the term \"the coronavirus\" internally like everyone else and are throwing…', ' I am glad they are still working on acquisitions. Hope corona isn’t slowing them down too much... or it m… ', '  Day 5: We have rediscovered farming', ' _: Corona please. We are tired, we get it.', ' _: Corona please. We are tired, we get it.', '  This is NOT A JOKE. A friend of a friend just died of corona at the age of 45. STAY INSIDE YOUR FUCKIN HOUSE AND DO YOUR CIV…', ' _: This is for CORONA  you big fat white nasty smelling fat bitch why you took me off the motherfuckin schedule with your tri…', '  Berliners, we need people with molecular skills (especially qPCR) to help in labs that are running Corona-Virus tests. Mes…', '  Close up of President  notes is seen where he crossed out \"Corona\" and replaced it with \"Chinese\" Virus…', ' _: This is for CORONA  you big fat white nasty smelling fat bitch why you took me off the motherfuckin schedule with your tri…', '  Close up of President  notes is seen where he crossed out \"Corona\" and replaced it with \"Chinese\" Virus…', '  Good.It came from China.', '  if corona is a virus why are we doing online school ', 'The inventor of the Corona virus vaccine should be given the Kronacharya award. #COVID19 #CoronavirusOutbreakindia… ', 'Talk about a dedicated racist.. ', '  Janta curfew bole to lockdown.. self isolation..which is imposed in most of the developed world. Most of Europe is in Jant…', '  Day 5: We have rediscovered farming', 'Why the all ugly tho ', '  Day 5: We have rediscovered farming', '  Day 5: We have rediscovered farming', 'Insitute of Economics and Management studies: Corona virus Infection Impact ON INDIAN ECONOMY. ', 'Was that Lizzo? ', \"To me this Corona virus Hotline should have been made free call to all cell phone networks as it stands now it's go… \", '  Corona day 3: it just feels like Sunday again and...again', ' _Dlaminii: 😂😂😂 I love my country, but how did we get here😂? ', 'This is the way of the world to get rid of idiots. Smh. You can still party at home if you know how. Watch this gr… ', '  Day 5: We have rediscovered farming ', \"  “If I get corona, I get corona. At the end of the day, I'm not gonna let it stop me from partying”: Spring breakers are still…\", ' _ricky Italy has 25% of its population over 60.. corona virus is lethal among this age group...', 'LEGEND: Close Up Photo of Trump\\'s Notes Shows He Crossed Out \"Corona\" and Replaced it with \"Chinese\" Virus… ', \" hey! I'm going to buy a pair of ear buds now when I'm all alone at work (corona), what is the best one you have tried?\", \"   We're taking this Corona to the next level now 😂😂😷\", ' _: Corona please. We are tired, we get it.', ' _meyou7: CDC: “social distancing” “2 week isolation” “flatten the curve”Americans: *continue to go on spring break trips and han…', '_goats Is it in bad taste to ask for this collection of songs to include the much needed parody \"Corona Sniffing Dog\" ?', '  Corona is a timely reminder of how obscene the wealth of the royal family is. The queen is moving to Windsor Castle because…', '  Corona day 3: it just feels like Sunday again and...again', '  Great work by WaPo photographer.', '  This is Generation Z. I want to name that because folks love calling everybody 40 and under Millennials.Millennials…', '  This right here!!!!', '  Can y’all please just follow the governments directions so we can knock this corona virus out, I feel like a kindergartener…', '  \"He will kill us all,\" she said. But no one listened.', 'What she said 👊#corona #keeppushing  Glasgow, United Kingdom ', 'Away from the idea mainly focussing on #JantaCurfew here is how #UrbanNaxals #JantaSarkar plans to fight corona ', '  Someone come ruin my life till this corona virus thing is over', ' _ir: The Racist in Chief doing his racist thing and potentially bringing harm to many Americans ', '  in case anyone thought the racism wasn’t planned and intentional', '  Everyone in this looks sick ', \"  Sorry but I think the Corona employees should have a job....your feelings shouldn't dictate… \", '  I could smell this video, they look musty and ugh GO HOME', '  Drunken, selfish foolishness from #SpringBreakers in Miami. Some of these may become #SuperSpreaders of the #coronavirus —…', '  Among other things, what this shows is they\\'re using the term \"the coronavirus\" internally like everyone else and are throwing…', \"And here we see a Dutch science journalist retweet some dangerous advice. Not that surprised as he's involved with… \", '  This is Generation Z. I want to name that because folks love calling everybody 40 and under Millennials.Millennials…', ' If we can get more \"medical\" masks by changing the definition couldn\\'t we \"save\" the Dow Jones by adjustin… ', '  holy shit I hate every person in this video', '  Someone come ruin my life till this corona virus thing is over', 'US Corona Super-Spreader - New Jersey Jewish Dr. at Pro-Israel Mega-Events Lobbying (i.e. Bribing) US Pols (Audio +… ', ' Its not a medical name shafqat bhai but a medical term to recognizeActually covid meaning in urdu is… ', '  This is Generation Z. I want to name that because folks love calling everybody 40 and under Millennials.Millennials…', 'Coronavirus: Lime removes scooters in US, other countries - ', 'The rest of my check after corona.. ', '  Corona day 3: it just feels like Sunday again and...again', '  This is Generation Z. I want to name that because folks love calling everybody 40 and under Millennials.Millennials…', \" Vi is too far...I don't want to go past the toll lmaooo. But Corona so...🤔🤔🤔🤔\", '_aros Take me away take me a corona oooooo', '  Everyone in this looks sick ', 'This  when she get a gun😂😂 ', '  Corona day 3: it just feels like Sunday again and...again', '_KHATTAK6 Happy birthday sir♥️May you succeed in you lifeAmy your parents be proud on youSorry for late… ', ' __mariamxo: corona can’t stop me from hearing God’s word😍 ', ' _fabunmi: 4 new cases of Corona Virus in Lagos!!This same Lagos that someone will just decide to doze off on ur shoulder in a pub…', \"Scary and funny at the same time. Now, he will spread his virus throughout the streets he's roaming 🤔🏃😭 \", '  Day 5: We have rediscovered farming', 'I am so happy!  About this news. ', '  The CTE be hittin', '    _summer  __mikey… ', '  Photo of  briefing papers from today shows \"corona\" crossed out and \"Chinese\" written in his sharpie h…', 'Gen Z kids post about supporting small businesses, not being racist, and what the government should be doing during… ', ' Corona is coming for them...to kick their bloody ass..', '  Many concerns regarding workplaces shutting down, people not able to work, loss of income due to Coronavirus situation…', '  The political incorrectness of  is one of his most endearing qualities ', '  Breaking News: A #Corona Patient escaped from a Govt hospital in Peshawar. Police despite hours long effort remain unabl…', '  Kaduna State Corona Virus Help Lines: 080250883040803604575508027396344.#FightCOVID19 #CoronaVirusNigeria #CoronaVirusUp…', '  351k ppl believe that if put COOKED corn in soil it will sprout and grow into more corn... the internet literally has one…', '  Dentist, do you want to see what \\'RACIST\\' looks like?Changing the word \"Corona\" to \"Ch… ', '  This is Generation Z. I want to name that because folks love calling everybody 40 and under Millennials.Millennials…', 'Always ruining shit in my city ', ' _HQ: #CoronaVirus in nations with minimal #bordercontrols:FRANCE - 9100ITALY - 35000SPAIN - 17100GERMAY - 13000Corona Virus in…', '“The voting age should be 16!” 21 year olds: ', '  Everyone in this looks sick', ' _shabu: Whoever’s mum is forwarding my mum corona info can you stopppp', '  holy shit I hate every person in this video', ' _Bear: Another market rough ride but ends positively. Everybody Calm Down! It’s going to be OK🇺🇸You will survive corona scare!👍——…', '  What a piece of shit.', '  Is it me, or did  refuse corona test kits from WHO?', '  Chr*s Si*nckler woulda take all the Corona funds and build a house in St Philip', '  Patriot 79Featured: 🚂 …', '  God is Bigger than Corona virusGod is Bigger than Corona virusGod is Bigger than Corona virusGod is Bigger than Corona vir…', '  This is a sobering observation. Open borders and freedom of movement can be blamed for the widespread transmissions. https:/…', '  At the risk of being alarmist, guys, the Corona Virus is here in Nigeria, and local transmission has been confirmed. You…', '  Among other things, what this shows is they\\'re using the term \"the coronavirus\" internally like everyone else and are throwing…', 'dear corona, you have ruined the rest of my freshman year at college, you have ruined in person classes, you have… ', \"    remember when Queens refused to foot Bezo's tax bill to ruin Queens w/Amazon city space and locals won?  Th…\", '  Great work by WaPo photographer.', ' _s_ahmad: No Doctors to handle Corona,No lecturers to create an awareness on corona,NYSC camps have been shutdown,No water, N…', ' _NOMICS: The post corona turn up is going to hit different. People will be so joyous. Mandem might even allow a couple dead joints on t…', 'Made-at-home social-distanced standup special titled Queen of Corona    … ', ' _: This is for CORONA  you big fat white nasty smelling fat bitch why you took me off the motherfuckin schedule with your tri…', 'haibo guys kanene what are the symptoms ? ', '  This is Generation Z. I want to name that because folks love calling everybody 40 and under Millennials.Millennials…', '  This is Generation Z. I want to name that because folks love calling everybody 40 and under Millennials.Millennials…', '  Close up of President  notes is seen where he crossed out \"Corona\" and replaced it with \"Chinese\" Virus…', 'Plan only works if \"ruthless collective action\" ... sadly we still don\\'t have that!   callers tonight verifying! ', '  Once Trump tasted this latest \"Chinese virus\" outrage meat reporters tossed at his feet, per his usual, he happily bit do…', '  Everyone in this looks sick', '  Corona day 3: it just feels like Sunday again and...again', ' _Xd: I am a responsible citizen and Muslim and I realize Jummah prayer tomorrow will create a very dangerous environment for Co…', ' No but based on research based on other variants of the Corona Virus it does not like warm dry air… ', ' _Ind: Long time back this person broke off all relations with me because I revolted against dynasty &amp;  TODAY I BRE…', \"It's o.k#Corona \", '  &lt;blinks slowly, throws phone&gt; ', \"_GUJJU Ye pagal aa gayi phir. Corona can't stand against her.\", '  Close up of President  notes is seen where he crossed out \"Corona\" and replaced it with \"Chinese\" Virus…', '  These people are absolute dogshit lol.', '  Weekly allowance imeenda hivo ju ya Corona😭', '  The  page of the Chinese Telecom  is promoting videos of May ElKharseety, an American-Egyptian who is dangerous…', \"  I'm open-sourcing a command line CLI I wrote, to track the latest stats of Coronavirus disease (COVID-19).❯❯ …\", '  the corona virus doesn’t scare me but the fact that the world is literally coming to a hault bc of it is kind of frightening', ' _mungai: Ati Corona Virus Odhiambo has just been born somewhere in Kisumu 😂😂😂', \" _: 😳THIS is what concerns you?🤔It's been called Coronavirus for years. Should we consult the beer company?😒How about the s…\", \"  Speaking about the corona virus, today it seems that a leader is speaking. Bilawal bhutto proved by today's aggressive s…\", '  Good.It came from China. ', '  Please RT: A team of researchers is looking for volunteers to translate a survey on Corona (1300 words) into many languages…', 'Can everyone that thinks calling this pandemic \"Chinese virus\" racist put a fuckin bandaid on their feelings...coro… ', '  The Corona Virus is causing shipping delays for physical copies of #AnimalCrossingI wanna try to help those affected!⏩ Re…', '  Trump is trying to distract you from his incompetence with his racism, don’t let him.', '  These look like the spitting people M7 was talking about.', '  There was a nasty flu that went round in December / early Jan. I’m telling you, that was corona. Bare ppl were sick (includ…', \"  “If I get corona, I get corona. At the end of the day, I'm not gonna let it stop me from partying”: Spring breakers are still…\", 'Mad oooo😅 corona come and carry this one ASAP ', ' _: Corona virus got every body like... ', \"  Dear ,Quit wasting India's time playing the clown with your social media accounts, when India is facing an emer…\", ' _: The club gon be so dumb when it’s over omg 😂😂', ' _: Corona please. We are tired, we get it.', '  Trump is *trying* to keep people focused on fighting about his xenophobic language use because xenophobia turns on his ba…', '  Someone come ruin my life till this corona virus thing is over', '  Mayor goes to washroom in between the Corona virus meeting in USA and forgot to remove his microphone from tie... liste…', 'corona virus needs to get it together  so i can start wearing less and going out more', \"It's so nice to see that people in India are not hiding behind the Corona issue and standing and speaking up where… \", '  thats like my daily basis even before corona what yall talkin bout quarantine', '  No lie tho I can’t wait for this corona shit to be over with, I got shit to do', 'people are sick, the country is afraid but trump has to keep on being hatefully racist &amp; hurt some minority.… ', ' _florezz: This corona virus reminds me of my ex, tryna fuck with everyone', '  Intended racism, trying to deflect from his (lack of) responsibility.', '  Everyone around the world right now. The Corona wash 😂 ', '  Day 5: We have rediscovered farming', ' This is #Uganda. But   dont you think that #corona virus is already in uganda', '  Great work by WaPo photographer.', 'It does scare me. Why isn’t is scaring everyone???! ', '  this man’s piss could stop corona', '  Day 5: We have rediscovered farming', 'I’m happy I got a new laptop but I’m mad it’s cause I have to start working from home cause of the corona lol', '  this man’s piss could stop corona', ' _: This is for CORONA  you big fat white nasty smelling fat bitch why you took me off the motherfuckin schedule with your tri…', '  This is Generation Z. I want to name that because folks love calling everybody 40 and under Millennials.Millennials…', '  Day 5: We have rediscovered farming', '  Day 5: We have rediscovered farming', '  Day 5: We have rediscovered farming', 'foh wit that corona virus shit go bacc to work mfs ya layzie bum ass mfs 😂', ' Dis one ☝️ na Corona virus specimen', '  everyone coming out of corona as barista', '  Many concerns regarding workplaces shutting down, people not able to work, loss of income due to Coronavirus situation…', '  What stupidity looks/sounds like. Drinking ain’t that serious.', '  This is Generation Z. I want to name that because folks love calling everybody 40 and under Millennials.Millennials…', 'When you’re a garbage human. ', '  This is Generation Z. I want to name that because folks love calling everybody 40 and under Millennials.Millennials…', '  Among other things, what this shows is they\\'re using the term \"the coronavirus\" internally like everyone else and are throwing…', '  Coca-Cola has been referred to as Coke for decades and you’ve been quiet as fuck on that matter', 'cause y’all mf was out, I seen y’all! ', '  Have you noticed every member on Trump\\'s corona \"task force\" must make two obligatory compliments to Dear Leader before sha…', '  Again New York is behind. We must let older &amp; vulnerable population out of prisons, a #corona petri dish, now …', '  The Corona Virus is causing shipping delays for physical copies of #AnimalCrossingI wanna try to help those affected!⏩ Re…', '  if corona has your gym closed then try my home workouts sis, you can grow your bum from home x ', 'This is the leader of our country??? WTF ', '  This is the real speech &amp; precaution  protect from Corona not taali &amp; thali. ', '  Focusing on defeating Corona doesn’t mean we must let our guard down. We must be vigilant and expose any form of corruptio…', '  Corona day 3: it just feels like Sunday again and...again', '  This is Generation Z. I want to name that because folks love calling everybody 40 and under Millennials.Millennials…', 'We should have listened to Thanos ', '  The only man who can save us from corona virus ', 'Corona virus has strict activity hours in India folks, and that too just on this given day ! This is what we have t… ', '  This is Generation Z. I want to name that because folks love calling everybody 40 and under Millennials.Millennials…', '  What a commendable decision made by our respected prime minister Mr.  .. we must all support our country togeth…', '  Everyone in this looks sick', '  Among other things, what this shows is they\\'re using the term \"the coronavirus\" internally like everyone else and are throwing…', 'fuck these peopleif you get it you may be fine, but you may transmit it to someone who cannot handle it and possi… ', '  Day 5: We have rediscovered farming', '#Lebanon 🇱🇧  announced 10 new #Coronavirus cases bringing the total to 149 #COVID19 infections with 4 deaths, 4 cri… ', '  this man’s piss could stop corona', '  holy shit I hate every person in this video', 'EU allocates Chinese aid to Italy to fight against the pandemic ', '.........I would like to thank staff, students and parents \\u2066\\u2069 for their support over the years and wish ev… ', '  Close up of President  notes is seen where he crossed out \"Corona\" and replaced it with \"Chinese\" Virus…', '  These people are absolute dogshit lol.', '  Can everyone just stay at home please so that corona fucks off quickly and then we can carry on and enjoy our summer, fest…', '  چائنہ کے شکرگزار ہیں جو ایسی کٹھن گھڑی میں ہماری مدد کو تیار ہے۔We are especially thankful to China as it looked afte…', ' _will_gustafson: Fuck Corona (Corona Virus Diss Track) Dropping tomorrow 3pm Eastern Time🔥🙄🥵🦠🔫 ', '  Among other things, what this shows is they\\'re using the term \"the coronavirus\" internally like everyone else and are throwing…', '  Breaking News: A #Corona Patient escaped from a Govt hospital in Peshawar. Police despite hours long effort remain unabl…', ' _: 2 weeks? it’s a fucking global pandemic not a hamstring strain.', '  Day 5: We have rediscovered farming', 'My dawg😐 ', '  everyone coming out of corona as barista', '  Day 5: We have rediscovered farming', '  The post corona party better be fucking litty titty', '  this man’s piss could stop corona', ' _IND: We Indians are blessed to have a leader like Modi jiIndia is definitely in safest hand Pranam  JiIn…', '  Day 5: We have rediscovered farming', '  My dick is Bigger than Corona virusMy dick is Bigger than Corona virusMy dick is Bigger than Corona virusMy dick is…', 'This is the corona virus equivalent of holding up at bottle of  at the club 😂 ', '  Corona virus- shortness of breath. Someone with anxiety- “this is going to be difficult to tell......” 😂😂', ' _: This is for CORONA  you big fat white nasty smelling fat bitch why you took me off the motherfuckin schedule with your tri…', ' _: 2 weeks? it’s a fucking global pandemic not a hamstring strain.', '  this man’s piss could stop corona', 'It’s been around for years just like everything else they just kept it quiet until now election time again and beca… ', 'On my way! to microcenter to get corona and also a microSD', '  Day 5: We have rediscovered farming', \"  i vote to restart the years after this is over. no more 2020. it's 1 AC (after corona)\", ' _: This is for CORONA  you big fat white nasty smelling fat bitch why you took me off the motherfuckin schedule with your tri…', '  Close up of President  notes is seen where he crossed out \"Corona\" and replaced it with \"Chinese\" Virus…', ' _sapienmnch: Stop eating shit.', '  Day 5: We have rediscovered farming', '  Among other things, what this shows is they\\'re using the term \"the coronavirus\" internally like everyone else and are throwing…', '  Sharing this because corona  ', '  They all need to get drafted into the Army tomorrow.', '  Photo of  briefing papers from today shows \"corona\" crossed out and \"Chinese\" written in his sharpie h…', '  this incompetent racist asshole', '  There was a nasty flu that went round in December / early Jan. I’m telling you, that was corona. Bare ppl were sick (includ…', '  Sharing this because corona  ', '  holy shit I hate every person in this video', '  Corona day 3: it just feels like Sunday again and...again', ' _ciara: Me once I touch down on my first trip post-corona  ', '  There you have it.Proof that this is an intentional tactic. Trump et al are trying to bait us into fighting over his raci…', '  this man’s piss could stop corona', ' _: This is for CORONA  you big fat white nasty smelling fat bitch why you took me off the motherfuckin schedule with your tri…', ' Here’s my idea to slow down the spread of corona check it out :)', '_dennis   Masa Go Sleep &amp; Pray Say You Get Big B4 Corona Catch You', 'VIDEO: James Anderson, who is training in a special way with the help of daughter amidst the threat of Corona… ', '  This is Generation Z. I want to name that because folks love calling everybody 40 and under Millennials.Millennials…', '  Close up of President  notes is seen where he crossed out \"Corona\" and replaced it with \"Chinese\" Virus…', '  There you have it.Proof that this is an intentional tactic. Trump et al are trying to bait us into fighting over his raci…', '  Day 5: We have rediscovered farming', '  My white blood cells fighting off corona virus ', '  Everyone in this looks sick', '  Where are the folks who used to say “Drs ain’t shit”. “MBChB is just an undergrad degree like the rest”. You guys are too quie…', ' Bro alot of viruses are names after the orgin Spanish flu MERS Middle Eastern Respiratory Syndrome this… ', '  Breaking News: A #Corona Patient escaped from a Govt hospital in Peshawar. Police despite hours long effort remain unabl…', '  This is Generation Z. I want to name that because folks love calling everybody 40 and under Millennials.Millennials…', '  There you have it.Proof that this is an intentional tactic. Trump et al are trying to bait us into fighting over his raci…', '  in case anyone thought the racism wasn’t planned and intentional', ' _: Natural selection. Just throw the whole state away pls ', '  Corona day 3: it just feels like Sunday again and...again', \"  They're trying to spur a culture war to distract from their own incompetence. So you don't notice them:firing professi…\", 'will i get a gf before i get corona ', 'Many families in #Gaza choose to stay inside. Some youngsters go out but no mass crowding aside from wedding partie… ', '  I am a Young Doctor and working in Corona Virus Clinic right now. We are not on strike and we value human life.We just wa…', '  _ma Thank you for what You are doing to help. Unfortunately, we cannot believe what the Chinese government reports.…', '  Italy has now overtaken China in the number of Corona Virus deaths. Yesses. 😳China population = 1,4 BillionItaly populati…', '  Here is my brand new Youtube channel. I know we are all concerned about Corona but I have finally found the time to do this…', '  As a Malaysian student here in South Korea, I can say that they handle this Covid-19 situation really well!!😍The govern…', '  Fuck corona, I miss my friends ', '  TIME 11:33 of picture, look at lectern.  Q1133#17QClose up of  notes where he crosses out Corona and…', 'My moots are wildin???? Uh ', '  This is Generation Z. I want to name that because folks love calling everybody 40 and under Millennials.Millennials…', '  Day 5: We have rediscovered farming', '  These people are absolute dogshit lol.', ' _yuval: The first coronavirus dictatorshipNetanyahu lost the elections. So under pretext of fighting corona, he has closed the…', \"  #Twitter this is wrong.....Why can't people raise their voice against Anti Nationals, Traitors, and Terrorist who jeopardis…\", '  Close up of President  notes is seen where he crossed out \"Corona\" and replaced it with \"Chinese\" Virus…', ' Is it true that chloroquine is used in the USA as a therapeutics for corona virus', 'Craziest free agency everrrr. Todd gurley released holy shitttt. Corona got these mf’s thinking different lml', '  Dawg y’all funny man..... This Corona got y’all being creative .. ', 'Racists gonna racist. ', '  Day 5: We have rediscovered farming', '  While the commercial markets in some countries of the world are experiencing turmoil, panic and a shortage of products…', '  Corona day 3: it just feels like Sunday again and...again', ' _: 2 weeks? it’s a fucking global pandemic not a hamstring strain.', ' _Sport_Buff: _ET Why did the flower decorations look like Corona? ', '  For everyone that needs food during the corona crisis! #community #cometogether ', '  Everyone in this looks sick', '  Day 5: We have rediscovered farming', '  Great work by WaPo photographer.', '  Everyone in this looks sick', 'Not for nothing if your kid doesn’t understand what’s going on right now and they are at least five years of age th… ', '  Deflection. Classic deflection. Let’s not take the bait and stay focused on testing, mitigation, and support of our frontlin…', '  holy shit I hate every person in this video', \"if i get one more add from piper lou about their soccer mom anti corona tumblers i'm gonna scream\", \"  REMEMBER TO WASH YOUR SHEETS DURING CORONA!!!not bcz of the virus but bcz i know y'all havent left your beds since they…\", 'This corona shit makes me wish I had a gf', '  410k views and counting on their last ad now because of you, you muppet', 'Again: We all know the new virus erupted in Wuhan, China. But calling it the “Chinese virus” is harmful. Asian Amer… ', 'Positive corona virus infections  ', '  Sharing this because corona  ', \"  Here's 5 ways you can fight #coronavirus &amp; become a super preventer 💪🏽  Please share this video and keep up to date with…\", '  Can everyone just stay at home please so that corona fucks off quickly and then we can carry on and enjoy our summer, fest…', 'This why America goin down the drain ', '  “corona time “😭😭😭😭 ', '  this fuckwad, Brady Sluder, is infected.If you know Brady Sluder, let him know he has corona. And isolate that fucke…', ' _Acortes: Corona virus....its coming', '_news You have been posting almost exclusively about the Corona Virus and sprinkled a map of Asian populatio… ', 'WTFF ', '  As  invites citizen-participation in the fight against Corona Virus in India, I shall on remain indoors entirely…', '  Among other things, what this shows is they\\'re using the term \"the coronavirus\" internally like everyone else and are throwing…', '  Fuck corona, I miss my friends ', '  Day 5: We have rediscovered farming', '_sabanaqvi Dear HINDUISM-HATING JIHADAN,  What about your Quami Sisters at #ShaheenBagh &amp; UR Maulvis who claim t… ', 'BOOM! ', ' _: 2 weeks? it’s a fucking global pandemic not a hamstring strain.', '  This is Generation Z. I want to name that because folks love calling everybody 40 and under Millennials.Millennials…', '  Close-up of Pres. Trump\\'s notes shows \"Corona\" crossed out and replaced with \"Chinese\" as he spoke from the White House briefing r…', ' Every night - I’ve already taken my paracetamol stash curing my non corona virus symptoms - knowing deep… ', 'Positive corona virus infections  ', '  2016 Cavs can beat the corona virus', '  Corona coming after you, if you don’t  wash your hands ', 'Me looking down at corona. UwU ', 'Race baiting piece of shit.... ', ' Don\\'t worry, only the US Government calls it \"chinese virus\". Here in Europe we refer to it by its… ', 'I beeeen saying this the flu I had in dec I thought I was dying it lasted 4 whole weeks ', '  I just asked a DC cop what he’s noticed since the coronavirus sent people home. “More domestic violence,” he said, withou…', '  PLEASE RETWEET -A list of all #COVID19 Helpline numbers from various States/UTs 👇. #CoronaVirus #COVID2019 #Corona #Coron…', ' _ella: Italian Drs on twitter: urging us to take the coronavirus seriously American Drs on twitter: urging us to stay home and so…', '  if corona is a virus why are we doing online school ', '  Day 5: We have rediscovered farming', '  They voted against corona virus relief package. No words. Marsha Blackburn (R-TN); Jim Inhofe (R-OK); James Lankford (R-OK)…', '  Breaking News: A #Corona Patient escaped from a Govt hospital in Peshawar. Police despite hours long effort remain unabl…', '  This is Generation Z. I want to name that because folks love calling everybody 40 and under Millennials.Millennials…', ' _004: Sharing this because corona ', ' _: Corona please. We are tired, we get it.', ' Why are parents letting their kids go to Fla on spring break? There are other things they can do besides… ', \"  They haven't cancelled paedophiles and you think Corona is where they will draw the line?\", '  holy shit I hate every person in this video', '  This photo is of Trump\\'s notes from today\\'s briefing on coronavirus. He very clearly marked out \"corona\" and wrote - in…', '  Corona day 3: it just feels like Sunday again and...again', '  Trump, in his distinctive Sharpie script, crossed out “Corona” and wrote in “Chinese.” Eagle-eyed  got the…', 'The dark corona ', '  This is Generation Z. I want to name that because folks love calling everybody 40 and under Millennials.Millennials…', ' _: This is for CORONA  you big fat white nasty smelling fat bitch why you took me off the motherfuckin schedule with your tri…', '  Day 5: We have rediscovered farming', '        All ta… ', 'Why the media did not show black people can get corona too', '  #Corona:All 3 +ve cases in TN are imported cases from diff regions with travel histories.We identified all d 3 Pts onl…', '  Corona coming after you, if you don’t  wash your hands ', ' _will_gustafson: Go play that shit and stay safe!! 🦠🙅🏽\\u200d♀️ ', '  I am a Young Doctor and working in Corona Virus Clinic right now. We are not on strike and we value human life.We just wa…', \"Kunle chill don't worry Corona virus won't kill you, you're destined to die on top woman.\", '  The Corona Virus is causing shipping delays for physical copies of #AnimalCrossingI wanna try to help those affected!⏩ Re…', '  How long before a deranged trump supporter names their twins Corona and Covid', '  Corona day 3: it just feels like Sunday again and...again', '  God is Bigger than Corona virusGod is Bigger than Corona virusGod is Bigger than Corona virusGod is Bigger than Corona vir…', '  My friends please join me in prayers for this family   God holds the keys to every request.  Nothing is beyond His abil…', '  Deflection. Classic deflection. Let’s not take the bait and stay focused on testing, mitigation, and support of our frontlin…', 'Viruses have come and passedbut this new thing has spread too fastwake me up when Corona endsLike the flu has c… ', '  If corona doesn’t kill me, the bender I’m going on after it passes will', '  Close up of President  notes is seen where he crossed out \"Corona\" and replaced it with \"Chinese\" Virus…', \"  'Doing it the Danish Way'.  I'm speaking on Digital WorldBike Conference on March 31st on the culture of Danish everyday c…\", '  Trump is trying to distract you from his incompetence with his racism, don’t let him.', ' _marku: I’m gonna tell my kids I killed corona with my own bare hands so that they could live and go to school in this country .', '  This is Generation Z. I want to name that because folks love calling everybody 40 and under Millennials.Millennials…', 'What fucking morons you millennial’s are I hope if you get the coronavirus it takes you down with it if you’re gonn… ', \"  You can no longer defend this.Make up any excuse or reasoning you want, it's intentional and it's racist.\", 'Wtf the corona cases in berlin have doubled in ONE day. ', '  Close up of President  notes is seen where he crossed out \"Corona\" and replaced it with \"Chinese\" Virus…', ' _mapesa: Ka nimeona nudes ka izo sasa ata corona ikinibeba av already fulfilled my mission on earth.What do you see after seeing…', '  Sharing this because corona  ', '  38% of hospitalized #Coronavirus patients were aged 20 to 54.Listen to the stats\\xa0— not this guy.STAY HOME! …', 'You’re immune to Corona now 😂 ', '  My father hit Simmi and I with a hectic phrase today “you’re not infected by corona but you’re affected cause your busines…', 'Here come the germs againfalling from my nosesneezing my nostrils outwe´ll see where this thing goesAs my memo… ', '  Fuck corona, I miss my friends ', 'What an asshole ', ' _: This is for CORONA  you big fat white nasty smelling fat bitch why you took me off the motherfuckin schedule with your tri…', \"  “If I get corona, I get corona. At the end of the day, I'm not gonna let it stop me from partying”: Spring breakers are still…\", '  Shut the fuck up and lay down the cocaine.', '  😱#Florida spring-breakers:“If I get #corona, I get corona....I’m not going to let it stop me from parting.”#Coronavi…', 'Worse than Corona ', 'asshole ', '  Close up of President  notes is seen where he crossed out \"Corona\" and replaced it with \"Chinese\" Virus…', ' _psycho_guru: I just tested positive to the corona virus. I’m too weak to even feel sorry for myself, but I intend to share my symptom…', '  The Corona Virus is causing shipping delays for physical copies of #AnimalCrossingI wanna try to help those affected!⏩ Re…', '  Everyone in this looks sick', '  These people are absolute dogshit lol.', '  Everyone in this looks sick', '  this man’s piss could stop corona', ' _kems4: When I see people making jokes about Corona Virus...#COVID19', '  Japanese&amp;Taiwanese epidemiologists/pharmacologists have determined Coronavirus could have originated in US. BiologicalDeve…', ' _aros: Mayorkun is somewhere in the studio singing \"Ramona, this your body dey killing person like Corona\"', \"  Someone needs to tell Modiji that Corona Virus doesn't take a leave on Sunday.#मोदीजी_बकवास_बंद_करो\", '  There was a nasty flu that went round in December / early Jan. I’m telling you, that was corona. Bare ppl were sick (includ…', '  Day 5: We have rediscovered farming', '  38% of hospitalized #Coronavirus patients were aged 20 to 54.Listen to the stats\\xa0— not this guy.STAY HOME!', \" I think this whole Corona Chinese cold, whatever  you'd like to call it, is an overheated hype.\", '  Photo from  briefing book today shows he crossed out \"corona\" to describe the virus and wrote in \"Chin…', '_1 I’m not denying that. I’m literally saying calling it the Chinese virus instead of the corona virus or… ', '  Corona day 3: it just feels like Sunday again and...again', '  There you have it.Proof that this is an intentional tactic. Trump et al are trying to bait us into fighting over his raci…', '  I’m setting JoJo’s Corona PSA song as my new ringtone ', '  this man’s piss could stop corona', '  Day 5: We have rediscovered farming', '  Day 5: We have rediscovered farming', '  Good.It came from China.', '  Corona Virus is Real guys!!!!!! ', '  seeing alot of people connecting the rise of cases to people taking a “corona holiday”while these “anti-social distan…', '  This is Generation Z. I want to name that because folks love calling everybody 40 and under Millennials.Millennials…', 'The fight against corona virus. #chloroquine#medikal#Ghana#Kumasi ', '  Day 5: We have rediscovered farming', '  Corona day 3: it just feels like Sunday again and...again', '  Day 5: We have rediscovered farming', '  holy shit I hate every person in this video', '  Trump is using the term “Chinese Virus” is a way to inflame his baseSadly we will see an uptick of attacks on Asian A…', '  These people are absolute dogshit lol.', ' _ShiiiveR: Getting stir crazy with this corona quarantine bs. Instead I’m streaming #Warzone at ', '  this incompetent racist asshole', '  here’s a deleted scene from TWD’s special on corona virus ', ' _: 2 weeks? it’s a fucking global pandemic not a hamstring strain.', '  Day 5: We have rediscovered farming', '  Corona day 3: it just feels like Sunday again and...again', '  This is Generation Z. I want to name that because folks love calling everybody 40 and under Millennials.Millennials…', '  Close up of President  notes is seen where he crossed out \"Corona\" and replaced it with \"Chinese\" Virus…', '  Corona is a timely reminder of how obscene the wealth of the royal family is. The queen is moving to Windsor Castle because…', '  The same Tolu Ogunlesi that insisted that Mr Jonathan must hold a Presidential media chat to address Nigerians on Ebola is the…', '  I cannot even begin to imagine in the next view months how the corona virus will effect those imprisoned', '  Everyone in this looks sick', 'Young people, you are not invincible,  you are at very high risk, a few hundred young people in their 20s are falli… ', '  This is Generation Z. I want to name that because folks love calling everybody 40 and under Millennials.Millennials…', '  This photo is of Trump\\'s notes from today\\'s briefing on coronavirus. He very clearly marked out \"corona\" and wrote - in…', '  Germany speed building a 1,000 bespoke Corona-Hospital using their army. Just like China managed in 5 days. Why? Because th…', '  Close up of President  notes is seen where he crossed out \"Corona\" and replaced it with \"Chinese\" Virus…', '  Close up of President  notes is seen where he crossed out \"Corona\" and replaced it with \"Chinese\" Virus…', \"These are, definitely, the kind of idiots who wouldn't survive in a horror movie. \", \"  There's overcapacity in the airline industry &amp; there should've been consolidation before this all hit,  says. They have…\", '  Close up of President  notes is seen where he crossed out \"Corona\" and replaced it with \"Chinese\" Virus…', ' _: This is for CORONA  you big fat white nasty smelling fat bitch why you took me off the motherfuckin schedule with your tri…', ' _Nakanyane: Corona virus has definitely been there. What we experience oftenas a common cold is often caused by corona virus or oth…', '  No gym? No problem #Corona #COVID2019 #SocialDistancing ', '  This is Generation Z. I want to name that because folks love calling everybody 40 and under Millennials.Millennials…', \"MY BEST BUY ISN'T DOING A MIDNIGHT RELEASE OF ANIMAL CROSSING BECAUSE THEY ARE CLOSING EARLY BECAUSE OF CORONA VIRU… \", 'Here’s ’s wise thoughts on corona. It will surprise nobody to learn that I agree with all of it. ', ' _aros: Mayorkun is somewhere in the studio singing \"Ramona, this your body dey killing person like Corona\"', \"   Let's kick Corona virus in the ass and out by April..Give the media and Democrats a stroke..\", '  This is Generation Z. I want to name that because folks love calling everybody 40 and under Millennials.Millennials…', '  Corona day 3: it just feels like Sunday again and...again', 'Tmj rs ', '  “Back in the 70s when Indian doctors began coming to the US, hospitals would send cars to pick them up. That’s how badly…', \"  You can no longer defend this.Make up any excuse or reasoning you want, it's intentional and it's racist. …\", '  I pledge and let all of us pledge to follow Janta Curfew this Sunday from 7 am to 9pm so that we strengthen India’s fi…', ' coroNa tImE', '  What China thought yday, India needs to think today. And NOW!! Time for ACTION!! Words not enough.', '  Good.It came from China. ', ' _: This is for CORONA  you big fat white nasty smelling fat bitch why you took me off the motherfuckin schedule with your tri…', ' That’s classic. We feel these things all the time, but our brain filters out the sensory noise because it… ', '  this man’s piss could stop corona', '  There you have it.Proof that this is an intentional tactic. Trump et al are trying to bait us into fighting over his raci…', '  Day 5: We have rediscovered farming', \"You will never convince that Trump isn't racist. \", '  Sharing this because corona  ', 'Boohaariii coman carry ya sub oh... This one is Corona Free ', \"now that's why i haven't seen any birds when i walk outside \", 'Sir have a seat ', '  Great work by WaPo photographer.', \"  I'm very certain that the Vice President YEMI OSINBAJO will match up to any world leader if allowed to lead our ANTI-CORONA…\", ' _: Corona please. We are tired, we get it.', 'She snapped 🤣🤣👏🏾 ', ' _BN: Two of the #CoronaVirus patients have fully recovered while another has returned home, said Director of Institute of Epi…', '  Sharing this because corona  ', 'I’ll probably kill myself before corona can', '  This is Generation Z. I want to name that because folks love calling everybody 40 and under Millennials.Millennials…', '  here’s a deleted scene from TWD’s special on corona virus ', ' _: 2 weeks? it’s a fucking global pandemic not a hamstring strain.', \" _PC: Corona Virus can't stop us! Project Cartographer v0.5.6 update is out now!  \", ' __mariam_k_: I can’t believe there’s no agbo that cures corona yet. What are the plant biologists doing?', 'A Real Rhodes Scholar here. Put him in the ring with Haku and he’ll change his tune in heartbeat. ', 'Is this a coincidence???#corona #usa🇺🇸 #california #cali #costco #wholesale #covid #covid_19 #italy🇮🇹 #italya… ', '  If what Dr Zweli Mkhize is saying is anything to go by. It simply means, all along they were just misleading the public…', '  Everyone in this looks sick', '  Among other things, what this shows is they\\'re using the term \"the coronavirus\" internally like everyone else and are throwing…', '  Photo of  briefing papers from today shows \"corona\" crossed out and \"Chinese\" written in his sharpie h…', '  Indonesian carats went viral on the news for doing an open donation to help fight and prevent the spread of COVID-19! they…', '  here’s a deleted scene from TWD’s special on corona virus ', ' I hope that the shops will not allow the return of these products after the Corona virus threat has passed,… ', '  Everything’s closed bc of corona but my arms be open 24/7 baby 🤗', '  Plus, in my trust we are looking after corona +ve patients on the wards, trying to stop… ', ' _messing  Corona beer paid him to change it.', \"If Corona virus doesn't leave, Ramadan will wash it away, because it's the month of mercy.. In sha Allāh… \", 'Asteroid- I will kill the planet earth 🌚! Corona : I wil kill the planet earth 🌍! Neha Dhupia : it’s their choice !', '  Photo of  briefing papers from today shows \"corona\" crossed out and \"Chinese\" written in his sharpie h…', '  Sharing this because corona  ', ' _singer: other artists cancelling tours because of corona:harry:  ', \"  As a Christian, you're also a fucking pea brain. Just making it clear. Jesus, we cringe with you.\", 'Trump is hateful. Call the virus by the scientific name. He’s intentionally irritating people by doing this. A pers… ', \"Playing COD Warzone [AR/EN] If you're afraid of Corona, come and chat with me, I'll protect you ;-) ..\", '  holy shit I hate every person in this video', '  Close up of President  notes is seen where he crossed out \"Corona\" and replaced it with \"Chinese\" Virus…', 'We appreciate Kaguta Museveni &amp; the entire Ugandan population for always staying a head of viral infections..There… ', '  this man’s piss could stop corona', '  This is Generation Z. I want to name that because folks love calling everybody 40 and under Millennials.Millennials…', \" _IFG: I'm biased, sure, but today's first #IFGLive was a great discussion about the relationship between the PM and the Chancellor…\", '  Everyone in this looks sick', 'Don’t fall for the trap. Calling the corona virus the Chinese virus distracts us from the real problem. Donald trum… ', '  this incompetent racist asshole', \"  No, not inflammatory at all, especially since President's new favorite media outlet  thinks this is no different tha…\", '  this man’s piss could stop corona', '  Day 5: We have rediscovered farming', '  #VirusChino #ChineseVirus#WinnieTheFluShe: why you keep calling Corona virus \"#chinessevirus?POTUS:  Because it c…', '    \"I don’t want to hear how a Corona gets it’s lime while the Coronavirus is getting lives.\" https:/…', 'Please visit these useful links for updated information about coronavirus:Madera County Department of Public Heal… ', ' _boy: What If we Humans are Virus to this Earth and Corona is the Vaccine?', '  This is Generation Z. I want to name that because folks love calling everybody 40 and under Millennials.Millennials…', '  Well Me Trump, shout hoax or fake news on the Corona Virus, honey I dare you... you are so fucked!!! #FakePres…', 'Het butterfly-effect in de corona-crisis ', '  Day 5: We have rediscovered farming', '  this man’s piss could stop corona', '  Good.It came from China.', 'Unashout😆😆 ', '  Close up of  notes is seen where he crossed out \"Corona\" and replaced it with \"Chinese\" Virus …', \"  “If I get corona, I get corona. At the end of the day, I'm not gonna let it stop me from partying”: Spring breakers are still…\", \"  You can no longer defend this.Make up any excuse or reasoning you want, it's intentional and it's racist.\", '  Great work by WaPo photographer. ', 'So where the good subs helping SW that are out of work due to the corona virus send now $azkabansalazar #findom #paypig #cashslave', \"  * Nehru's JNU closed* Corona enters India from Indira Gandhi International Airport &amp; Rajiv Gandhi International Airport * S…\", ' _girl__: The Chinese army salutes the Chinese doctor after eradicating the Covid-19 in Wuhan city..❤❤ #CoronaVirusUpdate #Wuhan…', ' Wewe kama special envoy wa matanga. The corona must be really exciting you.', '  here’s a deleted scene from TWD’s special on corona virus ', 'Entitled idiots 🤦🏻\\u200d♂️ ', '  Can everyone just stay at home please so that corona fucks off quickly and then we can carry on and enjoy our summer, fest…', 'IDGAF ITS THE CHINESE VIRUS THATS WERE IT CAME FROM NOT FROM SOME BEER COMPANY LMAO ', 'it sucks i cant focus on anything good just bc the ACNH/corona shit is upsetting me so much. I didnt expect to be t… ', '  \"If I get corona, I get corona\": Miami spring breakers say covid-19 hasn’t stopped them from partying …', '  we had such solidarity, now corona is turning millennials and Gen Z against each otherBut seriously a lot of people…', \"  I'm sorry, but this speech was not supposed to be a power point presentation on WHAT THE GOVERNMENT IS DOING ABOUT the…\", \" _Ramesh: I 100% support  ji's #JantaCurfew on 22nd March from 7AM to 9PMLet's all unite and make India #Corona fre…\", 'Good.', '_maccido Stay away from me you corona infected soul😂', '  Corona day 3: it just feels like Sunday again and...again', '  Simon Pegg and Nick Frost released this about Corona Virus and it’s ace hahahha ', 'White people are COMMITTED to their racism! ', \"  Iranians are gearing to celebrate #Nowruz1399 is the year of mullahs' corona overthrowing Iranian supporters of #NCRI &amp; #…\", '  Damn you dumb.', '  People when they normally get sick vs People when they get sick via Corona Virus ', '  here’s a deleted scene from TWD’s special on corona virus ', \"  There's overcapacity in the airline industry &amp; there should've been consolidation before this all hit,  says. They have…\", '  Bernie Sanders can lead the effort to reimagine government if he focuses heavily on leading the Democratic response to the…', '  I have been informed that the CDC says the Corona virus dies out at 77 degrees. So, I guess turn up your thermostat? Simp…', 'corona can’t stop the cyph', \"  “If I get corona, I get corona. At the end of the day, I'm not gonna let it stop me from partying”: Spring breakers are still…\", ' _: Corona please. We are tired, we get it.', '  Close up of President  notes is seen where he crossed out \"Corona\" and replaced it with \"Chinese\" Virus…', ' _23: Get rid of Coronavirus in 12 weeks but wants emergency extensive powers for 2 years! Boris Johnson is a health risk to the…', '  Corona won’t kill me but the party when it’s all over could well do', '  Everyone in this looks sick', 'Lmao I’ve mixed a couple tracks for the first dude in this video ', ' your post about prestigious ? vaccines increasing flu? and Corona virus', '  Day 5: We have rediscovered farming', '  how to avoid corona virus: cardi b edition ', '  Trump is a racist ass 😡 ', '  The Corona Virus is causing shipping delays for physical copies of #AnimalCrossingI wanna try to help those affected!⏩ Re…', '  This photo is of Trump\\'s notes from today\\'s briefing on coronavirus. He very clearly marked out \"corona\" and wrote - in…', '  What an ass. ', 'Idk what’s worse the fact that it’s cause of “corona virus” going on or that I know the song.. 😂 ', '  this man’s piss could stop corona', '  Day 5: We have rediscovered farming ', 'CONGRATULATIONS 🎉🎉 ', '  🚨Bill Hemmer,on Fox,just had a Doctor on that said Corona can be stopped within 2 weeks with Chloroquine.Hemmer was shocked &amp;…', 'This is why we love him. ', ' _: Corona please. We are tired, we get it.', '  38% of hospitalized #Coronavirus patients were aged 20 to 54.Listen to the stats\\xa0— not this guy.STAY HOME!', ' _: This is for CORONA  you big fat white nasty smelling fat bitch why you took me off the motherfuckin schedule with your tri…', '  Close up of President  notes is seen where he crossed out \"Corona\" and replaced it with \"Chinese\" Virus…', ' _florezz: This corona virus reminds me of my ex, tryna fuck with everyone', '  harry styles please cure the corona virus already we’re waiting', '  Day 5: We have rediscovered farming', '  This is Generation Z. I want to name that because folks love calling everybody 40 and under Millennials.Millennials…', '  Everyone in this looks sick', 'He’s actually not as stupid as he’d have you believe ', 'So accommodating 😂 ', '  During Janata Curfew, are we allowed to chant \"Go Corona Go\" ?', '  Corona so bad even loadshedding went into quarantine', '  Photo of  briefing papers from today shows \"corona\" crossed out and \"Chinese\" written in his sharpie h…', \"Italy is under tsunami bcoz:1)Italy ranks 5th on tourism.2)Italy's the oldest population in Europe3)No. of coron… \", '  Great work by WaPo photographer.', '  Everyone in this looks sick', '  \"Where is Dr. Fauci\"You guys really can\\'t figure that out ???He is either stealing the show from  and you…', '  didn’t have “aaron swartz officially vindicated” on my corona bingo board ngl', '  let hate sit alone: corona edition', '  #Corona:All 3 +ve cases in TN are imported cases from diff regions with travel histories.We identified all d 3 Pts onl…', '  Corona day 3: it just feels like Sunday again and...again', '  Day 5: We have rediscovered farming', '  Day 5: We have rediscovered farming', '  There was a nasty flu that went round in December / early Jan. I’m telling you, that was corona. Bare ppl were sick (includ…', '  Day 5: We have rediscovered farming', '  Difficult stretch of time ahead...', ' _Ind: Long time back this person broke off all relations with me because I revolted against dynasty &amp;  TODAY I BRE…', 'Agree with this action tbh. Bout time we no playformed corona before it’s harmful ideals spread to anyone else ', '  Sharing this because corona  ', 'If you’re currently vacationing at the beach, just stay there. We don’t want you back. ', '  Amin', 'Immigration spreads the corona virus, and immigration lowers wages.  Worker shortages do not exist.  The journalist… ', ' _ciara: Me once I touch down on my first trip post-corona  ', '  Close up of President  notes is seen where he crossed out \"Corona\" and replaced it with \"Chinese\" Virus…', ' _: This is for CORONA  you big fat white nasty smelling fat bitch why you took me off the motherfuckin schedule with your tri…', 'Scientists are working on a cure, God is watching tiktoks we already established this. ', 'Corona virus, go away. Wtf!?', '  speaking on my rivals’ behalf, how dare you.........wtf', '  Day 5: We have rediscovered farming', '  No hand shaking allowed but that won’t stop us. We present to you, live from  and , the Corona Fo…', '  Everyone in this looks sick', '  this incompetent racist asshole', '  The Corona Virus is causing shipping delays for physical copies of #AnimalCrossingI wanna try to help those affected!⏩ Re…', '  Corona is real 😭', 'Glad to know these are the people being represented as my generation.... So caring😒 ', '  Please help me get this article out so that people are informed about the money the Kushner family stands to make from…', '  All talk soon so more can be ok and say on news so all can see truth sky is prove them na… ', '  Everyone in this looks sick ', '  Apple, a $ trillion global capitalist enterprise, proudly boasts it has contributed $ 15 million to Corona victims worldwide…', 'the corona virus was first synthesized by swiss chemist, Albert Hoffman on November 16, 1938 in Basel, Switzerland', '  Everyone in this looks sick', '  Among other things, what this shows is they\\'re using the term \"the coronavirus\" internally like everyone else and are throwing…', '  this man’s piss could stop corona', '  Putting aside the obvious attempts to start a debate over political correctness... my god the font is so fucking large.', ' _gyesi: Lol the days of the corona virus is numbered as it enters Kumasi Nbs Ebibi duro we dey come use treat am Ne kwasia', '  POTUS edits the copy for accuracy.', '  Whoever’s mum is forwarding corona information can you tell her to STOPPP!!!!!', '  The Corona Virus is causing shipping delays for physical copies of #AnimalCrossingI wanna try to help those affected!⏩ Re…', '  This is Generation Z. I want to name that because folks love calling everybody 40 and under Millennials.Millennials…', '  We need to continue to pray and fight. The “fake news” media continues to share “fake news” but “light” is being seen even thr…', '  Everyone in this looks sick', '  _Cub except it\\'s spelled \"Corona\" Lmfao', ' _ciara: Me once I touch down on my first trip post-corona  ', '  Corona day 3: it just feels like Sunday again and...again', ' _Suaveeee: This pollen gone kill some of y’all before the corona virus do', ' _ashlee_4_: Dear corona virus, We really hate you. Sincerely, The class of 2020', ' _ciara: Me once I touch down on my first trip post-corona  ', 'Bye bye corona beard ', '  Trump is trying to distract you from his incompetence with his racism, don’t let him.', '  Can everyone just stay at home please so that corona fucks off quickly and then we can carry on and enjoy our summer, fest…', ' _umar: _KHATTAK6 Happy birthday sir♥️May you succeed in you lifeAmy your parents be proud on youSorry for late wish…', '  Close up of President  notes is seen where he crossed out \"Corona\" and replaced it with \"Chinese\" Virus…', '  Close up of President  notes is seen where he crossed out \"Corona\" and replaced it with \"Chinese\" Virus…', '  holy shit I hate every person in this video', 'WE ❤️ YOU  ', '  The demons will kill us all.  If you voted for Trump because you believed a known liar about email, you are too easily dupe…', '  grown ass man', '  cant believe i have to feel bad abt my diploma from the Philippines when literally.......america..........is like this......…', 'I need this cure! ', '  Corona day 3: it just feels like Sunday again and...again', '  Trump is trying to distract you from his incompetence with his racism, don’t let him. ', ' _KingPin: Everyone getting this corona virus but Im just here trying to get you 😍❤️', \"  itna hi tikta hae tou ajaye who's stopping him\", 'Sun and/Or Earth rotation  and Radiation. I   will be avoiding the Sun as much as can but that just me.. ', 'wtf is really wrong with him???😭😭😭 ', '  Corona day 3: it just feels like Sunday again and...again', '  Well, that is something.', '60 years from now our grandchildren are going to ask “why does Grandma and Grandpa always have 100 rolls of toilet… ', '“If I get corona, I get corona” has me 😂😂😂😂 ', '  Yes and it is so gross . #WhiteHouseBriefing', ' _BN: #WestBengal will not hold any sporting event till 31 March in view of the #CoronaVirus outbreak in the country, but the…', 'And it is because of utter morons like these for which I am relieved the border has been closed to tourists. ', \"  'Deep Thoughts' with Lincoln Chafeefrom the far away fields of Wyoming...[ Not Wyoming, RI ] …\", '  Day 5: We have rediscovered farming', '  Day 5: We have rediscovered farming', '  The hard part is that Nigeria isn’t wired to lock down. Majority workers are in the informal space &amp; poor. The formal secto…', '  Corona day 3: it just feels like Sunday again and...again', '  Can everyone just stay at home please so that corona fucks off quickly and then we can carry on and enjoy our summer, fest…', '  Sharing this because corona  ', '  My dick is Bigger than Corona virusMy dick is Bigger than Corona virusMy dick is Bigger than Corona virusMy dick is…', '  I saw my sister kill herself for years, get up before the sun rose and got home after dark, I saw her cry with frustration…', '  My brother tested positive for Corona. Please, please help #FlattenTheCurve and stay home, practice social distancing. Our hospit…', '  honestly don’t get why so many people are getting the corona virus like bro just don’t click on any sketchy download links', 'Awful. Trump is continuously trying to make us fear “outsiders” ', 'Seriously? ', 'Fartland ', \"  .Rick Wilson hoping on air that Melania Trump gets the corona virus is so damned wrong.Can't you see that?You call y…\", '  holy shit I hate every person in this video', '  My dawg😐', '  Close up of President  notes is seen where he crossed out \"Corona\" and replaced it with \"Chinese\" Virus…', 'So far I found two good things that the Corona virus does. One is that Islamic terrorists are afraid of catching it… ', '  Everyone in this looks sick', '  Someone come ruin my life till this corona virus thing is over', ' _: Corona please. We are tired, we get it.', '  You have (got) to be kidding!Confirmed #Corona cases:81,102 China35,713 Italy17,361 Iran13,910 Spain12,327 Germany9,0…', '  The gross inequality continuously deepened by capitalism also produces unequal sickness and death rates from Corona for the…', \" Who's going to explain to the president about Corona virus, he's yet to comprehend.\", ' _: Corona please. We are tired, we get it.', '  Day 5: We have rediscovered farming', '_Logic you see this 💩? ', '  ** Totally Awesome ** Simon Pegg And Nick Frost Staying Safe With Covid-19 #covid #Corona    https:…', '  Just want to say that our Indian doctors (in Rajasthan) have used chloroquine in helping #Corona patients to successfully recove…', ' _: 2 weeks? it’s a fucking global pandemic not a hamstring strain.', 'This is outrageous. ', '  I decided to read Revelation again last night with all the current news in mind. Rev 2:2 is about the Church of Thyatir…', \"  looks like Stephen Miller's handwriting\", '  Deflection. Classic deflection. Let’s not take the bait and stay focused on testing, mitigation, and support of our frontlin…', '  Corona day 3: it just feels like Sunday again and...again', 'I just told him Corona Virus is a weapon the devil is using to make sure Easter 2020 is cancelled. That we have ent… ', '  \"It\\'s Okay to Call it the #ChinaVirus\" ', ' _: Corona please. We are tired, we get it.', '  These people are absolute dogshit lol.', '  Crowning for corona', '  Close up of President  notes is seen where he crossed out \"Corona\" and replaced it with \"Chinese\" Virus…', ' _: This is for CORONA  you big fat white nasty smelling fat bitch why you took me off the motherfuckin schedule with your tri…', '  Day 5: We have rediscovered farming', '  Day 5: We have rediscovered farming', '  Close up of President  notes is seen where he crossed out \"Corona\" and replaced it with \"Chinese\" Virus…', ' _: This is for CORONA  you big fat white nasty smelling fat bitch why you took me off the motherfuckin schedule with your tri…', \"  #LockDownMumbaiPuneSince next 2 week are very important to  figjt corona virus as mh cm said today it's a battle to f…\", ' _Justus Gates most definitely support depopulation, yet he invests in Africa. Would be interestin… ', '  Close up of President  notes is seen where he crossed out \"Corona\" and replaced it with \"Chinese\" Virus…', 'Time is of the essence. ', '  Close up of President  notes is seen where he crossed out \"Corona\" and replaced it with \"Chinese\" Virus…', '  This is Generation Z. I want to name that because folks love calling everybody 40 and under Millennials.Millennials…', '&amp;  STILL was ahead of the curve in closing USA borders to travel from China. ', '  There was a nasty flu that went round in December / early Jan. I’m telling you, that was corona. Bare ppl were sick (includ…', '  Deflection. Classic deflection. Let’s not take the bait and stay focused on testing, mitigation, and support of our frontlin…', \"  They're trying to spur a culture war to distract from their own incompetence. So you don't notice them:firing professi…\", '  everyone coming out of corona as barista', '  Day 5: We have rediscovered farming', '  This photo is of Trump\\'s notes from today\\'s briefing on coronavirus. He very clearly marked out \"corona\" and wrote - in…', \" _Gesagt: In the last few weeks so, so many people asked us to do a video about the Corona Virus pandemic but as you know we don't u…\", 'This is exposing black people’s poor access to resources. Maybe we are just not getting tested. ', '  Corona day 3: it just feels like Sunday again and...again', '🤣🤣 good choice of backing track  #lufc #rhinos ', '  Day 5: We have rediscovered farming', 'Is this real?? ', '  this man’s piss could stop corona', '  Great work by WaPo photographer.', '  Everyone in this looks sick', \"  You can no longer defend this.Make up any excuse or reasoning you want, it's intentional and it's racist.\", '  Everyone in this looks sick', '  Close up of President  notes is seen where he crossed out \"Corona\" and replaced it with \"Chinese\" Virus…', 'Every reason they give to call it the \"Chinese\" Virus is a justification to call it the #trumprecession.  We\\'re in… ', '  Corona is a timely reminder of how obscene the wealth of the royal family is. The queen is moving to Windsor Castle because…', \" I don't understand the need to change the name? Wasn't everyone calling it the Corona virus. I'm sure Trump… \", '  Corona day 3: it just feels like Sunday again and...again', 'Attitude of Swedish health authorities toward the corona virus reminds of anti-vaxer one #Coronasverige… ', '   CNN &amp; MSNBC commentator wishing the first lady gets infected with the Corona virus. The vile hatred of…', '  this incompetent racist asshole', '  everyone coming out of corona as barista', '  Everyone in this looks sick', 'Beating Corona with Tarkov Beating Corona with Tarkov ', 'Typical Blame Game and Finger Pointing. Yes, Trump did put the blame on China. He also has a team to tell him what… ', ' All talk soon so more can be ok and say on news so all can see truth sky is prove them nazi paedophile Eli… ', '  This is Generation Z. I want to name that because folks love calling everybody 40 and under Millennials.Millennials…', '  holy shit I hate every person in this video', 'they charging $120 for a corona test.. got me FUCKED up', '  #Lebanon - there are those who can’t afford to stay home; need money to feed family; Govt clamps down on poor not bank…', '  Berliners, we need people with molecular skills (especially qPCR) to help in labs that are running Corona-Virus tests. Mes…', ' _DiscreteView: Virus, nigga... go home', '  \"Where is Dr. Fauci\"You guys really can\\'t figure that out ???He is either stealing the show from  and you…', '  Day 5: We have rediscovered farming', '  Day 5: We have rediscovered farming', '  Day 5: We have rediscovered farming', '  At everyone crying they are bored because Corona forces them to stay inside SHUT THE FUCK UP! PEOPLE ARE DYING!', ' The reason I shared: No one knows definitely where the Spanish flu originated and why it is called the… ', '  These people are absolute dogshit lol. ', '  tfw you remind yourself to be racist ', ' _:  Corona time ', 'Nice! Now if he would just replace all words that attempt to facilitate or continue the Third World invasion of Ame… ', '  Corona day 3: it just feels like Sunday again and...again', '  holy shit I hate every person in this video', ' _florezz: This corona virus reminds me of my ex, tryna fuck with everyone', 'Corona tryna stop a Young Nigga😔My first booking has now been postponed due to this B.S smFHD!!!!! ', '  Corona day 3: it just feels like Sunday again and...again', 'I thought the same.. ', 'It’s completely fucking racist. That’s all he knows. ', '  This is Generation Z. I want to name that because folks love calling everybody 40 and under Millennials.Millennials…', '  this incompetent racist asshole', 'I’m hoping on April 1st they hit us with that April Fools about this whole Corona situation', '  The Corona Virus is causing shipping delays for physical copies of #AnimalCrossingI wanna try to help those affected!⏩ Re…', \" _RNresists 90 Day Fiance is less messy than this administration's corona response\", '_52 GET OUT OF HERE WITH THAT CORONA SHIT ', '  Aggressively, purposefully, maniacally, loathsomely racist.', \"  While beating the thali do we also have to say 'Go corona, corona go' 🤔🤔🤔#jantacurfew #thali #balconies #COVID2019india…\", \"What. I actually cannot believe my eyes. Unfuckingreal.This guy's a staff photographer at WaPo. \", '    😠😠 and this in the time of corona...You should find another insurance.', ' _: This is for CORONA  you big fat white nasty smelling fat bitch why you took me off the motherfuckin schedule with your tri…', '  in case anyone thought the racism wasn’t planned and intentional', \"  Lets start a resource thread for loans and grants for small businesses affected by corona. We'll start: (PLEASE SHARE)…\", '  This is Generation Z. I want to name that because folks love calling everybody 40 and under Millennials.Millennials…', '  holy shit I hate every person in this video', '  Fuck corona, I miss my friends ', '  holy shit I hate every person in this video', '  this incompetent racist asshole', ' _: Corona please. We are tired, we get it.', \"With all the bad #corona generates (illness, stress, financial worries, cabin fever, etc.) - it's also an opportuni… \", \"  “If I get corona, I get corona. At the end of the day, I'm not gonna let it stop me from partying”: Spring breakers are still…\", '  Fuck corona, I miss my friends ', ' _23: Get rid of Coronavirus in 12 weeks but wants emergency extensive powers for 2 years! Boris Johnson is a health risk to the…', '  Corona day 3: it just feels like Sunday again and...again', '  This is real. He’s actually this corrupt and racist and focused on entirely the wrong things. ', '  holy shit I hate every person in this video', '  This is Generation Z. I want to name that because folks love calling everybody 40 and under Millennials.Millennials…', '  Corona day 3: it just feels like Sunday again and...again', ' _: 2 weeks? it’s a fucking global pandemic not a hamstring strain.', '  Close up of President  notes is seen where he crossed out \"Corona\" and replaced it with \"Chinese\" Virus…', '  This is Generation Z. I want to name that because folks love calling everybody 40 and under Millennials.Millennials…', '  Fuck the Corona VirusFuck the China Virus', '  Everyone in this looks sick', '  is corona even in canada? why haven’t i heard about any cases in canada? canada is real right?', \"  You can no longer defend this.Make up any excuse or reasoning you want, it's intentional and it's racist.\", '  Close up of President  notes is seen where he crossed out \"Corona\" and replaced it with \"Chinese\" Virus…', '  Good.It came from China.', '  Corona is fast becoming my least favourite \"C\" word. To help us all stay cheerful during this time, we’ll be hosting a…', '  holy shit I hate every person in this video', '  Day 5: We have rediscovered farming', '  This is Generation Z. I want to name that because folks love calling everybody 40 and under Millennials.Millennials…', 'Corona virus really shows the bullshit in celebrities and how out of touch they are', \"  I'm Yogeshwer Dutt and I pledge that I'll strictly follow Janta Curfew this Sunday from 7am to 9pm so that we strengthen Indi…\", '  Sharing this because corona  ', '  Lets all join hands and chant Corona GO, GO Corona this Sunday.', '  Corona day 3: it just feels like Sunday again and...again', ' _ashlee_4_: Dear corona virus, We really hate you. Sincerely, The class of 2020', \"  The Post's  took a photo of Pres. Trump's remarks showing 'corona' crossed out and replaced with 'Chinese'…\", ' Now i want corona', ' _: 2 weeks? it’s a fucking global pandemic not a hamstring strain.', 'Same lol ', '  Close up of President  notes is seen where he crossed out \"Corona\" and replaced it with \"Chinese\" Virus…', '  351k ppl believe that if put COOKED corn in soil it will sprout and grow into more corn... the internet literally has one…', '  Sharing this because corona  ', ' _: This is for CORONA  you big fat white nasty smelling fat bitch why you took me off the motherfuckin schedule with your tri…', '  Day 5: We have rediscovered farming', '  Day 5: We have rediscovered farming', '_reddit Love in the time of Corona', '   Avg flu infections per year is 1 billion. Avg flue deaths ranges from 291k - 6… ', '  These people are absolute dogshit lol.', '  351k ppl believe that if put COOKED corn in soil it will sprout and grow into more corn... the internet literally has one…', 'Now that it has been confirmed that chloroquine cures Corona virus😷 my naija ppl will use this opportunity to make… ', 'Fuck corona 😭💔 ']\n",
      "ids => [1240727809225441280, 1240727809074569225, 1240727809300901888, 1240727810060279816, 1240727811024969728, 1240727811255656448, 1240727811612180481, 1240727813088522242, 1240727813541560322, 1240727813851885570, 1240727813642235904, 1240727814908805120, 1240727815311495171, 1240727815592521730, 1240727815877578752, 1240727816196497414, 1240727816934764544, 1240727816922112000, 1240727817790337025, 1240727817765171202, 1240727818675331074, 1240727819270979591, 1240727819472297987, 1240727819782520832, 1240727820126560256, 1240727820684361736, 1240727821737029632, 1240727822005608448, 1240727822089351168, 1240727824522240002, 1240727824497082373, 1240727824715128832, 1240727825835077632, 1240727826023792641, 1240727826644570113, 1240727826917195776, 1240727828066336768, 1240727828607512579, 1240727828603248645, 1240727828989165571, 1240727830096490496, 1240727831354544129, 1240727832365535233, 1240727834328432654, 1240727835024797697, 1240727835322380288, 1240727836241076224, 1240727836983529480, 1240727837360812032, 1240727837985792001, 1240727838753525763, 1240727839843840000, 1240727840070475776, 1240727840678608897, 1240727840892559363, 1240727841207209985, 1240727841743888384, 1240727841974542336, 1240727843740540929, 1240727843874668546, 1240727844646338561, 1240727845250498561, 1240727845439180802, 1240727845678153728, 1240727846349344769, 1240727846730883072, 1240727846869446657, 1240727847146262528, 1240727847309844489, 1240727848270401537, 1240727849092382723, 1240727849440444421, 1240727850237427712, 1240727850392715264, 1240727851382370304, 1240727851642519554, 1240727852066144256, 1240727853743906822, 1240727854553411587, 1240727854515728387, 1240727855505514497, 1240727855878848513, 1240727856113688585, 1240727856629547010, 1240727856964964352, 1240727857212653571, 1240727857640300544, 1240727857720156160, 1240727858110234629, 1240727858722549763, 1240727859309707265, 1240727860966354949, 1240727861172015104, 1240727862124183555, 1240727862992306176, 1240727863432798208, 1240727863487332352, 1240727866192601095, 1240727866666553346, 1240727866737917953, 1240727870810378241, 1240727871267549184, 1240727872878362624, 1240727872979062784, 1240727872832036865, 1240727873738006529, 1240727873847267329, 1240727874417709062, 1240727874614833157, 1240727874715267072, 1240727875575263237, 1240727875738841092, 1240727876741132288, 1240727877571809280, 1240727877852762113, 1240727879488548864, 1240727879773814784, 1240727880696561664, 1240727881241763848, 1240727883557068807, 1240727885201227778, 1240727885612277760, 1240727887017369601, 1240727887403196418, 1240727887495512064, 1240727887961096192, 1240727889236066309, 1240727889185824768, 1240727889731035139, 1240727889806610432, 1240727890800586753, 1240727891853430784, 1240727892558036992, 1240727894059614209, 1240727894076395520, 1240727894248349697, 1240727894676119554, 1240727894940254208, 1240727895166930944, 1240727895808622597, 1240727896391667715, 1240727896936919046, 1240727898828320768, 1240727898958503936, 1240727900644446209, 1240727901672218631, 1240727901818908672, 1240727901902983168, 1240727901718351876, 1240727903505207302, 1240727905312931849, 1240727905446932487, 1240727905841434625, 1240727906831253505, 1240727907359764480, 1240727907561099265, 1240727908550754304, 1240727908815196161, 1240727910006300677, 1240727910169939969, 1240727910220271628, 1240727910484492291, 1240727910606045184, 1240727910945824768, 1240727911579160576, 1240727913751699456, 1240727915937046528, 1240727916666904576, 1240727917576912899, 1240727917837062146, 1240727918269140992, 1240727921179922433, 1240727921435840515, 1240727922157203458, 1240727923373608963, 1240727925386874881, 1240727925474963458, 1240727925726601216, 1240727926213087237, 1240727926951165952, 1240727927429496834, 1240727927664390144, 1240727929748938752, 1240727932299026438, 1240727934224207874, 1240727934589173760, 1240727934412955649, 1240727934807277571, 1240727934803025920, 1240727934874378240, 1240727935008587777, 1240727935075717120, 1240727935608291328, 1240727937445486592, 1240727937474875392, 1240727937852342278, 1240727937864916994, 1240727939727142913, 1240727940247232514, 1240727940259811329, 1240727941811703811, 1240727942549954563, 1240727942537154560, 1240727943543996417, 1240727943556579328, 1240727943749537794, 1240727943871115264, 1240727944580026369, 1240727944634322945, 1240727944730943488, 1240727945007824896, 1240727947243163648, 1240727947125895168, 1240727947822215169, 1240727947981590528, 1240727948111409152, 1240727949588004870, 1240727949877313537, 1240727950644961282, 1240727950871400454, 1240727952695783424, 1240727952804864000, 1240727953895456769, 1240727954314780672, 1240727954373705734, 1240727954340143105, 1240727955766226944, 1240727956382576641, 1240727956642766848, 1240727957133381632, 1240727957376647168, 1240727958924525573, 1240727959453007873, 1240727961042661382, 1240727961550151682, 1240727961793372160, 1240727963248754690, 1240727963559067648, 1240727964519665664, 1240727965492809728, 1240727965899554817, 1240727966428135425, 1240727966969221133, 1240727968143589382, 1240727968487530496, 1240727969934520324, 1240727972027432967, 1240727974288261124, 1240727974590152705, 1240727974850318339, 1240727977714946054, 1240727977970802697, 1240727978444636160, 1240727979782737921, 1240727981212958720, 1240727981389238276, 1240727981846380552, 1240727982832070656, 1240727984157253633, 1240727984367112192, 1240727985256189953, 1240727985067565061, 1240727985474306048, 1240727985881219077, 1240727986166472705, 1240727986497892354, 1240727986686615553, 1240727987240255503, 1240727987349266447, 1240727988750213121, 1240727990549377026, 1240727990541193216, 1240727991166124032, 1240727991937835009, 1240727992369844225, 1240727992940163073, 1240727994265550848, 1240727994467057665, 1240727994777448448, 1240727995737731072, 1240727997981822976, 1240727998786965504, 1240727999869304842, 1240728000565596163, 1240728001421213698, 1240728002218078208, 1240728002377416711, 1240728002503290880, 1240728004428472320, 1240728005774839809, 1240728006223630336, 1240728007213568002, 1240728007771381762, 1240728008039772162, 1240728008895447042, 1240728010451349504, 1240728010803814401, 1240728010959081474, 1240728011160399872, 1240728011336339456, 1240728011680493568, 1240728011873423366, 1240728013588889605, 1240728014528405510, 1240728014465323008, 1240728014486245376, 1240728015799300096, 1240728017145597954, 1240728018139500544, 1240728019884552192, 1240728022451253248, 1240728023697162240, 1240728023839588352, 1240728024108204033, 1240728023751589888, 1240728024628310021, 1240728024850599941, 1240728025123209216, 1240728027073519620, 1240728027698327552, 1240728029250322440, 1240728029824839680, 1240728029929734144, 1240728030957486085, 1240728032672796672, 1240728032878432257, 1240728033394335752, 1240728033746726912, 1240728033281159168, 1240728033901903874, 1240728034250051585, 1240728034711203847, 1240728035537620992, 1240728035843805185, 1240728036120510464, 1240728036938600452, 1240728037194444803, 1240728037731295238, 1240728038226030594, 1240728038695936001, 1240728039018856448, 1240728039484424194, 1240728039748583424, 1240728040969207808, 1240728041820749825, 1240728042588291072, 1240728042814783491, 1240728043003547650, 1240728043951460356, 1240728044026896385, 1240728044857409536, 1240728045566255108, 1240728047583506432, 1240728047726272512, 1240728048028303364, 1240728048250564610, 1240728048187715585, 1240728048309321728, 1240728049487876096, 1240728050192601093, 1240728050578448386, 1240728050641354762, 1240728051048157186, 1240728051400441871, 1240728051660525575, 1240728052491059203, 1240728052985810944, 1240728053900357635, 1240728053803712512, 1240728054063927298, 1240728055045185536, 1240728055066263552, 1240728055003467776, 1240728054911115264, 1240728055611420673, 1240728056257490946, 1240728056265756672]\n"
     ]
    }
   ],
   "source": [
    "df=pd.read_excel('lock1.xlsx')\n",
    "dbfile = open('store', 'rb')      \n",
    "db = pickle.load(dbfile) \n",
    "for keys in db: \n",
    "    print(keys, '=>', db[keys]) \n",
    "dbfile.close()"
   ]
  },
  {
   "cell_type": "code",
   "execution_count": 7,
   "metadata": {},
   "outputs": [],
   "source": [
    "consumer_key = 'beRUzZjIxZEl5321vVt3UbATT'\n",
    "consumer_key_secret = 'NCByaJCbpKD9VIWtfOMqkiS5vgDIen2UBHuH5j4Y1k5LMxE3Kx'\n",
    "access_token = '1125091796046843905-gYy5LuPbxxD2JIRaoiWS2ie893hRKw'\n",
    "access_token_secret = 'fy4NkzDyzD3rpCOnWpmOsiJ4ecH6hxu2mMqsnreja14g9'\n",
    "x=db['x']\n",
    "ids=db['ids']"
   ]
  },
  {
   "cell_type": "code",
   "execution_count": 19,
   "metadata": {},
   "outputs": [],
   "source": [
    "\n",
    "dbfile = open('ds', 'ab') \n",
    "\n",
    "# source, destination \n",
    "pickle.dump(df,dbfile)                      \n",
    "dbfile.close()"
   ]
  },
  {
   "cell_type": "code",
   "execution_count": 9,
   "metadata": {},
   "outputs": [],
   "source": [
    "# from progressbar import ProgressBar,Percentage, ProgressBar,Bar,ETA\n",
    "# pbar = ProgressBar(widgets=[Bar('=', '[', ']'), ' ', Percentage(), ' ', ETA()],\n",
    "#                    maxval=10000000).start()"
   ]
  },
  {
   "cell_type": "code",
   "execution_count": 10,
   "metadata": {},
   "outputs": [],
   "source": [
    "# auth = tweepy.OAuthHandler(consumer_key, consumer_key_secret)\n",
    "# auth.set_access_token(access_token, access_token_secret)\n",
    "# api = tweepy.API(auth_handler=auth, wait_on_rate_limit=True,wait_on_rate_limit_notify=True)\n",
    "# # p=api.get_status(x)\n",
    "# # p=p.text\n",
    "# # print(p)\n",
    "\n",
    "# count=0\n",
    "\n",
    "\n",
    "# x=[]\n",
    "# ids=[]"
   ]
  },
  {
   "cell_type": "code",
   "execution_count": 21,
   "metadata": {},
   "outputs": [],
   "source": [
    "# def clean(p):\n",
    "\n",
    "#     r=re.sub('^RT|@[a-zA-Z0-9]*:|@[a-zA-Z0-9]*',\"\",p)\n",
    "\n",
    "#     # r=''.join(r)\n",
    "#     text = re.sub(\"@[\\w]*\",\"\",r)\n",
    "#     text = re.sub(\"https?://[A-Za-z0-9./]*\",\"\",text)\n",
    "#     text = re.sub(\"\\n\",\"\",text)\n",
    "#     # r=re.split('^ @[a-zA-Z]*:',r)\n",
    "#     r=''.join(text)\n",
    "#     return r"
   ]
  },
  {
   "cell_type": "code",
   "execution_count": 22,
   "metadata": {},
   "outputs": [],
   "source": [
    "# def lop(dfx):\n",
    "    \n",
    "#     for i in pbar(dfx.tweet_id):\n",
    "#         try:\n",
    "#             p=api.get_status(i)\n",
    "#     #         print(i)\n",
    "#             p=p.text\n",
    "#             x.append(clean(p))\n",
    "#         except:\n",
    "#             ids.append(i)\n",
    "# #             count=count+1\n",
    "#             pass"
   ]
  },
  {
   "cell_type": "code",
   "execution_count": 23,
   "metadata": {
    "scrolled": false
   },
   "outputs": [
    {
     "name": "stderr",
     "output_type": "stream",
     "text": [
      "[==========================================================] 100% Time: 0:02:07\n",
      "[==========================================================] 100% Time: 0:01:58\n",
      "[==========================================================] 100% Time: 0:02:00\n",
      "[==========================================================] 100% Time: 0:00:59\n",
      "[==========================================================] 100% Time: 0:01:00\n",
      "[==========================================================] 100% Time: 0:02:00\n",
      "[                                                         ]   0% ETA:  --:--:--\r"
     ]
    }
   ],
   "source": [
    "# # p=[]\n",
    "# # k=[]\n",
    "# # r=[]\n",
    "# # temp=df['hashtags']\n",
    "\n",
    "# # temp[2]\n",
    "# # for i in temp:\n",
    "# #     r.append(i.strip('[]').replace(\"#\",\"\").replace(\"'\",\"\").split(','))\n",
    "\n",
    "# # # r=r.replace(\"'\",\"\")\n",
    "# # # k=r.split(',')\n",
    "# # # k=k.strip()\n",
    "# lop(df.loc[0:200].reset_index(drop=True))\n",
    "# pbar = ProgressBar(widgets=[Bar('=', '[', ']'), ' ', Percentage(), ' ', ETA()],\n",
    "#                    maxval=300).start()\n",
    "# lop(df.loc[201:400].reset_index(drop=True))\n",
    "# pbar = ProgressBar(widgets=[Bar('=', '[', ']'), ' ', Percentage(), ' ', ETA()],\n",
    "#                    maxval=300).start()\n",
    "# lop(df.loc[401:600].reset_index(drop=True))\n",
    "# pbar = ProgressBar(widgets=[Bar('=', '[', ']'), ' ', Percentage(), ' ', ETA()],\n",
    "#                    maxval=300).start()\n",
    "# lop(df.loc[601:700].reset_index(drop=True))\n",
    "# pbar = ProgressBar(widgets=[Bar('=', '[', ']'), ' ', Percentage(), ' ', ETA()],\n",
    "#                    maxval=300).start()\n",
    "# lop(df.loc[701:800].reset_index(drop=True))\n",
    "# pbar = ProgressBar(widgets=[Bar('=', '[', ']'), ' ', Percentage(), ' ', ETA()],\n",
    "#                    maxval=300).start()\n",
    "# lop(df.loc[801:1000].reset_index(drop=True))\n",
    "# pbar = ProgressBar(widgets=[Bar('=', '[', ']'), ' ', Percentage(), ' ', ETA()],\n",
    "#                    maxval=300).start()"
   ]
  },
  {
   "cell_type": "code",
   "execution_count": 20,
   "metadata": {},
   "outputs": [],
   "source": [
    "# d700=pd.DataFrame(x)\n",
    "# d700.to_csv('data1000.csv')\n",
    "# idx=pd.DataFrame(ids)\n",
    "# idx.to_csv('ids.csv')\n",
    "q=df.head(2000)"
   ]
  },
  {
   "cell_type": "code",
   "execution_count": 21,
   "metadata": {},
   "outputs": [],
   "source": [
    "# lop(df.loc[1001:1100].reset_index(drop=True))\n",
    "# pbar = ProgressBar(widgets=[Bar('=', '[', ']'), ' ', Percentage(), ' ', ETA()],\n",
    "#                    maxval=300).start()\n",
    "# lop(df.loc[1201:1400].reset_index(drop=True))\n",
    "# pbar = ProgressBar(widgets=[Bar('=', '[', ']'), ' ', Percentage(), ' ', ETA()],\n",
    "#                    maxval=300).start()\n",
    "# lop(df.loc[1401:1600].reset_index(drop=True))\n",
    "# pbar = ProgressBar(widgets=[Bar('=', '[', ']'), ' ', Percentage(), ' ', ETA()],\n",
    "#                    maxval=300).start()\n",
    "# lop(df.loc[1601:1700].reset_index(drop=True))\n",
    "# pbar = ProgressBar(widgets=[Bar('=', '[', ']'), ' ', Percentage(), ' ', ETA()],\n",
    "#                    maxval=300).start()\n",
    "# lop(df.loc[1701:1800].reset_index(drop=True))\n",
    "# pbar = ProgressBar(widgets=[Bar('=', '[', ']'), ' ', Percentage(), ' ', ETA()],\n",
    "#                    maxval=300).start()\n",
    "# lop(df.loc[1801:2000].reset_index(drop=True))\n",
    "# pbar = ProgressBar(widgets=[Bar('=', '[', ']'), ' ', Percentage(), ' ', ETA()],\n",
    "#                    maxval=300).start()\n",
    "# d2000=pd.DataFrame(x)\n",
    "# d2000.to_csv('data2000.csv')\n",
    "# db = {} \n",
    "# db['x'] = x \n",
    "# db['ids'] = ids \n",
    "\n",
    "# # Its important to use binary mode \n",
    "# dbfile = open('store', 'ab') \n",
    "\n",
    "# # source, destination \n",
    "# pickle.dump(db, dbfile)                      \n",
    "# dbfile.close()"
   ]
  },
  {
   "cell_type": "code",
   "execution_count": 23,
   "metadata": {},
   "outputs": [
    {
     "data": {
      "text/plain": [
       "<matplotlib.axes._subplots.AxesSubplot at 0x1b4695fc9c8>"
      ]
     },
     "execution_count": 23,
     "metadata": {},
     "output_type": "execute_result"
    },
    {
     "data": {
      "image/png": "[encoded data removed]",
      "text/plain": [
       "<Figure size 432x288 with 1 Axes>"
      ]
     },
     "metadata": {
      "needs_background": "light"
     },
     "output_type": "display_data"
    }
   ],
   "source": [
    "temp = pd.DataFrame(data={'tweet_id':ids})\n",
    "q = q[~q['tweet_id'].isin(temp['tweet_id'])]\n",
    "q.reset_index(drop=True,inplace=True)\n",
    "\n",
    "q['text']=x\n",
    "# print(len(q[q['emo']=='negative']))\n",
    "q['emo']=q['sentiment'].apply(lambda x:'positive' if x > 0 else('negative' if x <0 else 'neutral' ))\n",
    "\n",
    "sns.countplot(x='emo',data=q)"
   ]
  },
  {
   "cell_type": "code",
   "execution_count": 24,
   "metadata": {},
   "outputs": [],
   "source": [
    "# from textblob import TextBlob\n",
    "# df['polarity_score']=df['tweet'].apply(lambda text:TextBlob(text).sentiment.polarity )\n",
    "# df['polarity']=df['polarity_score'].apply(lambda x:'positive' if x>0 else('negative' if x<0 else 'neutral'))\n",
    "# df['label']=df['polarity'].apply(lambda x:1 if x==\"positive\" else(0 if x==\"negative\" else -1))\n",
    "# df"
   ]
  },
  {
   "cell_type": "code",
   "execution_count": 242,
   "metadata": {},
   "outputs": [
    {
     "data": {
      "text/html": [
       "<div>\n",
       "<style scoped>\n",
       "    .dataframe tbody tr th:only-of-type {\n",
       "        vertical-align: middle;\n",
       "    }\n",
       "\n",
       "    .dataframe tbody tr th {\n",
       "        vertical-align: top;\n",
       "    }\n",
       "\n",
       "    .dataframe thead th {\n",
       "        text-align: right;\n",
       "    }\n",
       "</style>\n",
       "<table border=\"1\" class=\"dataframe\">\n",
       "  <thead>\n",
       "    <tr style=\"text-align: right;\">\n",
       "      <th></th>\n",
       "      <th>tweet_id</th>\n",
       "      <th>sentiment</th>\n",
       "      <th>text</th>\n",
       "      <th>emo</th>\n",
       "      <th>normalized_text</th>\n",
       "      <th>labels</th>\n",
       "    </tr>\n",
       "  </thead>\n",
       "  <tbody>\n",
       "    <tr>\n",
       "      <th>0</th>\n",
       "      <td>1240727808005079041</td>\n",
       "      <td>0.116071</td>\n",
       "      <td>Wuhan has been in complete quarantine for over...</td>\n",
       "      <td>positive</td>\n",
       "      <td>wuhan complete quarantine week people still go...</td>\n",
       "      <td>1</td>\n",
       "    </tr>\n",
       "    <tr>\n",
       "      <th>1</th>\n",
       "      <td>1240727808340414464</td>\n",
       "      <td>-0.050000</td>\n",
       "      <td>You can no longer defend this.Make up any ex...</td>\n",
       "      <td>negative</td>\n",
       "      <td>longer defend make excuse reasoning want inten...</td>\n",
       "      <td>0</td>\n",
       "    </tr>\n",
       "    <tr>\n",
       "      <th>2</th>\n",
       "      <td>1240727808629813248</td>\n",
       "      <td>-0.714286</td>\n",
       "      <td>Everyone in this looks sick</td>\n",
       "      <td>negative</td>\n",
       "      <td>everyone look sick</td>\n",
       "      <td>0</td>\n",
       "    </tr>\n",
       "    <tr>\n",
       "      <th>3</th>\n",
       "      <td>1240727808617230336</td>\n",
       "      <td>0.700000</td>\n",
       "      <td>Good.It came from China.</td>\n",
       "      <td>positive</td>\n",
       "      <td>good came china</td>\n",
       "      <td>1</td>\n",
       "    </tr>\n",
       "    <tr>\n",
       "      <th>4</th>\n",
       "      <td>1240727808726482944</td>\n",
       "      <td>0.000000</td>\n",
       "      <td>Corona day 3: it just feels like Sunday agai...</td>\n",
       "      <td>neutral</td>\n",
       "      <td>corona day feel like sunday</td>\n",
       "      <td>-1</td>\n",
       "    </tr>\n",
       "    <tr>\n",
       "      <th>...</th>\n",
       "      <td>...</td>\n",
       "      <td>...</td>\n",
       "      <td>...</td>\n",
       "      <td>...</td>\n",
       "      <td>...</td>\n",
       "      <td>...</td>\n",
       "    </tr>\n",
       "    <tr>\n",
       "      <th>1619</th>\n",
       "      <td>1240728055737434112</td>\n",
       "      <td>-0.175000</td>\n",
       "      <td>Avg flu infections per year is 1 billion. A...</td>\n",
       "      <td>negative</td>\n",
       "      <td>avg flu infection per year billion avg flue de...</td>\n",
       "      <td>0</td>\n",
       "    </tr>\n",
       "    <tr>\n",
       "      <th>1620</th>\n",
       "      <td>1240728055846506498</td>\n",
       "      <td>0.500000</td>\n",
       "      <td>These people are absolute dogshit lol.</td>\n",
       "      <td>positive</td>\n",
       "      <td>people absolute dogshit lol</td>\n",
       "      <td>1</td>\n",
       "    </tr>\n",
       "    <tr>\n",
       "      <th>1621</th>\n",
       "      <td>1240728056068595712</td>\n",
       "      <td>0.500000</td>\n",
       "      <td>351k ppl believe that if put COOKED corn in ...</td>\n",
       "      <td>positive</td>\n",
       "      <td>k ppl believe put cooked corn soil sprout grow...</td>\n",
       "      <td>1</td>\n",
       "    </tr>\n",
       "    <tr>\n",
       "      <th>1622</th>\n",
       "      <td>1240728056173559809</td>\n",
       "      <td>0.400000</td>\n",
       "      <td>Now that it has been confirmed that chloroquin...</td>\n",
       "      <td>positive</td>\n",
       "      <td>confirmed chloroquine cure corona virus naija ...</td>\n",
       "      <td>1</td>\n",
       "    </tr>\n",
       "    <tr>\n",
       "      <th>1623</th>\n",
       "      <td>1240728056085577729</td>\n",
       "      <td>-0.400000</td>\n",
       "      <td>Fuck corona 😭💔</td>\n",
       "      <td>negative</td>\n",
       "      <td>fuck corona</td>\n",
       "      <td>0</td>\n",
       "    </tr>\n",
       "  </tbody>\n",
       "</table>\n",
       "<p>1624 rows × 6 columns</p>\n",
       "</div>"
      ],
      "text/plain": [
       "                 tweet_id  sentiment  \\\n",
       "0     1240727808005079041   0.116071   \n",
       "1     1240727808340414464  -0.050000   \n",
       "2     1240727808629813248  -0.714286   \n",
       "3     1240727808617230336   0.700000   \n",
       "4     1240727808726482944   0.000000   \n",
       "...                   ...        ...   \n",
       "1619  1240728055737434112  -0.175000   \n",
       "1620  1240728055846506498   0.500000   \n",
       "1621  1240728056068595712   0.500000   \n",
       "1622  1240728056173559809   0.400000   \n",
       "1623  1240728056085577729  -0.400000   \n",
       "\n",
       "                                                   text       emo  \\\n",
       "0     Wuhan has been in complete quarantine for over...  positive   \n",
       "1       You can no longer defend this.Make up any ex...  negative   \n",
       "2                           Everyone in this looks sick  negative   \n",
       "3                              Good.It came from China.  positive   \n",
       "4       Corona day 3: it just feels like Sunday agai...   neutral   \n",
       "...                                                 ...       ...   \n",
       "1619     Avg flu infections per year is 1 billion. A...  negative   \n",
       "1620             These people are absolute dogshit lol.  positive   \n",
       "1621    351k ppl believe that if put COOKED corn in ...  positive   \n",
       "1622  Now that it has been confirmed that chloroquin...  positive   \n",
       "1623                                    Fuck corona 😭💔   negative   \n",
       "\n",
       "                                        normalized_text  labels  \n",
       "0     wuhan complete quarantine week people still go...       1  \n",
       "1     longer defend make excuse reasoning want inten...       0  \n",
       "2                                    everyone look sick       0  \n",
       "3                                       good came china       1  \n",
       "4                           corona day feel like sunday      -1  \n",
       "...                                                 ...     ...  \n",
       "1619  avg flu infection per year billion avg flue de...       0  \n",
       "1620                        people absolute dogshit lol       1  \n",
       "1621  k ppl believe put cooked corn soil sprout grow...       1  \n",
       "1622  confirmed chloroquine cure corona virus naija ...       1  \n",
       "1623                                        fuck corona       0  \n",
       "\n",
       "[1624 rows x 6 columns]"
      ]
     },
     "execution_count": 242,
     "metadata": {},
     "output_type": "execute_result"
    }
   ],
   "source": [
    "# title_list=[]\n",
    "\n",
    "# for title in df.tweet:\n",
    "#     title = re.sub(\"[^a-zA-Z]\",\" \", title)\n",
    "#     title = title.lower()\n",
    "#     title = nltk.word_tokenize(title)\n",
    "#     lemma = nltk.WordNetLemmatizer()\n",
    "#     title = [ lemma.lemmatize(word) for word in title]\n",
    "#     title = \" \".join(title)\n",
    "#     title_list.append(title)\n",
    "# title_list\n",
    "q"
   ]
  },
  {
   "cell_type": "code",
   "execution_count": 119,
   "metadata": {},
   "outputs": [],
   "source": [
    "from nltk.stem import WordNetLemmatizer #word stemmer class\n",
    "lemma = WordNetLemmatizer()"
   ]
  },
  {
   "cell_type": "code",
   "execution_count": 215,
   "metadata": {},
   "outputs": [],
   "source": [
    "def normalizer(tweet):\n",
    "    if str(tweet):\n",
    "        tweets = \" \".join(filter(lambda x: x[0]!= '@', tweet.split()))\n",
    "        tweets = re.sub('([^a-zA-Z0-9])', ' ', tweets)\n",
    "        tweets=re.sub('[0-9_]','',tweets)\n",
    "        tweets = tweets.lower()\n",
    "        tweets = tweets.split()\n",
    "        tweets = [word for word in tweets if not word in set(stopwords.words('english'))]\n",
    "        tweets = [lemma.lemmatize(word) for word in tweets]\n",
    "    if str(tweet):\n",
    "        tweets = \" \".join(tweets)\n",
    "#     tweets=tweets.split(\" \")\n",
    "    return tweets"
   ]
  },
  {
   "cell_type": "code",
   "execution_count": 121,
   "metadata": {},
   "outputs": [
    {
     "ename": "KeyboardInterrupt",
     "evalue": "",
     "output_type": "error",
     "traceback": [
      "\u001b[1;31m---------------------------------------------------------------------------\u001b[0m",
      "\u001b[1;31mKeyboardInterrupt\u001b[0m                         Traceback (most recent call last)",
      "\u001b[1;32m<ipython-input-121-0c9c7aff785a>\u001b[0m in \u001b[0;36m<module>\u001b[1;34m\u001b[0m\n\u001b[1;32m----> 1\u001b[1;33m \u001b[0mq\u001b[0m\u001b[1;33m[\u001b[0m\u001b[1;34m'normalized_text'\u001b[0m\u001b[1;33m]\u001b[0m \u001b[1;33m=\u001b[0m \u001b[0mq\u001b[0m\u001b[1;33m.\u001b[0m\u001b[0mtext\u001b[0m\u001b[1;33m.\u001b[0m\u001b[0mapply\u001b[0m\u001b[1;33m(\u001b[0m\u001b[0mnormalizer\u001b[0m\u001b[1;33m)\u001b[0m\u001b[1;33m\u001b[0m\u001b[1;33m\u001b[0m\u001b[0m\n\u001b[0m",
      "\u001b[1;32m~\\Anaconda3\\envs\\Rssi\\lib\\site-packages\\pandas\\core\\series.py\u001b[0m in \u001b[0;36mapply\u001b[1;34m(self, func, convert_dtype, args, **kwds)\u001b[0m\n\u001b[0;32m   4043\u001b[0m             \u001b[1;32melse\u001b[0m\u001b[1;33m:\u001b[0m\u001b[1;33m\u001b[0m\u001b[1;33m\u001b[0m\u001b[0m\n\u001b[0;32m   4044\u001b[0m                 \u001b[0mvalues\u001b[0m \u001b[1;33m=\u001b[0m \u001b[0mself\u001b[0m\u001b[1;33m.\u001b[0m\u001b[0mastype\u001b[0m\u001b[1;33m(\u001b[0m\u001b[0mobject\u001b[0m\u001b[1;33m)\u001b[0m\u001b[1;33m.\u001b[0m\u001b[0mvalues\u001b[0m\u001b[1;33m\u001b[0m\u001b[1;33m\u001b[0m\u001b[0m\n\u001b[1;32m-> 4045\u001b[1;33m                 \u001b[0mmapped\u001b[0m \u001b[1;33m=\u001b[0m \u001b[0mlib\u001b[0m\u001b[1;33m.\u001b[0m\u001b[0mmap_infer\u001b[0m\u001b[1;33m(\u001b[0m\u001b[0mvalues\u001b[0m\u001b[1;33m,\u001b[0m \u001b[0mf\u001b[0m\u001b[1;33m,\u001b[0m \u001b[0mconvert\u001b[0m\u001b[1;33m=\u001b[0m\u001b[0mconvert_dtype\u001b[0m\u001b[1;33m)\u001b[0m\u001b[1;33m\u001b[0m\u001b[1;33m\u001b[0m\u001b[0m\n\u001b[0m\u001b[0;32m   4046\u001b[0m \u001b[1;33m\u001b[0m\u001b[0m\n\u001b[0;32m   4047\u001b[0m         \u001b[1;32mif\u001b[0m \u001b[0mlen\u001b[0m\u001b[1;33m(\u001b[0m\u001b[0mmapped\u001b[0m\u001b[1;33m)\u001b[0m \u001b[1;32mand\u001b[0m \u001b[0misinstance\u001b[0m\u001b[1;33m(\u001b[0m\u001b[0mmapped\u001b[0m\u001b[1;33m[\u001b[0m\u001b[1;36m0\u001b[0m\u001b[1;33m]\u001b[0m\u001b[1;33m,\u001b[0m \u001b[0mSeries\u001b[0m\u001b[1;33m)\u001b[0m\u001b[1;33m:\u001b[0m\u001b[1;33m\u001b[0m\u001b[1;33m\u001b[0m\u001b[0m\n",
      "\u001b[1;32mpandas/_libs/lib.pyx\u001b[0m in \u001b[0;36mpandas._libs.lib.map_infer\u001b[1;34m()\u001b[0m\n",
      "\u001b[1;32m<ipython-input-120-984119f4085b>\u001b[0m in \u001b[0;36mnormalizer\u001b[1;34m(tweet)\u001b[0m\n\u001b[0;32m      5\u001b[0m     \u001b[0mtweets\u001b[0m \u001b[1;33m=\u001b[0m \u001b[0mtweets\u001b[0m\u001b[1;33m.\u001b[0m\u001b[0mlower\u001b[0m\u001b[1;33m(\u001b[0m\u001b[1;33m)\u001b[0m\u001b[1;33m\u001b[0m\u001b[1;33m\u001b[0m\u001b[0m\n\u001b[0;32m      6\u001b[0m     \u001b[0mtweets\u001b[0m \u001b[1;33m=\u001b[0m \u001b[0mtweets\u001b[0m\u001b[1;33m.\u001b[0m\u001b[0msplit\u001b[0m\u001b[1;33m(\u001b[0m\u001b[1;33m)\u001b[0m\u001b[1;33m\u001b[0m\u001b[1;33m\u001b[0m\u001b[0m\n\u001b[1;32m----> 7\u001b[1;33m     \u001b[0mtweets\u001b[0m \u001b[1;33m=\u001b[0m \u001b[1;33m[\u001b[0m\u001b[0mword\u001b[0m \u001b[1;32mfor\u001b[0m \u001b[0mword\u001b[0m \u001b[1;32min\u001b[0m \u001b[0mtweets\u001b[0m \u001b[1;32mif\u001b[0m \u001b[1;32mnot\u001b[0m \u001b[0mword\u001b[0m \u001b[1;32min\u001b[0m \u001b[0mset\u001b[0m\u001b[1;33m(\u001b[0m\u001b[0mstopwords\u001b[0m\u001b[1;33m.\u001b[0m\u001b[0mwords\u001b[0m\u001b[1;33m(\u001b[0m\u001b[1;34m'english'\u001b[0m\u001b[1;33m)\u001b[0m\u001b[1;33m)\u001b[0m\u001b[1;33m]\u001b[0m\u001b[1;33m\u001b[0m\u001b[1;33m\u001b[0m\u001b[0m\n\u001b[0m\u001b[0;32m      8\u001b[0m     \u001b[0mtweets\u001b[0m \u001b[1;33m=\u001b[0m \u001b[1;33m[\u001b[0m\u001b[0mlemma\u001b[0m\u001b[1;33m.\u001b[0m\u001b[0mlemmatize\u001b[0m\u001b[1;33m(\u001b[0m\u001b[0mword\u001b[0m\u001b[1;33m)\u001b[0m \u001b[1;32mfor\u001b[0m \u001b[0mword\u001b[0m \u001b[1;32min\u001b[0m \u001b[0mtweets\u001b[0m\u001b[1;33m]\u001b[0m\u001b[1;33m\u001b[0m\u001b[1;33m\u001b[0m\u001b[0m\n\u001b[0;32m      9\u001b[0m     \u001b[0mtweets\u001b[0m \u001b[1;33m=\u001b[0m \u001b[1;34m\" \"\u001b[0m\u001b[1;33m.\u001b[0m\u001b[0mjoin\u001b[0m\u001b[1;33m(\u001b[0m\u001b[0mtweets\u001b[0m\u001b[1;33m)\u001b[0m\u001b[1;33m\u001b[0m\u001b[1;33m\u001b[0m\u001b[0m\n",
      "\u001b[1;32m<ipython-input-120-984119f4085b>\u001b[0m in \u001b[0;36m<listcomp>\u001b[1;34m(.0)\u001b[0m\n\u001b[0;32m      5\u001b[0m     \u001b[0mtweets\u001b[0m \u001b[1;33m=\u001b[0m \u001b[0mtweets\u001b[0m\u001b[1;33m.\u001b[0m\u001b[0mlower\u001b[0m\u001b[1;33m(\u001b[0m\u001b[1;33m)\u001b[0m\u001b[1;33m\u001b[0m\u001b[1;33m\u001b[0m\u001b[0m\n\u001b[0;32m      6\u001b[0m     \u001b[0mtweets\u001b[0m \u001b[1;33m=\u001b[0m \u001b[0mtweets\u001b[0m\u001b[1;33m.\u001b[0m\u001b[0msplit\u001b[0m\u001b[1;33m(\u001b[0m\u001b[1;33m)\u001b[0m\u001b[1;33m\u001b[0m\u001b[1;33m\u001b[0m\u001b[0m\n\u001b[1;32m----> 7\u001b[1;33m     \u001b[0mtweets\u001b[0m \u001b[1;33m=\u001b[0m \u001b[1;33m[\u001b[0m\u001b[0mword\u001b[0m \u001b[1;32mfor\u001b[0m \u001b[0mword\u001b[0m \u001b[1;32min\u001b[0m \u001b[0mtweets\u001b[0m \u001b[1;32mif\u001b[0m \u001b[1;32mnot\u001b[0m \u001b[0mword\u001b[0m \u001b[1;32min\u001b[0m \u001b[0mset\u001b[0m\u001b[1;33m(\u001b[0m\u001b[0mstopwords\u001b[0m\u001b[1;33m.\u001b[0m\u001b[0mwords\u001b[0m\u001b[1;33m(\u001b[0m\u001b[1;34m'english'\u001b[0m\u001b[1;33m)\u001b[0m\u001b[1;33m)\u001b[0m\u001b[1;33m]\u001b[0m\u001b[1;33m\u001b[0m\u001b[1;33m\u001b[0m\u001b[0m\n\u001b[0m\u001b[0;32m      8\u001b[0m     \u001b[0mtweets\u001b[0m \u001b[1;33m=\u001b[0m \u001b[1;33m[\u001b[0m\u001b[0mlemma\u001b[0m\u001b[1;33m.\u001b[0m\u001b[0mlemmatize\u001b[0m\u001b[1;33m(\u001b[0m\u001b[0mword\u001b[0m\u001b[1;33m)\u001b[0m \u001b[1;32mfor\u001b[0m \u001b[0mword\u001b[0m \u001b[1;32min\u001b[0m \u001b[0mtweets\u001b[0m\u001b[1;33m]\u001b[0m\u001b[1;33m\u001b[0m\u001b[1;33m\u001b[0m\u001b[0m\n\u001b[0;32m      9\u001b[0m     \u001b[0mtweets\u001b[0m \u001b[1;33m=\u001b[0m \u001b[1;34m\" \"\u001b[0m\u001b[1;33m.\u001b[0m\u001b[0mjoin\u001b[0m\u001b[1;33m(\u001b[0m\u001b[0mtweets\u001b[0m\u001b[1;33m)\u001b[0m\u001b[1;33m\u001b[0m\u001b[1;33m\u001b[0m\u001b[0m\n",
      "\u001b[1;32m~\\Anaconda3\\envs\\Rssi\\lib\\site-packages\\nltk\\corpus\\reader\\wordlist.py\u001b[0m in \u001b[0;36mwords\u001b[1;34m(self, fileids, ignore_lines_startswith)\u001b[0m\n\u001b[0;32m     21\u001b[0m         return [\n\u001b[0;32m     22\u001b[0m             \u001b[0mline\u001b[0m\u001b[1;33m\u001b[0m\u001b[1;33m\u001b[0m\u001b[0m\n\u001b[1;32m---> 23\u001b[1;33m             \u001b[1;32mfor\u001b[0m \u001b[0mline\u001b[0m \u001b[1;32min\u001b[0m \u001b[0mline_tokenize\u001b[0m\u001b[1;33m(\u001b[0m\u001b[0mself\u001b[0m\u001b[1;33m.\u001b[0m\u001b[0mraw\u001b[0m\u001b[1;33m(\u001b[0m\u001b[0mfileids\u001b[0m\u001b[1;33m)\u001b[0m\u001b[1;33m)\u001b[0m\u001b[1;33m\u001b[0m\u001b[1;33m\u001b[0m\u001b[0m\n\u001b[0m\u001b[0;32m     24\u001b[0m             \u001b[1;32mif\u001b[0m \u001b[1;32mnot\u001b[0m \u001b[0mline\u001b[0m\u001b[1;33m.\u001b[0m\u001b[0mstartswith\u001b[0m\u001b[1;33m(\u001b[0m\u001b[0mignore_lines_startswith\u001b[0m\u001b[1;33m)\u001b[0m\u001b[1;33m\u001b[0m\u001b[1;33m\u001b[0m\u001b[0m\n\u001b[0;32m     25\u001b[0m         ]\n",
      "\u001b[1;32m~\\Anaconda3\\envs\\Rssi\\lib\\site-packages\\nltk\\corpus\\reader\\wordlist.py\u001b[0m in \u001b[0;36mraw\u001b[1;34m(self, fileids)\u001b[0m\n\u001b[0;32m     30\u001b[0m         \u001b[1;32melif\u001b[0m \u001b[0misinstance\u001b[0m\u001b[1;33m(\u001b[0m\u001b[0mfileids\u001b[0m\u001b[1;33m,\u001b[0m \u001b[0mstr\u001b[0m\u001b[1;33m)\u001b[0m\u001b[1;33m:\u001b[0m\u001b[1;33m\u001b[0m\u001b[1;33m\u001b[0m\u001b[0m\n\u001b[0;32m     31\u001b[0m             \u001b[0mfileids\u001b[0m \u001b[1;33m=\u001b[0m \u001b[1;33m[\u001b[0m\u001b[0mfileids\u001b[0m\u001b[1;33m]\u001b[0m\u001b[1;33m\u001b[0m\u001b[1;33m\u001b[0m\u001b[0m\n\u001b[1;32m---> 32\u001b[1;33m         \u001b[1;32mreturn\u001b[0m \u001b[0mconcat\u001b[0m\u001b[1;33m(\u001b[0m\u001b[1;33m[\u001b[0m\u001b[0mself\u001b[0m\u001b[1;33m.\u001b[0m\u001b[0mopen\u001b[0m\u001b[1;33m(\u001b[0m\u001b[0mf\u001b[0m\u001b[1;33m)\u001b[0m\u001b[1;33m.\u001b[0m\u001b[0mread\u001b[0m\u001b[1;33m(\u001b[0m\u001b[1;33m)\u001b[0m \u001b[1;32mfor\u001b[0m \u001b[0mf\u001b[0m \u001b[1;32min\u001b[0m \u001b[0mfileids\u001b[0m\u001b[1;33m]\u001b[0m\u001b[1;33m)\u001b[0m\u001b[1;33m\u001b[0m\u001b[1;33m\u001b[0m\u001b[0m\n\u001b[0m\u001b[0;32m     33\u001b[0m \u001b[1;33m\u001b[0m\u001b[0m\n\u001b[0;32m     34\u001b[0m \u001b[1;33m\u001b[0m\u001b[0m\n",
      "\u001b[1;32m~\\Anaconda3\\envs\\Rssi\\lib\\site-packages\\nltk\\corpus\\reader\\wordlist.py\u001b[0m in \u001b[0;36m<listcomp>\u001b[1;34m(.0)\u001b[0m\n\u001b[0;32m     30\u001b[0m         \u001b[1;32melif\u001b[0m \u001b[0misinstance\u001b[0m\u001b[1;33m(\u001b[0m\u001b[0mfileids\u001b[0m\u001b[1;33m,\u001b[0m \u001b[0mstr\u001b[0m\u001b[1;33m)\u001b[0m\u001b[1;33m:\u001b[0m\u001b[1;33m\u001b[0m\u001b[1;33m\u001b[0m\u001b[0m\n\u001b[0;32m     31\u001b[0m             \u001b[0mfileids\u001b[0m \u001b[1;33m=\u001b[0m \u001b[1;33m[\u001b[0m\u001b[0mfileids\u001b[0m\u001b[1;33m]\u001b[0m\u001b[1;33m\u001b[0m\u001b[1;33m\u001b[0m\u001b[0m\n\u001b[1;32m---> 32\u001b[1;33m         \u001b[1;32mreturn\u001b[0m \u001b[0mconcat\u001b[0m\u001b[1;33m(\u001b[0m\u001b[1;33m[\u001b[0m\u001b[0mself\u001b[0m\u001b[1;33m.\u001b[0m\u001b[0mopen\u001b[0m\u001b[1;33m(\u001b[0m\u001b[0mf\u001b[0m\u001b[1;33m)\u001b[0m\u001b[1;33m.\u001b[0m\u001b[0mread\u001b[0m\u001b[1;33m(\u001b[0m\u001b[1;33m)\u001b[0m \u001b[1;32mfor\u001b[0m \u001b[0mf\u001b[0m \u001b[1;32min\u001b[0m \u001b[0mfileids\u001b[0m\u001b[1;33m]\u001b[0m\u001b[1;33m)\u001b[0m\u001b[1;33m\u001b[0m\u001b[1;33m\u001b[0m\u001b[0m\n\u001b[0m\u001b[0;32m     33\u001b[0m \u001b[1;33m\u001b[0m\u001b[0m\n\u001b[0;32m     34\u001b[0m \u001b[1;33m\u001b[0m\u001b[0m\n",
      "\u001b[1;32m~\\Anaconda3\\envs\\Rssi\\lib\\site-packages\\nltk\\corpus\\reader\\api.py\u001b[0m in \u001b[0;36mopen\u001b[1;34m(self, file)\u001b[0m\n\u001b[0;32m    206\u001b[0m         \"\"\"\n\u001b[0;32m    207\u001b[0m         \u001b[0mencoding\u001b[0m \u001b[1;33m=\u001b[0m \u001b[0mself\u001b[0m\u001b[1;33m.\u001b[0m\u001b[0mencoding\u001b[0m\u001b[1;33m(\u001b[0m\u001b[0mfile\u001b[0m\u001b[1;33m)\u001b[0m\u001b[1;33m\u001b[0m\u001b[1;33m\u001b[0m\u001b[0m\n\u001b[1;32m--> 208\u001b[1;33m         \u001b[0mstream\u001b[0m \u001b[1;33m=\u001b[0m \u001b[0mself\u001b[0m\u001b[1;33m.\u001b[0m\u001b[0m_root\u001b[0m\u001b[1;33m.\u001b[0m\u001b[0mjoin\u001b[0m\u001b[1;33m(\u001b[0m\u001b[0mfile\u001b[0m\u001b[1;33m)\u001b[0m\u001b[1;33m.\u001b[0m\u001b[0mopen\u001b[0m\u001b[1;33m(\u001b[0m\u001b[0mencoding\u001b[0m\u001b[1;33m)\u001b[0m\u001b[1;33m\u001b[0m\u001b[1;33m\u001b[0m\u001b[0m\n\u001b[0m\u001b[0;32m    209\u001b[0m         \u001b[1;32mreturn\u001b[0m \u001b[0mstream\u001b[0m\u001b[1;33m\u001b[0m\u001b[1;33m\u001b[0m\u001b[0m\n\u001b[0;32m    210\u001b[0m \u001b[1;33m\u001b[0m\u001b[0m\n",
      "\u001b[1;32m~\\Anaconda3\\envs\\Rssi\\lib\\site-packages\\nltk\\data.py\u001b[0m in \u001b[0;36mjoin\u001b[1;34m(self, fileid)\u001b[0m\n\u001b[0;32m    335\u001b[0m     \u001b[1;32mdef\u001b[0m \u001b[0mjoin\u001b[0m\u001b[1;33m(\u001b[0m\u001b[0mself\u001b[0m\u001b[1;33m,\u001b[0m \u001b[0mfileid\u001b[0m\u001b[1;33m)\u001b[0m\u001b[1;33m:\u001b[0m\u001b[1;33m\u001b[0m\u001b[1;33m\u001b[0m\u001b[0m\n\u001b[0;32m    336\u001b[0m         \u001b[0m_path\u001b[0m \u001b[1;33m=\u001b[0m \u001b[0mos\u001b[0m\u001b[1;33m.\u001b[0m\u001b[0mpath\u001b[0m\u001b[1;33m.\u001b[0m\u001b[0mjoin\u001b[0m\u001b[1;33m(\u001b[0m\u001b[0mself\u001b[0m\u001b[1;33m.\u001b[0m\u001b[0m_path\u001b[0m\u001b[1;33m,\u001b[0m \u001b[0mfileid\u001b[0m\u001b[1;33m)\u001b[0m\u001b[1;33m\u001b[0m\u001b[1;33m\u001b[0m\u001b[0m\n\u001b[1;32m--> 337\u001b[1;33m         \u001b[1;32mreturn\u001b[0m \u001b[0mFileSystemPathPointer\u001b[0m\u001b[1;33m(\u001b[0m\u001b[0m_path\u001b[0m\u001b[1;33m)\u001b[0m\u001b[1;33m\u001b[0m\u001b[1;33m\u001b[0m\u001b[0m\n\u001b[0m\u001b[0;32m    338\u001b[0m \u001b[1;33m\u001b[0m\u001b[0m\n\u001b[0;32m    339\u001b[0m     \u001b[1;32mdef\u001b[0m \u001b[0m__repr__\u001b[0m\u001b[1;33m(\u001b[0m\u001b[0mself\u001b[0m\u001b[1;33m)\u001b[0m\u001b[1;33m:\u001b[0m\u001b[1;33m\u001b[0m\u001b[1;33m\u001b[0m\u001b[0m\n",
      "\u001b[1;32m~\\Anaconda3\\envs\\Rssi\\lib\\site-packages\\nltk\\compat.py\u001b[0m in \u001b[0;36m_decorator\u001b[1;34m(*args, **kwargs)\u001b[0m\n\u001b[0;32m     39\u001b[0m     \u001b[1;32mdef\u001b[0m \u001b[0m_decorator\u001b[0m\u001b[1;33m(\u001b[0m\u001b[1;33m*\u001b[0m\u001b[0margs\u001b[0m\u001b[1;33m,\u001b[0m \u001b[1;33m**\u001b[0m\u001b[0mkwargs\u001b[0m\u001b[1;33m)\u001b[0m\u001b[1;33m:\u001b[0m\u001b[1;33m\u001b[0m\u001b[1;33m\u001b[0m\u001b[0m\n\u001b[0;32m     40\u001b[0m         \u001b[0margs\u001b[0m \u001b[1;33m=\u001b[0m \u001b[1;33m(\u001b[0m\u001b[0margs\u001b[0m\u001b[1;33m[\u001b[0m\u001b[1;36m0\u001b[0m\u001b[1;33m]\u001b[0m\u001b[1;33m,\u001b[0m \u001b[0madd_py3_data\u001b[0m\u001b[1;33m(\u001b[0m\u001b[0margs\u001b[0m\u001b[1;33m[\u001b[0m\u001b[1;36m1\u001b[0m\u001b[1;33m]\u001b[0m\u001b[1;33m)\u001b[0m\u001b[1;33m)\u001b[0m \u001b[1;33m+\u001b[0m \u001b[0margs\u001b[0m\u001b[1;33m[\u001b[0m\u001b[1;36m2\u001b[0m\u001b[1;33m:\u001b[0m\u001b[1;33m]\u001b[0m\u001b[1;33m\u001b[0m\u001b[1;33m\u001b[0m\u001b[0m\n\u001b[1;32m---> 41\u001b[1;33m         \u001b[1;32mreturn\u001b[0m \u001b[0minit_func\u001b[0m\u001b[1;33m(\u001b[0m\u001b[1;33m*\u001b[0m\u001b[0margs\u001b[0m\u001b[1;33m,\u001b[0m \u001b[1;33m**\u001b[0m\u001b[0mkwargs\u001b[0m\u001b[1;33m)\u001b[0m\u001b[1;33m\u001b[0m\u001b[1;33m\u001b[0m\u001b[0m\n\u001b[0m\u001b[0;32m     42\u001b[0m \u001b[1;33m\u001b[0m\u001b[0m\n\u001b[0;32m     43\u001b[0m     \u001b[1;32mreturn\u001b[0m \u001b[0mwraps\u001b[0m\u001b[1;33m(\u001b[0m\u001b[0minit_func\u001b[0m\u001b[1;33m)\u001b[0m\u001b[1;33m(\u001b[0m\u001b[0m_decorator\u001b[0m\u001b[1;33m)\u001b[0m\u001b[1;33m\u001b[0m\u001b[1;33m\u001b[0m\u001b[0m\n",
      "\u001b[1;32m~\\Anaconda3\\envs\\Rssi\\lib\\site-packages\\nltk\\data.py\u001b[0m in \u001b[0;36m__init__\u001b[1;34m(self, _path)\u001b[0m\n\u001b[0;32m    312\u001b[0m \u001b[1;33m\u001b[0m\u001b[0m\n\u001b[0;32m    313\u001b[0m         \u001b[0m_path\u001b[0m \u001b[1;33m=\u001b[0m \u001b[0mos\u001b[0m\u001b[1;33m.\u001b[0m\u001b[0mpath\u001b[0m\u001b[1;33m.\u001b[0m\u001b[0mabspath\u001b[0m\u001b[1;33m(\u001b[0m\u001b[0m_path\u001b[0m\u001b[1;33m)\u001b[0m\u001b[1;33m\u001b[0m\u001b[1;33m\u001b[0m\u001b[0m\n\u001b[1;32m--> 314\u001b[1;33m         \u001b[1;32mif\u001b[0m \u001b[1;32mnot\u001b[0m \u001b[0mos\u001b[0m\u001b[1;33m.\u001b[0m\u001b[0mpath\u001b[0m\u001b[1;33m.\u001b[0m\u001b[0mexists\u001b[0m\u001b[1;33m(\u001b[0m\u001b[0m_path\u001b[0m\u001b[1;33m)\u001b[0m\u001b[1;33m:\u001b[0m\u001b[1;33m\u001b[0m\u001b[1;33m\u001b[0m\u001b[0m\n\u001b[0m\u001b[0;32m    315\u001b[0m             \u001b[1;32mraise\u001b[0m \u001b[0mIOError\u001b[0m\u001b[1;33m(\u001b[0m\u001b[1;34m\"No such file or directory: %r\"\u001b[0m \u001b[1;33m%\u001b[0m \u001b[0m_path\u001b[0m\u001b[1;33m)\u001b[0m\u001b[1;33m\u001b[0m\u001b[1;33m\u001b[0m\u001b[0m\n\u001b[0;32m    316\u001b[0m         \u001b[0mself\u001b[0m\u001b[1;33m.\u001b[0m\u001b[0m_path\u001b[0m \u001b[1;33m=\u001b[0m \u001b[0m_path\u001b[0m\u001b[1;33m\u001b[0m\u001b[1;33m\u001b[0m\u001b[0m\n",
      "\u001b[1;32m~\\Anaconda3\\envs\\Rssi\\lib\\genericpath.py\u001b[0m in \u001b[0;36mexists\u001b[1;34m(path)\u001b[0m\n\u001b[0;32m     17\u001b[0m     \u001b[1;34m\"\"\"Test whether a path exists.  Returns False for broken symbolic links\"\"\"\u001b[0m\u001b[1;33m\u001b[0m\u001b[1;33m\u001b[0m\u001b[0m\n\u001b[0;32m     18\u001b[0m     \u001b[1;32mtry\u001b[0m\u001b[1;33m:\u001b[0m\u001b[1;33m\u001b[0m\u001b[1;33m\u001b[0m\u001b[0m\n\u001b[1;32m---> 19\u001b[1;33m         \u001b[0mos\u001b[0m\u001b[1;33m.\u001b[0m\u001b[0mstat\u001b[0m\u001b[1;33m(\u001b[0m\u001b[0mpath\u001b[0m\u001b[1;33m)\u001b[0m\u001b[1;33m\u001b[0m\u001b[1;33m\u001b[0m\u001b[0m\n\u001b[0m\u001b[0;32m     20\u001b[0m     \u001b[1;32mexcept\u001b[0m \u001b[0mOSError\u001b[0m\u001b[1;33m:\u001b[0m\u001b[1;33m\u001b[0m\u001b[1;33m\u001b[0m\u001b[0m\n\u001b[0;32m     21\u001b[0m         \u001b[1;32mreturn\u001b[0m \u001b[1;32mFalse\u001b[0m\u001b[1;33m\u001b[0m\u001b[1;33m\u001b[0m\u001b[0m\n",
      "\u001b[1;31mKeyboardInterrupt\u001b[0m: "
     ]
    }
   ],
   "source": [
    "q['normalized_text'] = q.text.apply(normalizer)\n"
   ]
  },
  {
   "cell_type": "code",
   "execution_count": 136,
   "metadata": {},
   "outputs": [
    {
     "data": {
      "text/plain": [
       "0       wuhan complete quarantine week people still go...\n",
       "1       longer defend make excuse reasoning want inten...\n",
       "2                                      everyone look sick\n",
       "3                                         good came china\n",
       "4                             corona day feel like sunday\n",
       "                              ...                        \n",
       "1619    avg flu infection per year billion avg flue de...\n",
       "1620                          people absolute dogshit lol\n",
       "1621    k ppl believe put cooked corn soil sprout grow...\n",
       "1622    confirmed chloroquine cure corona virus naija ...\n",
       "1623                                          fuck corona\n",
       "Name: normalized_text, Length: 1624, dtype: object"
      ]
     },
     "execution_count": 136,
     "metadata": {},
     "output_type": "execute_result"
    }
   ],
   "source": [
    "x=q['normalized_text']\n",
    "x"
   ]
  },
  {
   "cell_type": "code",
   "execution_count": null,
   "metadata": {},
   "outputs": [],
   "source": []
  },
  {
   "cell_type": "code",
   "execution_count": 249,
   "metadata": {},
   "outputs": [],
   "source": [
    "from sklearn.feature_extraction.text import CountVectorizer\n",
    "from sklearn.model_selection import KFold\n",
    "# max_features = 1000\n",
    "count_vectorizer = CountVectorizer(stop_words=\"english\",max_features=1000)\n",
    "space_matrix = count_vectorizer.fit_transform(x).toarray() \n",
    "\n",
    "f=list(count_vectorizer.get_feature_names())\n",
    "# print(f)"
   ]
  },
  {
   "cell_type": "code",
   "execution_count": 138,
   "metadata": {},
   "outputs": [],
   "source": [
    "# com=pd.read_excel('inquirerbasic.xls')\n",
    "# com=com['head'].head(11787)\n",
    "# com=list(com)\n",
    "# com"
   ]
  },
  {
   "cell_type": "code",
   "execution_count": 139,
   "metadata": {},
   "outputs": [],
   "source": [
    "# fea=[y for y in f if y in com]\n",
    "# fea"
   ]
  },
  {
   "cell_type": "code",
   "execution_count": 140,
   "metadata": {},
   "outputs": [],
   "source": [
    "\n",
    "q['labels']=q['emo'].apply(lambda x:1 if x==\"positive\" else(0 if x==\"negative\" else -1))\n",
    "y =q[\"labels\"].values"
   ]
  },
  {
   "cell_type": "code",
   "execution_count": 141,
   "metadata": {},
   "outputs": [
    {
     "data": {
      "text/plain": [
       "array([[0, 0, 0, ..., 0, 0, 0],\n",
       "       [0, 0, 0, ..., 0, 0, 0],\n",
       "       [0, 0, 0, ..., 0, 0, 0],\n",
       "       ...,\n",
       "       [0, 0, 0, ..., 0, 0, 0],\n",
       "       [0, 0, 0, ..., 0, 0, 0],\n",
       "       [0, 0, 0, ..., 0, 0, 0]], dtype=int64)"
      ]
     },
     "execution_count": 141,
     "metadata": {},
     "output_type": "execute_result"
    }
   ],
   "source": [
    "x = space_matrix\n",
    "x"
   ]
  },
  {
   "cell_type": "code",
   "execution_count": 142,
   "metadata": {},
   "outputs": [
    {
     "name": "stdout",
     "output_type": "stream",
     "text": [
      "x_train (1380, 1000)\n",
      "x_test (244, 1000)\n",
      "y_train (1380,)\n",
      "y_test (244,)\n"
     ]
    }
   ],
   "source": [
    "from sklearn.model_selection import train_test_split\n",
    "x_train,x_test,y_train,y_test = train_test_split(x,y,test_size=0.15,random_state=42)\n",
    "print(\"x_train\",x_train.shape)\n",
    "print(\"x_test\",x_test.shape)\n",
    "print(\"y_train\",y_train.shape)\n",
    "print(\"y_test\",y_test.shape)\n"
   ]
  },
  {
   "cell_type": "code",
   "execution_count": 143,
   "metadata": {},
   "outputs": [
    {
     "name": "stdout",
     "output_type": "stream",
     "text": [
      "Accuracy =>  68.85245901639344\n"
     ]
    }
   ],
   "source": [
    "from sklearn.naive_bayes import GaussianNB\n",
    "nb = GaussianNB()\n",
    "nb.fit(x_train,y_train)\n",
    "print(\"Accuracy => \", nb.score(x_test,y_test)*100)"
   ]
  },
  {
   "cell_type": "code",
   "execution_count": 144,
   "metadata": {},
   "outputs": [
    {
     "name": "stdout",
     "output_type": "stream",
     "text": [
      "accuracy:  83.60655737704919\n"
     ]
    }
   ],
   "source": [
    "from sklearn.ensemble import RandomForestClassifier\n",
    "rf = RandomForestClassifier(n_estimators = 30, random_state=42)\n",
    "rf.fit(x_train,y_train)\n",
    "print(\"accuracy: \",rf.score(x_test,y_test)*100)\n"
   ]
  },
  {
   "cell_type": "code",
   "execution_count": 145,
   "metadata": {},
   "outputs": [],
   "source": [
    "from sklearn.metrics import f1_score\n",
    "from sklearn.metrics import accuracy_score\n",
    "from sklearn.metrics import confusion_matrix\n",
    "from sklearn.metrics import precision_score\n",
    "from sklearn.metrics import f1_score\n",
    "from sklearn.metrics import recall_score"
   ]
  },
  {
   "cell_type": "code",
   "execution_count": 146,
   "metadata": {},
   "outputs": [
    {
     "name": "stdout",
     "output_type": "stream",
     "text": [
      "Accuracy on test set: 76.639%\n",
      "Precision on test set: 0.779\n",
      "Recall on test set: 0.752\n",
      "F1-Score on test set: 0.760\n"
     ]
    }
   ],
   "source": [
    "from sklearn.feature_extraction.text import TfidfVectorizer\n",
    "from sklearn.feature_extraction.text import CountVectorizer\n",
    "from sklearn.model_selection import train_test_split\n",
    "from sklearn.model_selection import GridSearchCV\n",
    "from sklearn.linear_model import SGDClassifier\n",
    "from sklearn.metrics import f1_score\n",
    "from sklearn.metrics import accuracy_score\n",
    "clf = SGDClassifier(loss = 'hinge', alpha = 0.1998, class_weight='balanced', learning_rate='optimal',eta0=0.09) \n",
    "clf.fit(x_train,y_train)\n",
    "y_pred = clf.predict(x_test)\n",
    "print(\"Accuracy on test set: %0.3f%%\"%(accuracy_score(y_test, y_pred)*100))\n",
    "print(\"Precision on test set: %0.3f\"%(precision_score(y_test, y_pred,average='macro')))\n",
    "print(\"Recall on test set: %0.3f\"%(recall_score(y_test, y_pred,average='macro')))\n",
    "print(\"F1-Score on test set: %0.3f\"%(f1_score(y_test, y_pred,average='macro')))\n"
   ]
  },
  {
   "cell_type": "code",
   "execution_count": 147,
   "metadata": {},
   "outputs": [],
   "source": [
    "# dbfile = open('store', 'rb')      \n",
    "# db = pickle.load(dbfile) \n",
    "# for keys in db: \n",
    "#     print(keys, '=>', db[keys]) \n",
    "# dbfile.close()"
   ]
  },
  {
   "cell_type": "code",
   "execution_count": 148,
   "metadata": {},
   "outputs": [],
   "source": [
    "# #confussion matrix\n",
    "# y_pred=rf.predict(x_test)\n",
    "# y_true=y_test\n",
    "# import matplotlib.pyplot as plt\n",
    "# from sklearn.metrics import confusion_matrix\n",
    "# import seaborn as sns\n",
    "# names=[\"-1\",'0','1']\n",
    "# cm=confusion_matrix(y_true,y_pred)\n",
    "# f,ax=plt.subplots(figsize=(5,5))\n",
    "# sns.heatmap(cm,annot=True,linewidth=.5,linecolor=\"r\",fmt=\".0f\",ax=ax)\n",
    "# plt.xlabel(\"y_pred\")\n",
    "# plt.ylabel(\"y_true\")\n",
    "# ax.set_xticklabels(names,rotation=90)\n",
    "# ax.set_yticklabels(names,rotation=0)\n",
    "# plt.show()"
   ]
  },
  {
   "cell_type": "code",
   "execution_count": 149,
   "metadata": {},
   "outputs": [
    {
     "data": {
      "text/plain": [
       "LogisticRegression(C=20, class_weight=None, dual=False, fit_intercept=True,\n",
       "                   intercept_scaling=1, l1_ratio=None, max_iter=1000,\n",
       "                   multi_class='auto', n_jobs=None, penalty='l2',\n",
       "                   random_state=None, solver='lbfgs', tol=0.0001, verbose=0,\n",
       "                   warm_start=False)"
      ]
     },
     "execution_count": 149,
     "metadata": {},
     "output_type": "execute_result"
    }
   ],
   "source": [
    "from sklearn.linear_model import LogisticRegression\n",
    "classifier1 = LogisticRegression(C=20,max_iter=1000)\n",
    "classifier1.fit(x_train, y_train)"
   ]
  },
  {
   "cell_type": "code",
   "execution_count": 150,
   "metadata": {},
   "outputs": [],
   "source": [
    "y_pred = classifier1.predict(x_test)\n",
    "y_prob = classifier1.predict_proba(x_test)"
   ]
  },
  {
   "cell_type": "code",
   "execution_count": 151,
   "metadata": {},
   "outputs": [
    {
     "name": "stdout",
     "output_type": "stream",
     "text": [
      "Accuracy on test set: 81.557%\n",
      "Precision on test set: 0.812\n",
      "Recall on test set: 0.810\n",
      "F1-Score on test set: 0.811\n"
     ]
    }
   ],
   "source": [
    "# print(f1_score(y_test, y_pred))\n",
    "# print(classification_report(y_test, y_pred))\n",
    "# print(confusion_matrix(y_test, y_pred))\n",
    "print(\"Accuracy on test set: %0.3f%%\"%(accuracy_score(y_test, y_pred)*100))\n",
    "print(\"Precision on test set: %0.3f\"%(precision_score(y_test, y_pred,average='macro')))\n",
    "print(\"Recall on test set: %0.3f\"%(recall_score(y_test, y_pred,average='macro')))\n",
    "print(\"F1-Score on test set: %0.3f\"%(f1_score(y_test, y_pred,average='macro')))"
   ]
  },
  {
   "cell_type": "code",
   "execution_count": 152,
   "metadata": {},
   "outputs": [
    {
     "data": {
      "text/plain": [
       "array([[0, 0, 0, 0, 0, 0, 0, 0, 0, 0, 0, 0, 0, 0, 0, 0, 0, 0, 0, 0, 0, 0,\n",
       "        0, 0, 0, 0, 0, 0, 0, 0, 0, 0, 0, 0, 0, 0, 0, 0, 0, 0, 0, 0, 0, 0,\n",
       "        0, 0, 0, 0, 0, 0, 0, 0, 0, 0, 0, 0, 0, 0, 0, 0, 0, 0, 0, 0, 0, 0,\n",
       "        0, 0, 0, 0, 0, 0, 0, 0, 0, 0, 0, 0, 0, 0, 0, 0, 0, 0, 0, 0, 0, 0,\n",
       "        0, 0, 0, 0, 0, 0, 0, 0, 0, 0, 0, 0, 0, 0, 0, 0, 0, 0, 0, 0, 0, 0,\n",
       "        0, 0, 0, 0, 0, 0, 0, 0, 0, 0, 0, 0, 0, 0, 0, 0, 0, 0, 0, 0, 0, 0,\n",
       "        0, 0, 0, 0, 0, 0, 0, 0, 0, 0, 0, 0, 0, 0, 0, 0, 0, 0, 0, 0, 0, 0,\n",
       "        0, 0, 0, 0, 0, 0, 0, 1, 0, 0, 0, 0, 0, 0, 0, 0, 0, 0, 0, 0, 0, 0,\n",
       "        0, 0, 0, 0, 0, 0, 0, 0, 0, 0, 0, 0, 0, 0, 0, 0, 0, 0, 0, 0, 0, 0,\n",
       "        0, 0, 0, 0, 0, 0, 0, 0, 0, 0, 0, 0, 0, 0, 0, 0, 0, 0, 0, 0, 0, 0,\n",
       "        0, 0, 0, 0, 0, 0, 0, 0, 0, 0, 0, 0, 0, 0, 0, 0, 0, 0, 0, 0, 0, 0,\n",
       "        0, 0, 0, 0, 0, 0, 0, 0, 0, 0, 0, 0, 0, 0, 0, 0, 0, 0, 0, 0, 0, 0,\n",
       "        0, 0, 0, 0, 0, 0, 0, 0, 0, 0, 0, 0, 0, 0, 0, 0, 0, 0, 0, 0, 0, 0,\n",
       "        0, 0, 0, 0, 0, 0, 0, 0, 0, 0, 0, 0, 0, 0, 0, 0, 0, 0, 0, 0, 0, 0,\n",
       "        0, 0, 0, 0, 0, 0, 0, 0, 0, 0, 0, 0, 0, 0, 0, 0, 0, 0, 0, 0, 0, 0,\n",
       "        0, 0, 0, 0, 0, 0, 0, 0, 0, 0, 0, 0, 0, 0, 0, 0, 0, 0, 0, 0, 0, 0,\n",
       "        0, 0, 0, 0, 0, 0, 0, 0, 0, 0, 0, 0, 0, 0, 0, 0, 0, 0, 0, 0, 0, 0,\n",
       "        0, 0, 0, 0, 0, 0, 0, 0, 0, 0, 0, 0, 0, 0, 0, 0, 0, 0, 0, 0, 0, 0,\n",
       "        0, 0, 1, 0, 0, 0, 0, 0, 0, 0, 0, 0, 0, 0, 0, 0, 0, 0, 0, 0, 0, 0,\n",
       "        0, 0, 0, 0, 0, 0, 0, 0, 0, 0, 0, 0, 0, 0, 0, 0, 0, 0, 0, 0, 0, 0,\n",
       "        0, 0, 0, 0, 0, 0, 0, 0, 0, 0, 0, 0, 0, 0, 0, 0, 0, 0, 0, 0, 0, 0,\n",
       "        0, 0, 0, 0, 0, 0, 0, 0, 0, 0, 0, 0, 0, 0, 0, 0, 0, 0, 0, 0, 0, 0,\n",
       "        0, 0, 0, 0, 0, 0, 0, 0, 0, 0, 0, 0, 0, 0, 0, 0, 0, 0, 0, 0, 0, 0,\n",
       "        0, 0, 0, 0, 0, 0, 0, 0, 0, 0, 0, 0, 0, 0, 0, 0, 0, 0, 0, 0, 0, 0,\n",
       "        0, 0, 0, 0, 0, 0, 0, 0, 0, 0, 0, 0, 0, 0, 0, 0, 0, 0, 0, 0, 0, 0,\n",
       "        0, 0, 0, 0, 0, 0, 0, 0, 0, 0, 0, 0, 0, 0, 0, 0, 0, 0, 0, 0, 0, 0,\n",
       "        0, 0, 0, 0, 0, 0, 0, 0, 0, 0, 0, 0, 0, 0, 0, 0, 0, 0, 0, 0, 0, 0,\n",
       "        0, 0, 0, 0, 0, 0, 0, 0, 0, 0, 0, 0, 0, 0, 0, 0, 0, 0, 0, 0, 0, 0,\n",
       "        0, 0, 0, 0, 0, 0, 0, 0, 0, 0, 0, 0, 0, 0, 0, 0, 0, 0, 0, 0, 0, 0,\n",
       "        0, 0, 0, 0, 0, 0, 0, 0, 0, 0, 0, 0, 0, 0, 0, 0, 0, 0, 0, 0, 0, 0,\n",
       "        0, 0, 0, 0, 0, 0, 0, 0, 0, 0, 0, 0, 0, 0, 0, 0, 0, 0, 0, 0, 0, 0,\n",
       "        0, 0, 0, 0, 0, 0, 0, 0, 0, 0, 0, 0, 0, 0, 0, 0, 0, 0, 0, 0, 0, 0,\n",
       "        0, 0, 0, 0, 0, 0, 0, 0, 0, 0, 0, 0, 0, 0, 0, 0, 0, 0, 0, 0, 0, 0,\n",
       "        0, 0, 0, 0, 0, 0, 0, 0, 0, 0, 0, 0, 0, 0, 0, 0, 0, 0, 0, 0, 0, 0,\n",
       "        0, 0, 0, 0, 1, 0, 0, 0, 0, 0, 0, 0, 0, 0, 0, 0, 0, 0, 0, 0, 0, 0,\n",
       "        0, 0, 0, 0, 0, 0, 0, 0, 0, 0, 0, 0, 0, 0, 0, 0, 0, 0, 0, 0, 0, 0,\n",
       "        0, 0, 0, 0, 0, 0, 0, 0, 0, 0, 0, 0, 0, 0, 0, 0, 0, 0, 0, 0, 0, 0,\n",
       "        0, 0, 0, 0, 0, 0, 0, 0, 0, 0, 0, 0, 0, 0, 0, 0, 0, 0, 1, 0, 0, 0,\n",
       "        0, 0, 0, 0, 0, 0, 0, 0, 0, 0, 0, 0, 0, 0, 0, 0, 0, 0, 0, 0, 0, 0,\n",
       "        0, 0, 0, 0, 0, 0, 0, 0, 0, 0, 0, 0, 0, 0, 0, 0, 0, 0, 0, 0, 0, 0,\n",
       "        0, 0, 0, 0, 0, 0, 0, 0, 0, 0, 0, 0, 0, 0, 0, 0, 0, 0, 0, 0, 0, 0,\n",
       "        0, 0, 0, 0, 0, 0, 0, 0, 0, 0, 0, 0, 0, 0, 0, 0, 0, 0, 0, 0, 0, 0,\n",
       "        0, 0, 0, 0, 0, 0, 0, 0, 0, 1, 0, 0, 0, 0, 0, 0, 0, 0, 0, 0, 0, 0,\n",
       "        0, 0, 0, 0, 0, 0, 0, 0, 0, 0, 0, 0, 0, 0, 0, 0, 0, 0, 0, 0, 0, 0,\n",
       "        0, 0, 0, 0, 0, 0, 0, 0, 0, 0, 0, 0, 0, 0, 0, 0, 0, 0, 0, 0, 0, 0,\n",
       "        0, 0, 0, 0, 0, 0, 0, 0, 0, 0]], dtype=int64)"
      ]
     },
     "execution_count": 152,
     "metadata": {},
     "output_type": "execute_result"
    }
   ],
   "source": [
    "k=normalizer('A cleric was saying Muslims are immune to corona virus, well some of you don’t deserve Islam.You are too stupid to be…')\n",
    "# print(k)\n",
    "k=pd.Series(k)\n",
    "l=count_vectorizer.transform(k).toarray()\n",
    "l"
   ]
  },
  {
   "cell_type": "code",
   "execution_count": 64,
   "metadata": {},
   "outputs": [
    {
     "data": {
      "text/plain": [
       "array([0], dtype=int64)"
      ]
     },
     "execution_count": 64,
     "metadata": {},
     "output_type": "execute_result"
    }
   ],
   "source": [
    "classifier1.predict(l)"
   ]
  },
  {
   "cell_type": "code",
   "execution_count": 65,
   "metadata": {},
   "outputs": [],
   "source": [
    "cross=pd.read_csv('cross.csv')"
   ]
  },
  {
   "cell_type": "code",
   "execution_count": 229,
   "metadata": {},
   "outputs": [
    {
     "data": {
      "text/html": [
       "<div>\n",
       "<style scoped>\n",
       "    .dataframe tbody tr th:only-of-type {\n",
       "        vertical-align: middle;\n",
       "    }\n",
       "\n",
       "    .dataframe tbody tr th {\n",
       "        vertical-align: top;\n",
       "    }\n",
       "\n",
       "    .dataframe thead th {\n",
       "        text-align: right;\n",
       "    }\n",
       "</style>\n",
       "<table border=\"1\" class=\"dataframe\">\n",
       "  <thead>\n",
       "    <tr style=\"text-align: right;\">\n",
       "      <th></th>\n",
       "      <th>text</th>\n",
       "    </tr>\n",
       "  </thead>\n",
       "  <tbody>\n",
       "    <tr>\n",
       "      <th>0</th>\n",
       "      <td>I`d have responded, if I were going</td>\n",
       "    </tr>\n",
       "    <tr>\n",
       "      <th>1</th>\n",
       "      <td>Sooo SAD I will miss you here in San Diego!!!</td>\n",
       "    </tr>\n",
       "    <tr>\n",
       "      <th>2</th>\n",
       "      <td>my boss is bullying me...</td>\n",
       "    </tr>\n",
       "    <tr>\n",
       "      <th>3</th>\n",
       "      <td>what interview! leave me alone</td>\n",
       "    </tr>\n",
       "    <tr>\n",
       "      <th>4</th>\n",
       "      <td>Sons of ****, why couldn`t they put them on t...</td>\n",
       "    </tr>\n",
       "    <tr>\n",
       "      <th>...</th>\n",
       "      <td>...</td>\n",
       "    </tr>\n",
       "    <tr>\n",
       "      <th>295</th>\n",
       "      <td>Watching Ellen Love her!! then doing the dishe...</td>\n",
       "    </tr>\n",
       "    <tr>\n",
       "      <th>296</th>\n",
       "      <td>what`s goin on hun?  I`m worried about you</td>\n",
       "    </tr>\n",
       "    <tr>\n",
       "      <th>297</th>\n",
       "      <td>Im not bannished... but I am at work till 6</td>\n",
       "    </tr>\n",
       "    <tr>\n",
       "      <th>298</th>\n",
       "      <td>Morning! If I get to see it, I`ll let you kno...</td>\n",
       "    </tr>\n",
       "    <tr>\n",
       "      <th>299</th>\n",
       "      <td>red top tabloids, build em up, knock em down</td>\n",
       "    </tr>\n",
       "  </tbody>\n",
       "</table>\n",
       "<p>300 rows × 1 columns</p>\n",
       "</div>"
      ],
      "text/plain": [
       "                                                  text\n",
       "0                  I`d have responded, if I were going\n",
       "1        Sooo SAD I will miss you here in San Diego!!!\n",
       "2                            my boss is bullying me...\n",
       "3                       what interview! leave me alone\n",
       "4     Sons of ****, why couldn`t they put them on t...\n",
       "..                                                 ...\n",
       "295  Watching Ellen Love her!! then doing the dishe...\n",
       "296         what`s goin on hun?  I`m worried about you\n",
       "297        Im not bannished... but I am at work till 6\n",
       "298   Morning! If I get to see it, I`ll let you kno...\n",
       "299       red top tabloids, build em up, knock em down\n",
       "\n",
       "[300 rows x 1 columns]"
      ]
     },
     "execution_count": 229,
     "metadata": {},
     "output_type": "execute_result"
    }
   ],
   "source": [
    "cross_x=cross[0:300]\n",
    "x=cross_x['text']\n",
    "y=cross_x['sentiment']\n",
    "x=pd.DataFrame(x)\n",
    "\n",
    "y=pd.DataFrame(y)\n",
    "x"
   ]
  },
  {
   "cell_type": "code",
   "execution_count": 230,
   "metadata": {},
   "outputs": [
    {
     "data": {
      "text/html": [
       "<div>\n",
       "<style scoped>\n",
       "    .dataframe tbody tr th:only-of-type {\n",
       "        vertical-align: middle;\n",
       "    }\n",
       "\n",
       "    .dataframe tbody tr th {\n",
       "        vertical-align: top;\n",
       "    }\n",
       "\n",
       "    .dataframe thead th {\n",
       "        text-align: right;\n",
       "    }\n",
       "</style>\n",
       "<table border=\"1\" class=\"dataframe\">\n",
       "  <thead>\n",
       "    <tr style=\"text-align: right;\">\n",
       "      <th></th>\n",
       "      <th>sentiment</th>\n",
       "      <th>pole</th>\n",
       "    </tr>\n",
       "  </thead>\n",
       "  <tbody>\n",
       "    <tr>\n",
       "      <th>0</th>\n",
       "      <td>neutral</td>\n",
       "      <td>0</td>\n",
       "    </tr>\n",
       "    <tr>\n",
       "      <th>1</th>\n",
       "      <td>negative</td>\n",
       "      <td>-1</td>\n",
       "    </tr>\n",
       "    <tr>\n",
       "      <th>2</th>\n",
       "      <td>negative</td>\n",
       "      <td>-1</td>\n",
       "    </tr>\n",
       "    <tr>\n",
       "      <th>3</th>\n",
       "      <td>negative</td>\n",
       "      <td>-1</td>\n",
       "    </tr>\n",
       "    <tr>\n",
       "      <th>4</th>\n",
       "      <td>negative</td>\n",
       "      <td>-1</td>\n",
       "    </tr>\n",
       "    <tr>\n",
       "      <th>...</th>\n",
       "      <td>...</td>\n",
       "      <td>...</td>\n",
       "    </tr>\n",
       "    <tr>\n",
       "      <th>295</th>\n",
       "      <td>positive</td>\n",
       "      <td>1</td>\n",
       "    </tr>\n",
       "    <tr>\n",
       "      <th>296</th>\n",
       "      <td>negative</td>\n",
       "      <td>-1</td>\n",
       "    </tr>\n",
       "    <tr>\n",
       "      <th>297</th>\n",
       "      <td>negative</td>\n",
       "      <td>-1</td>\n",
       "    </tr>\n",
       "    <tr>\n",
       "      <th>298</th>\n",
       "      <td>neutral</td>\n",
       "      <td>0</td>\n",
       "    </tr>\n",
       "    <tr>\n",
       "      <th>299</th>\n",
       "      <td>neutral</td>\n",
       "      <td>0</td>\n",
       "    </tr>\n",
       "  </tbody>\n",
       "</table>\n",
       "<p>300 rows × 2 columns</p>\n",
       "</div>"
      ],
      "text/plain": [
       "    sentiment  pole\n",
       "0     neutral     0\n",
       "1    negative    -1\n",
       "2    negative    -1\n",
       "3    negative    -1\n",
       "4    negative    -1\n",
       "..        ...   ...\n",
       "295  positive     1\n",
       "296  negative    -1\n",
       "297  negative    -1\n",
       "298   neutral     0\n",
       "299   neutral     0\n",
       "\n",
       "[300 rows x 2 columns]"
      ]
     },
     "execution_count": 230,
     "metadata": {},
     "output_type": "execute_result"
    }
   ],
   "source": [
    "y['pole']=y['sentiment'].apply(lambda x: 1 if x == 'positive' else(-1 if x=='negative' else 0 ))\n",
    "f=y\n",
    "f"
   ]
  },
  {
   "cell_type": "code",
   "execution_count": 231,
   "metadata": {},
   "outputs": [],
   "source": [
    "x['normalized_text'] = x.text.apply(normalizer)"
   ]
  },
  {
   "cell_type": "code",
   "execution_count": 232,
   "metadata": {},
   "outputs": [
    {
     "data": {
      "text/plain": [
       "0                                        responded going\n",
       "1                                sooo sad miss san diego\n",
       "2                                           bos bullying\n",
       "3                                  interview leave alone\n",
       "4                         son put release already bought\n",
       "                             ...                        \n",
       "295            watching ellen love dish tanning gorgeous\n",
       "296                                     goin hun worried\n",
       "297                               im bannished work till\n",
       "298    morning get see let know right going go see wo...\n",
       "299                    red top tabloid build em knock em\n",
       "Name: normalized_text, Length: 300, dtype: object"
      ]
     },
     "execution_count": 232,
     "metadata": {},
     "output_type": "execute_result"
    }
   ],
   "source": [
    "p=x['normalized_text'] \n",
    "p"
   ]
  },
  {
   "cell_type": "code",
   "execution_count": 233,
   "metadata": {},
   "outputs": [
    {
     "data": {
      "text/plain": [
       "array([[0, 0, 0, ..., 0, 0, 0],\n",
       "       [0, 0, 0, ..., 0, 0, 0],\n",
       "       [0, 0, 0, ..., 0, 0, 0],\n",
       "       ...,\n",
       "       [0, 0, 0, ..., 0, 0, 0],\n",
       "       [0, 0, 0, ..., 0, 0, 0],\n",
       "       [0, 0, 0, ..., 0, 0, 0]], dtype=int64)"
      ]
     },
     "execution_count": 233,
     "metadata": {},
     "output_type": "execute_result"
    }
   ],
   "source": [
    "l=count_vectorizer.transform(p).toarray()\n",
    "l"
   ]
  },
  {
   "cell_type": "code",
   "execution_count": 234,
   "metadata": {},
   "outputs": [
    {
     "data": {
      "text/plain": [
       "array([-1, -1, -1,  0, -1,  1,  0, -1, -1, -1,  1,  1, -1, -1,  1, -1,  1,\n",
       "        0,  0, -1, -1,  1, -1,  1,  0, -1,  0, -1, -1, -1,  1, -1, -1,  0,\n",
       "       -1, -1,  0,  1, -1,  1, -1,  1, -1,  0,  1, -1, -1, -1,  0,  1, -1,\n",
       "       -1, -1, -1,  0, -1,  1, -1, -1, -1, -1, -1, -1,  0, -1, -1,  1,  1,\n",
       "       -1, -1, -1,  1, -1, -1,  1,  1,  1, -1,  0, -1, -1, -1, -1,  0,  0,\n",
       "        1,  1,  1,  0,  1,  1, -1, -1,  0, -1, -1,  1, -1, -1,  1, -1, -1,\n",
       "       -1, -1, -1,  0,  0,  1,  1,  1,  0, -1, -1, -1,  1,  0, -1, -1, -1,\n",
       "       -1,  0,  0,  1,  1, -1, -1, -1, -1, -1, -1,  1,  1, -1, -1,  1, -1,\n",
       "        1, -1, -1, -1, -1,  1, -1,  1, -1,  1, -1,  1, -1, -1, -1,  1,  0,\n",
       "       -1, -1, -1, -1,  1, -1,  1,  1, -1, -1, -1, -1,  1,  1,  1,  1,  1,\n",
       "        1,  1, -1, -1, -1, -1,  1, -1,  1,  1, -1, -1,  1,  0, -1,  1,  0,\n",
       "        0,  0, -1,  0,  1, -1, -1, -1, -1, -1, -1,  1, -1, -1,  0, -1, -1,\n",
       "       -1, -1,  1,  1, -1,  1, -1, -1,  0,  1,  1, -1,  0, -1, -1,  1, -1,\n",
       "        1,  1,  0, -1,  0,  1,  1,  1, -1, -1, -1,  1, -1,  1, -1,  1, -1,\n",
       "       -1, -1, -1,  1,  1, -1,  0, -1, -1, -1,  0,  1,  1, -1, -1, -1,  1,\n",
       "       -1, -1,  1,  1, -1,  1,  0, -1,  1,  1, -1, -1, -1, -1, -1,  1, -1,\n",
       "        1,  1,  1,  1,  1,  1,  1, -1,  1, -1,  0,  1, -1,  0,  1, -1, -1,\n",
       "       -1,  0, -1, -1,  1, -1,  1, -1, -1, -1, -1], dtype=int64)"
      ]
     },
     "execution_count": 234,
     "metadata": {},
     "output_type": "execute_result"
    }
   ],
   "source": [
    "m=classifier1.predict(l)\n",
    "m"
   ]
  },
  {
   "cell_type": "code",
   "execution_count": 235,
   "metadata": {},
   "outputs": [
    {
     "data": {
      "text/plain": [
       "array([ 0, -1, -1, -1, -1,  0,  1,  0,  0,  1,  0,  1, -1, -1,  0, -1, -1,\n",
       "       -1, -1,  0,  0,  1,  0,  0,  0,  1, -1, -1,  1, -1,  1,  1, -1,  1,\n",
       "        0,  0, -1,  0, -1,  1,  0,  1,  0,  0,  1,  0, -1,  0, -1, -1,  0,\n",
       "        0,  0, -1,  1,  0, -1,  0, -1,  0, -1,  0, -1,  1, -1,  0,  1,  0,\n",
       "        1,  0,  0,  1,  0,  0,  0,  0, -1,  0, -1,  0,  1,  1,  0, -1, -1,\n",
       "        1,  0,  0, -1,  1,  1,  0,  0, -1,  0,  1, -1, -1,  0,  1,  1,  0,\n",
       "       -1, -1,  1,  0,  0,  1,  1,  1,  0,  0,  1,  0,  1, -1, -1,  1,  1,\n",
       "        0,  0,  0, -1, -1, -1,  1,  0,  0,  0,  1,  1,  1, -1, -1,  1,  1,\n",
       "        0,  0,  0, -1,  0, -1, -1, -1, -1,  0, -1,  0,  1,  1,  0,  1, -1,\n",
       "        1, -1,  0,  0,  0, -1,  1, -1,  0,  0, -1,  0, -1,  1,  0,  1,  1,\n",
       "        1,  1, -1,  0,  0, -1, -1,  0, -1,  0,  0,  1,  1, -1,  0,  0,  0,\n",
       "       -1,  0, -1,  1,  1,  0, -1, -1,  0, -1,  1,  0,  0, -1, -1,  0,  0,\n",
       "       -1, -1,  1,  0,  1,  0,  1,  0,  1,  1,  0,  0,  0,  1, -1,  0,  0,\n",
       "        0,  0, -1,  0, -1,  1,  1,  1,  1,  0,  1,  1,  0,  0,  0,  1,  0,\n",
       "        0,  1,  1,  0,  0,  0,  0,  1,  0, -1, -1,  0,  0,  0,  1,  0, -1,\n",
       "        0,  0,  1,  0,  0, -1,  1,  0,  0,  1,  1,  1,  1,  0,  0,  0,  0,\n",
       "        0,  1,  1,  1,  1,  1,  1,  0,  1, -1, -1,  1, -1,  1,  1,  0, -1,\n",
       "        0, -1,  0, -1,  0,  0,  1, -1, -1,  0,  0], dtype=int64)"
      ]
     },
     "execution_count": 235,
     "metadata": {},
     "output_type": "execute_result"
    }
   ],
   "source": [
    "f=np.array(f['pole'])\n",
    "f"
   ]
  },
  {
   "cell_type": "code",
   "execution_count": 236,
   "metadata": {},
   "outputs": [
    {
     "data": {
      "text/plain": [
       "31.666666666666664"
      ]
     },
     "execution_count": 236,
     "metadata": {},
     "output_type": "execute_result"
    }
   ],
   "source": [
    "# accuracy_score((m, f['pole'])*100\n",
    "rf.score(l,f)*100"
   ]
  },
  {
   "cell_type": "code",
   "execution_count": 237,
   "metadata": {},
   "outputs": [
    {
     "name": "stdout",
     "output_type": "stream",
     "text": [
      "[-1 -1 -1  0 -1  1  0 -1 -1 -1  1  1 -1 -1  1 -1  1  0  0 -1 -1  1 -1  1\n",
      "  0 -1  0 -1 -1 -1  1 -1 -1  0 -1 -1  0  1 -1  1 -1  1 -1  0  1 -1 -1 -1\n",
      "  0  1 -1 -1 -1 -1  0 -1  1 -1 -1 -1 -1 -1 -1  0 -1 -1  1  1 -1 -1 -1  1\n",
      " -1 -1  1  1  1 -1  0 -1 -1 -1 -1  0  0  1  1  1  0  1  1 -1 -1  0 -1 -1\n",
      "  1 -1 -1  1 -1 -1 -1 -1 -1  0  0  1  1  1  0 -1 -1 -1  1  0 -1 -1 -1 -1\n",
      "  0  0  1  1 -1 -1 -1 -1 -1 -1  1  1 -1 -1  1 -1  1 -1 -1 -1 -1  1 -1  1\n",
      " -1  1 -1  1 -1 -1 -1  1  0 -1 -1 -1 -1  1 -1  1  1 -1 -1 -1 -1  1  1  1\n",
      "  1  1  1  1 -1 -1 -1 -1  1 -1  1  1 -1 -1  1  0 -1  1  0  0  0 -1  0  1\n",
      " -1 -1 -1 -1 -1 -1  1 -1 -1  0 -1 -1 -1 -1  1  1 -1  1 -1 -1  0  1  1 -1\n",
      "  0 -1 -1  1 -1  1  1  0 -1  0  1  1  1 -1 -1 -1  1 -1  1 -1  1 -1 -1 -1\n",
      " -1  1  1 -1  0 -1 -1 -1  0  1  1 -1 -1 -1  1 -1 -1  1  1 -1  1  0 -1  1\n",
      "  1 -1 -1 -1 -1 -1  1 -1  1  1  1  1  1  1  1 -1  1 -1  0  1 -1  0  1 -1\n",
      " -1 -1  0 -1 -1  1 -1  1 -1 -1 -1 -1]\n"
     ]
    },
    {
     "data": {
      "text/plain": [
       "35.0"
      ]
     },
     "execution_count": 237,
     "metadata": {},
     "output_type": "execute_result"
    }
   ],
   "source": [
    "y_pred = classifier1.predict(l)\n",
    "y_prob = classifier1.predict_proba(l)\n",
    "print(y_pred)\n",
    "accuracy_score(f, y_pred)*100"
   ]
  },
  {
   "cell_type": "code",
   "execution_count": 241,
   "metadata": {},
   "outputs": [
    {
     "data": {
      "text/plain": [
       "0                                        responded going\n",
       "1                                sooo sad miss san diego\n",
       "2                                           bos bullying\n",
       "3                                  interview leave alone\n",
       "4                         son put release already bought\n",
       "                             ...                        \n",
       "295            watching ellen love dish tanning gorgeous\n",
       "296                                     goin hun worried\n",
       "297                               im bannished work till\n",
       "298    morning get see let know right going go see wo...\n",
       "299                    red top tabloid build em knock em\n",
       "Name: normalized_text, Length: 300, dtype: object"
      ]
     },
     "execution_count": 241,
     "metadata": {},
     "output_type": "execute_result"
    }
   ],
   "source": [
    "p"
   ]
  },
  {
   "cell_type": "code",
   "execution_count": 243,
   "metadata": {},
   "outputs": [
    {
     "ename": "ImportError",
     "evalue": "cannot import name 'cross_validation' from 'sklearn' (C:\\Users\\HP\\Anaconda3\\envs\\Rssi\\lib\\site-packages\\sklearn\\__init__.py)",
     "output_type": "error",
     "traceback": [
      "\u001b[1;31m---------------------------------------------------------------------------\u001b[0m",
      "\u001b[1;31mImportError\u001b[0m                               Traceback (most recent call last)",
      "\u001b[1;32m<ipython-input-243-7b5f60c5197c>\u001b[0m in \u001b[0;36m<module>\u001b[1;34m\u001b[0m\n\u001b[1;32m----> 1\u001b[1;33m \u001b[1;32mfrom\u001b[0m \u001b[0msklearn\u001b[0m \u001b[1;32mimport\u001b[0m \u001b[0mcross_validation\u001b[0m\u001b[1;33m\u001b[0m\u001b[1;33m\u001b[0m\u001b[0m\n\u001b[0m",
      "\u001b[1;31mImportError\u001b[0m: cannot import name 'cross_validation' from 'sklearn' (C:\\Users\\HP\\Anaconda3\\envs\\Rssi\\lib\\site-packages\\sklearn\\__init__.py)"
     ]
    }
   ],
   "source": [
    " from sklearn import cross_validation"
   ]
  },
  {
   "cell_type": "code",
   "execution_count": null,
   "metadata": {},
   "outputs": [],
   "source": []
  }
 ],
 "metadata": {
  "kernelspec": {
   "display_name": "Python 3",
   "language": "python",
   "name": "python3"
  },
  "language_info": {
   "codemirror_mode": {
    "name": "ipython",
    "version": 3
   },
   "file_extension": ".py",
   "mimetype": "text/x-python",
   "name": "python",
   "nbconvert_exporter": "python",
   "pygments_lexer": "ipython3",
   "version": "3.7.5"
  }
 },
 "nbformat": 4,
 "nbformat_minor": 2
}
